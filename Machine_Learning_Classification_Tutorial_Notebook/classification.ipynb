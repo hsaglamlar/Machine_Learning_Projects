{
 "cells": [
  {
   "cell_type": "markdown",
   "metadata": {},
   "source": [
    "# What Is Classification"
   ]
  },
  {
   "cell_type": "markdown",
   "metadata": {},
   "source": [
    "Classification is grouping of objects and samples into preset categories."
   ]
  },
  {
   "cell_type": "markdown",
   "metadata": {},
   "source": [
    "<img src=\"img/classification_vs_regression.png\" width=40%>"
   ]
  },
  {
   "cell_type": "markdown",
   "metadata": {},
   "source": [
    "There are two types of classification; **Binary** and **Multiclass**"
   ]
  },
  {
   "cell_type": "markdown",
   "metadata": {},
   "source": [
    "<img src=\"img/binary_multi.png\" width=40%>\n",
    "\n",
    "[credit](https://medium.com/@b.terryjack/tips-and-tricks-for-multi-class-classification-c184ae1c8ffc)  \n",
    "\n",
    "In SVM (Support Vector Machine) decision for binary classification:\n",
    "- $wx+b=0$ , on the line\n",
    "- $wx+b>0$, positive class \n",
    "- $wx+b<0$, negative class"
   ]
  },
  {
   "cell_type": "markdown",
   "metadata": {},
   "source": [
    "<img src=\"img/lr_1.png\" width=60%>"
   ]
  },
  {
   "cell_type": "markdown",
   "metadata": {},
   "source": [
    "In Logistic Regression, linear model is fit to sigmoid function to provide below constraints\n",
    "\n",
    "- $f(x)>0.5$, positive class \n",
    "- $f(x)<0.5$, negative class"
   ]
  },
  {
   "cell_type": "markdown",
   "metadata": {},
   "source": [
    "# Performance Metrics On Classification Tasks"
   ]
  },
  {
   "cell_type": "markdown",
   "metadata": {},
   "source": [
    "![confusion matrix](img/metrics1.png)\n",
    "\n",
    "[credit](https://media-exp1.licdn.com/dms/document/C561FAQH6IGK-gLA7VQ/feedshare-document-pdf-analyzed/0/1646243769182?e=1646553600&v=beta&t=gW_m3PNakV7LWD2Php09dAc4iDk69806vfZmGweuuW8)"
   ]
  },
  {
   "cell_type": "markdown",
   "metadata": {},
   "source": [
    "## Accuracy"
   ]
  },
  {
   "cell_type": "markdown",
   "metadata": {},
   "source": [
    "``Accuracy = (All corectly predcited) / (All Samples)``\n",
    "\n",
    "$Recall = (TP+TN) / (FP+TP+TN+FN) $\n"
   ]
  },
  {
   "cell_type": "markdown",
   "metadata": {},
   "source": [
    "<img src=\"img/accuracy.png\" width=50%>"
   ]
  },
  {
   "cell_type": "markdown",
   "metadata": {},
   "source": [
    "Problem with accuracy in unbalanced data with 100 (10 + 90) samples:\n",
    "\n",
    "\n",
    "|                    | Predicted Not Cancer |Predicted Cancer |\n",
    "| -----------        | ---                  | ---             |\n",
    "| Actual Not Cancer  | 88                   | 2               |\n",
    "| Actual Cancer      | 7                    | 3               |\n",
    "\n",
    "\n",
    "$Accuracy = (3 + 88) / 100 = 91\\%$"
   ]
  },
  {
   "cell_type": "markdown",
   "metadata": {},
   "source": [
    "## Recall (Sensitivity, True Positive Rate)"
   ]
  },
  {
   "cell_type": "markdown",
   "metadata": {},
   "source": [
    " ``Recall = (All corectly predcited Positive Samples) / (All Actual Positive Samples)`` \n",
    " \n",
    "  $Recall = TP / (TP + FN) $"
   ]
  },
  {
   "cell_type": "markdown",
   "metadata": {},
   "source": [
    "<img src=\"img/ds1.png\" width=50%>\n",
    "\n",
    "$TP / (TP + FN) = 4 / 5 = 80\\%$"
   ]
  },
  {
   "cell_type": "markdown",
   "metadata": {},
   "source": [
    "Problem with recall in unbalanced data with 100 (10 + 90) samples:\n",
    "\n",
    "\n",
    "|                    | Predicted Not Cancer |Predicted Cancer |\n",
    "| -----------        | ---                  | ---             |\n",
    "| Actual Not Cancer  | 88                   | 2               |\n",
    "| Actual Cancer      | 7                    | 3               |\n",
    "\n",
    "\n",
    "$Recall= 3 / (3+7) = 30\\% $\n",
    "\n",
    "(Accuracy is 85%)"
   ]
  },
  {
   "cell_type": "markdown",
   "metadata": {},
   "source": [
    "<img src=\"img/hack_recall.png\" width=50%>\n",
    "\n",
    "[credit](https://media-exp1.licdn.com/dms/document/C561FAQH6IGK-gLA7VQ/feedshare-document-pdf-analyzed/0/1646243769182?e=1646553600&v=beta&t=gW_m3PNakV7LWD2Php09dAc4iDk69806vfZmGweuuW8)\n"
   ]
  },
  {
   "cell_type": "markdown",
   "metadata": {},
   "source": [
    "## Presicion"
   ]
  },
  {
   "cell_type": "markdown",
   "metadata": {},
   "source": [
    " ``Presicion = (corectly predcited Positive Samples) / (All predcited Positives (correct or not))`` \n",
    " \n",
    "$ Presicion = TP / (TP + FP) $"
   ]
  },
  {
   "cell_type": "markdown",
   "metadata": {},
   "source": [
    "<img src=\"img/ds1.png\" width=50%>\n",
    "\n",
    "$TP / (TP + FP) = 4 / 6 = 66\\% $"
   ]
  },
  {
   "cell_type": "markdown",
   "metadata": {},
   "source": [
    "In unbalanced data with 100 (10 + 90) samples:\n",
    "\n",
    "\n",
    "|                    | Predicted Not Cancer |Predicted Cancer |\n",
    "| -----------        | ---                  | ---             |\n",
    "| Actual Not Cancer  | 88                   | 2               |\n",
    "| Actual Cancer      | 7                    | 3               |\n",
    "\n",
    "\n",
    "$Presicion= 3 / (3 + 2) = 60\\% $\n",
    "\n",
    "(Accuracy:85%, Recall:30%)"
   ]
  },
  {
   "cell_type": "markdown",
   "metadata": {},
   "source": [
    "<img src=\"img/hack_presicion.png\" width=50%>\n"
   ]
  },
  {
   "cell_type": "markdown",
   "metadata": {},
   "source": [
    "## F1 Score"
   ]
  },
  {
   "cell_type": "markdown",
   "metadata": {},
   "source": [
    "``F1 = 2 * Presicion * Recall / (Presicion + Recall)``\n",
    "\n",
    "- Harmonic mean of Presicion & Recall\n",
    "- Balance metric between Presicion & Recall\n",
    "- Usefull for unbalanced dataset"
   ]
  },
  {
   "cell_type": "markdown",
   "metadata": {},
   "source": [
    "In unbalanced data with 100 (10 + 90) samples:\n",
    "\n",
    "\n",
    "$F1 = 2 * Presicion * Recall / (Presicion + Recall) = 2 * 0.6 * 0.3 / (0.6 + 0.3) = 40\\%$\n",
    "\n",
    "\n",
    "(Accuracy:85%, Recall:30% , Presicion:60%)"
   ]
  },
  {
   "cell_type": "markdown",
   "metadata": {},
   "source": [
    "## ROC (Receiver Operating Curve) and AUC (Area Under Curve)"
   ]
  },
  {
   "cell_type": "markdown",
   "metadata": {},
   "source": [
    "The ROC curve is a plot of True Positive Rate (TPR) on the y-axis vs False Positive Rate (FPR) on the x-axis.\n",
    "\n",
    "$TPR = TP / (TP + FN) $ -> (Recall)\n",
    "\n",
    "$FPR = FP / (FP + TN) $ ->  False Positives (Actually negative) / All actual negatives)\n",
    "\n",
    "\n"
   ]
  },
  {
   "cell_type": "markdown",
   "metadata": {},
   "source": [
    "Purpose of ROC Curve:\n",
    "1. Analysing the strength/predictive power of a classifier.\n",
    "2. Determining optimal threshold.\n",
    "3. Comparing two models (using Area Under the Curve)."
   ]
  },
  {
   "cell_type": "markdown",
   "metadata": {},
   "source": [
    "<img src=\"img/Roc_curve.png\" width=30%>\n",
    "\n",
    "[credit](https://en.wikipedia.org/wiki/Receiver_operating_characteristic)"
   ]
  },
  {
   "cell_type": "markdown",
   "metadata": {},
   "source": [
    "Notes:\n",
    "- For every threshold confusion matrix is reconstructed and TPR & FPR calculated\n",
    "- For every TPR & FPR pair a graph is plotted\n",
    "- More Area under Curve (AUC) value better the model is\n",
    "- The curve that streches to point (0.0,1.0) , left upper corner, has better ROC score\n",
    "- It is not suitable for unbalanced datasets."
   ]
  },
  {
   "cell_type": "markdown",
   "metadata": {},
   "source": [
    "## Precision and Recall Curve"
   ]
  },
  {
   "cell_type": "markdown",
   "metadata": {},
   "source": [
    "The precision-recall (PR) curve shows the tradeoff between precision and recall for different threshold. A high area under the curve represents both high recall and high precision where;\n",
    " - high precision relates to a low false positive rate (FP), \n",
    " - high recall relates to a low false negative rate (FN)."
   ]
  },
  {
   "cell_type": "markdown",
   "metadata": {},
   "source": [
    "<img src=\"img/pr_curve.png\" width=30%>\n",
    "\n",
    "[credit](https://analyticsindiamag.com/complete-guide-to-understanding-precision-and-recall-curves/)"
   ]
  },
  {
   "cell_type": "markdown",
   "metadata": {},
   "source": [
    "Some important pointers on the curve:\n",
    "\n",
    "- Point 1 corresponds to the threshold of 1\n",
    "- Point 3 corresponds to the threshold of 0\n",
    "- Point 4 corresponds to the threshold somewhere in the range (0, 1)\n",
    "- Point 2 corresponds to a Perfect model (along with Point 3)"
   ]
  },
  {
   "cell_type": "markdown",
   "metadata": {},
   "source": [
    "Notes:\n",
    "- PR curve is more sutitable in unbalanced data than ROC.\n",
    "- To calculate optimum threshold using PR curve, a threshold level closest to point 2 should be selected.\n",
    "- A better curve tends to move to point 2.\n"
   ]
  },
  {
   "cell_type": "markdown",
   "metadata": {},
   "source": []
  },
  {
   "cell_type": "markdown",
   "metadata": {},
   "source": [
    "---"
   ]
  },
  {
   "cell_type": "markdown",
   "metadata": {},
   "source": [
    "# Import Core Libraries"
   ]
  },
  {
   "cell_type": "code",
   "execution_count": 1,
   "metadata": {},
   "outputs": [],
   "source": [
    "import numpy as np\n",
    "import pandas as pd\n",
    "import seaborn as sns\n",
    "import matplotlib.pyplot as plt\n",
    "\n",
    "from sklearn.preprocessing import StandardScaler\n",
    "from sklearn.pipeline import Pipeline\n",
    "from sklearn.model_selection import GridSearchCV, cross_validate, train_test_split"
   ]
  },
  {
   "cell_type": "code",
   "execution_count": 2,
   "metadata": {},
   "outputs": [],
   "source": [
    "\n",
    "import warnings\n",
    "%matplotlib inline\n",
    "# %matplotlib notebook\n",
    "plt.rcParams[\"figure.figsize\"] = (10, 6)\n",
    "warnings.filterwarnings(\"ignore\")\n",
    "warnings.warn(\"this will not show\")\n",
    "pd.set_option('display.float_format', lambda x: '%.3f' % x)\n"
   ]
  },
  {
   "cell_type": "markdown",
   "metadata": {},
   "source": [
    "# Prepare Data"
   ]
  },
  {
   "cell_type": "code",
   "execution_count": 3,
   "metadata": {},
   "outputs": [
    {
     "data": {
      "text/html": [
       "<div>\n",
       "<style scoped>\n",
       "    .dataframe tbody tr th:only-of-type {\n",
       "        vertical-align: middle;\n",
       "    }\n",
       "\n",
       "    .dataframe tbody tr th {\n",
       "        vertical-align: top;\n",
       "    }\n",
       "\n",
       "    .dataframe thead th {\n",
       "        text-align: right;\n",
       "    }\n",
       "</style>\n",
       "<table border=\"1\" class=\"dataframe\">\n",
       "  <thead>\n",
       "    <tr style=\"text-align: right;\">\n",
       "      <th></th>\n",
       "      <th>Pregnancies</th>\n",
       "      <th>Glucose</th>\n",
       "      <th>BloodPressure</th>\n",
       "      <th>SkinThickness</th>\n",
       "      <th>Insulin</th>\n",
       "      <th>BMI</th>\n",
       "      <th>DiabetesPedigreeFunction</th>\n",
       "      <th>Age</th>\n",
       "      <th>Outcome</th>\n",
       "    </tr>\n",
       "  </thead>\n",
       "  <tbody>\n",
       "    <tr>\n",
       "      <th>0</th>\n",
       "      <td>6</td>\n",
       "      <td>148</td>\n",
       "      <td>72</td>\n",
       "      <td>35</td>\n",
       "      <td>0</td>\n",
       "      <td>33.600</td>\n",
       "      <td>0.627</td>\n",
       "      <td>50</td>\n",
       "      <td>1</td>\n",
       "    </tr>\n",
       "    <tr>\n",
       "      <th>1</th>\n",
       "      <td>1</td>\n",
       "      <td>85</td>\n",
       "      <td>66</td>\n",
       "      <td>29</td>\n",
       "      <td>0</td>\n",
       "      <td>26.600</td>\n",
       "      <td>0.351</td>\n",
       "      <td>31</td>\n",
       "      <td>0</td>\n",
       "    </tr>\n",
       "    <tr>\n",
       "      <th>2</th>\n",
       "      <td>8</td>\n",
       "      <td>183</td>\n",
       "      <td>64</td>\n",
       "      <td>0</td>\n",
       "      <td>0</td>\n",
       "      <td>23.300</td>\n",
       "      <td>0.672</td>\n",
       "      <td>32</td>\n",
       "      <td>1</td>\n",
       "    </tr>\n",
       "    <tr>\n",
       "      <th>3</th>\n",
       "      <td>1</td>\n",
       "      <td>89</td>\n",
       "      <td>66</td>\n",
       "      <td>23</td>\n",
       "      <td>94</td>\n",
       "      <td>28.100</td>\n",
       "      <td>0.167</td>\n",
       "      <td>21</td>\n",
       "      <td>0</td>\n",
       "    </tr>\n",
       "    <tr>\n",
       "      <th>4</th>\n",
       "      <td>0</td>\n",
       "      <td>137</td>\n",
       "      <td>40</td>\n",
       "      <td>35</td>\n",
       "      <td>168</td>\n",
       "      <td>43.100</td>\n",
       "      <td>2.288</td>\n",
       "      <td>33</td>\n",
       "      <td>1</td>\n",
       "    </tr>\n",
       "  </tbody>\n",
       "</table>\n",
       "</div>"
      ],
      "text/plain": [
       "   Pregnancies  Glucose  BloodPressure  SkinThickness  Insulin    BMI  \\\n",
       "0            6      148             72             35        0 33.600   \n",
       "1            1       85             66             29        0 26.600   \n",
       "2            8      183             64              0        0 23.300   \n",
       "3            1       89             66             23       94 28.100   \n",
       "4            0      137             40             35      168 43.100   \n",
       "\n",
       "   DiabetesPedigreeFunction  Age  Outcome  \n",
       "0                     0.627   50        1  \n",
       "1                     0.351   31        0  \n",
       "2                     0.672   32        1  \n",
       "3                     0.167   21        0  \n",
       "4                     2.288   33        1  "
      ]
     },
     "execution_count": 3,
     "metadata": {},
     "output_type": "execute_result"
    }
   ],
   "source": [
    "df = pd.read_csv(\"diabetes.csv\")\n",
    "df.head()\n"
   ]
  },
  {
   "cell_type": "code",
   "execution_count": 4,
   "metadata": {},
   "outputs": [
    {
     "data": {
      "text/plain": [
       "0    500\n",
       "1    268\n",
       "Name: Outcome, dtype: int64"
      ]
     },
     "execution_count": 4,
     "metadata": {},
     "output_type": "execute_result"
    }
   ],
   "source": [
    "df.Outcome.value_counts()\n"
   ]
  },
  {
   "cell_type": "code",
   "execution_count": 5,
   "metadata": {},
   "outputs": [
    {
     "data": {
      "image/png": "[encoded data removed]",
      "text/plain": [
       "<Figure size 1440x720 with 8 Axes>"
      ]
     },
     "metadata": {
      "needs_background": "light"
     },
     "output_type": "display_data"
    }
   ],
   "source": [
    "index = 0\n",
    "plt.figure(figsize=(20, 10))\n",
    "for feature in df.columns:\n",
    "    if feature != \"Outcome\":\n",
    "        index += 1\n",
    "        plt.subplot(3, 3, index)\n",
    "        sns.boxplot(df[feature])\n",
    "\n",
    "plt.tight_layout()\n",
    "plt.show()\n"
   ]
  },
  {
   "cell_type": "code",
   "execution_count": 6,
   "metadata": {},
   "outputs": [
    {
     "data": {
      "text/plain": [
       "0    473\n",
       "1    247\n",
       "Name: Outcome, dtype: int64"
      ]
     },
     "execution_count": 6,
     "metadata": {},
     "output_type": "execute_result"
    }
   ],
   "source": [
    "df = df[(df.SkinThickness < 70) & (df.Glucose > 0)\n",
    "        & (df.BloodPressure > 35) & (df.BMI > 0)]\n",
    "df.Outcome.value_counts()\n"
   ]
  },
  {
   "cell_type": "code",
   "execution_count": 7,
   "metadata": {},
   "outputs": [
    {
     "data": {
      "application/javascript": "\n        if (window._pyforest_update_imports_cell) { window._pyforest_update_imports_cell('from sklearn.model_selection import train_test_split'); }\n    ",
      "text/plain": [
       "<IPython.core.display.Javascript object>"
      ]
     },
     "metadata": {},
     "output_type": "display_data"
    }
   ],
   "source": [
    "X = df.drop('Outcome', axis=1)\n",
    "y = df['Outcome']\n",
    "X_train, X_test, y_train, y_test = train_test_split(\n",
    "    X, y, test_size=0.2, stratify=y, random_state=42)\n"
   ]
  },
  {
   "cell_type": "code",
   "execution_count": 8,
   "metadata": {},
   "outputs": [],
   "source": [
    "from sklearn.metrics import precision_score, recall_score, accuracy_score, f1_score\n",
    "from sklearn.metrics import classification_report, confusion_matrix, plot_confusion_matrix, plot_roc_curve, plot_precision_recall_curve\n",
    "\n",
    "\n",
    "def eval_metric(model, X_train, y_train, X_test, y_test):\n",
    "    y_train_pred = model.predict(X_train)\n",
    "    y_pred = model.predict(X_test)\n",
    "\n",
    "    print(\"Test_Set\")\n",
    "    print(confusion_matrix(y_test, y_pred))\n",
    "    print(classification_report(y_test, y_pred))\n",
    "    print()\n",
    "    print(\"Train_Set\")\n",
    "    print(confusion_matrix(y_train, y_train_pred))\n",
    "    print(classification_report(y_train, y_train_pred))\n"
   ]
  },
  {
   "cell_type": "markdown",
   "metadata": {},
   "source": [
    "# Logistic Regression"
   ]
  },
  {
   "cell_type": "markdown",
   "metadata": {},
   "source": [
    "Import libraries"
   ]
  },
  {
   "cell_type": "code",
   "execution_count": 9,
   "metadata": {},
   "outputs": [],
   "source": [
    "from sklearn.linear_model import LogisticRegression\n",
    "from sklearn.model_selection import train_test_split\n",
    "log_model = LogisticRegression()\n"
   ]
  },
  {
   "cell_type": "code",
   "execution_count": 10,
   "metadata": {},
   "outputs": [
    {
     "data": {
      "text/plain": [
       "dict_keys(['C', 'class_weight', 'dual', 'fit_intercept', 'intercept_scaling', 'l1_ratio', 'max_iter', 'multi_class', 'n_jobs', 'penalty', 'random_state', 'solver', 'tol', 'verbose', 'warm_start'])"
      ]
     },
     "execution_count": 10,
     "metadata": {},
     "output_type": "execute_result"
    }
   ],
   "source": [
    "log_model.get_params().keys()\n"
   ]
  },
  {
   "cell_type": "markdown",
   "metadata": {},
   "source": [
    "Notes:\n",
    "- Logistic Regression penalty term (l1, l2, elasticnet) is used for regularizaiton.\n",
    "\n",
    "- C : Regularization parameter, lower C (close to 0) more regularization\n",
    "\n",
    "- class_weight :used when data unbalanced, the “balanced” mode uses the values of y to automatically adjust weights inversely proportional to class frequencies in the input data as ``n_samples / (n_classes * np.bincount(y))``.\n",
    "\n",
    "- solver : For small datasets, ‘liblinear’ is a good choice, whereas ‘sag’ and ‘saga’ are faster for large datasets. For multiclass problems, only ‘newton-cg’, ‘sag’, ‘saga’ and ‘lbfgs’ handle multinomial loss.\n",
    "\n",
    "[Logistic Regression Libray Page](https://scikit-learn.org/stable/modules/generated/sklearn.linear_model.LogisticRegression.html)"
   ]
  },
  {
   "cell_type": "markdown",
   "metadata": {},
   "source": [
    "Grid Search"
   ]
  },
  {
   "cell_type": "code",
   "execution_count": 11,
   "metadata": {},
   "outputs": [],
   "source": [
    "param_grid = {'lr__penalty': [\"l1\", \"l2\"],\n",
    "              'lr__C': np.logspace(-2, 2, 10),\n",
    "              'lr__solver': [\"lbfgs\", \"liblinear\"]}\n"
   ]
  },
  {
   "cell_type": "code",
   "execution_count": 12,
   "metadata": {},
   "outputs": [
    {
     "data": {
      "text/plain": [
       "GridSearchCV(cv=5,\n",
       "             estimator=Pipeline(steps=[('scaler', StandardScaler()),\n",
       "                                       ('lr',\n",
       "                                        LogisticRegression(class_weight='balanced',\n",
       "                                                           random_state=34))]),\n",
       "             n_jobs=-1,\n",
       "             param_grid={'lr__C': array([1.00000000e-02, 2.78255940e-02, 7.74263683e-02, 2.15443469e-01,\n",
       "       5.99484250e-01, 1.66810054e+00, 4.64158883e+00, 1.29154967e+01,\n",
       "       3.59381366e+01, 1.00000000e+02]),\n",
       "                         'lr__penalty': ['l1', 'l2'],\n",
       "                         'lr__solver': ['lbfgs', 'liblinear']},\n",
       "             scoring='recall')"
      ]
     },
     "execution_count": 12,
     "metadata": {},
     "output_type": "execute_result"
    }
   ],
   "source": [
    "operations = [(\"scaler\", StandardScaler()), (\"lr\", LogisticRegression(\n",
    "    class_weight=\"balanced\", random_state=34))]\n",
    "model = Pipeline(steps=operations)\n",
    "\n",
    "lr_model_grid = GridSearchCV(\n",
    "    model, param_grid, scoring=\"recall\", cv=5, n_jobs=-1)\n",
    "\n",
    "lr_model_grid.fit(X_train, y_train)\n"
   ]
  },
  {
   "cell_type": "code",
   "execution_count": 13,
   "metadata": {},
   "outputs": [
    {
     "data": {
      "text/plain": [
       "{'lr__C': 0.0774263682681127, 'lr__penalty': 'l1', 'lr__solver': 'liblinear'}"
      ]
     },
     "execution_count": 13,
     "metadata": {},
     "output_type": "execute_result"
    }
   ],
   "source": [
    "lr_model_grid.best_params_\n"
   ]
  },
  {
   "cell_type": "code",
   "execution_count": 14,
   "metadata": {},
   "outputs": [
    {
     "name": "stdout",
     "output_type": "stream",
     "text": [
      "Test_Set\n",
      "[[76 19]\n",
      " [13 36]]\n",
      "              precision    recall  f1-score   support\n",
      "\n",
      "           0       0.85      0.80      0.83        95\n",
      "           1       0.65      0.73      0.69        49\n",
      "\n",
      "    accuracy                           0.78       144\n",
      "   macro avg       0.75      0.77      0.76       144\n",
      "weighted avg       0.79      0.78      0.78       144\n",
      "\n",
      "\n",
      "Train_Set\n",
      "[[286  92]\n",
      " [ 47 151]]\n",
      "              precision    recall  f1-score   support\n",
      "\n",
      "           0       0.86      0.76      0.80       378\n",
      "           1       0.62      0.76      0.68       198\n",
      "\n",
      "    accuracy                           0.76       576\n",
      "   macro avg       0.74      0.76      0.74       576\n",
      "weighted avg       0.78      0.76      0.76       576\n",
      "\n"
     ]
    }
   ],
   "source": [
    "eval_metric(lr_model_grid, X_train, y_train, X_test, y_test)\n"
   ]
  },
  {
   "cell_type": "markdown",
   "metadata": {},
   "source": [
    "Cross Validate Model"
   ]
  },
  {
   "cell_type": "code",
   "execution_count": 15,
   "metadata": {},
   "outputs": [
    {
     "data": {
      "text/plain": [
       "test_precision   0.617\n",
       "test_recall      0.748\n",
       "test_f1          0.674\n",
       "test_accuracy    0.748\n",
       "dtype: float64"
      ]
     },
     "execution_count": 15,
     "metadata": {},
     "output_type": "execute_result"
    }
   ],
   "source": [
    "operations = [(\"scaler\", StandardScaler()),\n",
    "              (\"lr\", LogisticRegression(class_weight=\"balanced\", C=0.0774, penalty=\"l1\",\n",
    "                                        solver='liblinear', random_state=34))]\n",
    "model = Pipeline(steps=operations)\n",
    "\n",
    "scores = cross_validate(model, X_train, y_train, scoring=[\n",
    "                        'precision', 'recall', 'f1', 'accuracy'], cv=10)\n",
    "df_scores = pd.DataFrame(scores, index=range(1, 11))\n",
    "df_scores.mean()[2:]\n"
   ]
  },
  {
   "cell_type": "markdown",
   "metadata": {},
   "source": [
    "Plot Persicion Recall Graph & Save Model Score"
   ]
  },
  {
   "cell_type": "code",
   "execution_count": 16,
   "metadata": {},
   "outputs": [
    {
     "data": {
      "text/plain": [
       "<sklearn.metrics._plot.roc_curve.RocCurveDisplay at 0x24eb0025d90>"
      ]
     },
     "execution_count": 16,
     "metadata": {},
     "output_type": "execute_result"
    },
    {
     "data": {
      "image/png": "[encoded data removed]",
      "text/plain": [
       "<Figure size 720x432 with 1 Axes>"
      ]
     },
     "metadata": {
      "needs_background": "light"
     },
     "output_type": "display_data"
    }
   ],
   "source": [
    "plot_roc_curve(lr_model_grid, X_test, y_test, name=\"Logistic Regression\")\n"
   ]
  },
  {
   "cell_type": "code",
   "execution_count": 17,
   "metadata": {},
   "outputs": [
    {
     "data": {
      "text/plain": [
       "<sklearn.metrics._plot.precision_recall_curve.PrecisionRecallDisplay at 0x24eb005d1c0>"
      ]
     },
     "execution_count": 17,
     "metadata": {},
     "output_type": "execute_result"
    },
    {
     "data": {
      "image/png": "[encoded data removed]",
      "text/plain": [
       "<Figure size 720x432 with 1 Axes>"
      ]
     },
     "metadata": {
      "needs_background": "light"
     },
     "output_type": "display_data"
    }
   ],
   "source": [
    "plot_precision_recall_curve(lr_model_grid, X_test,\n",
    "                            y_test, name=\"Logistic Regression\")\n"
   ]
  },
  {
   "cell_type": "code",
   "execution_count": 18,
   "metadata": {},
   "outputs": [
    {
     "data": {
      "text/html": [
       "<div>\n",
       "<style scoped>\n",
       "    .dataframe tbody tr th:only-of-type {\n",
       "        vertical-align: middle;\n",
       "    }\n",
       "\n",
       "    .dataframe tbody tr th {\n",
       "        vertical-align: top;\n",
       "    }\n",
       "\n",
       "    .dataframe thead th {\n",
       "        text-align: right;\n",
       "    }\n",
       "</style>\n",
       "<table border=\"1\" class=\"dataframe\">\n",
       "  <thead>\n",
       "    <tr style=\"text-align: right;\">\n",
       "      <th></th>\n",
       "      <th>F1</th>\n",
       "      <th>Recall</th>\n",
       "    </tr>\n",
       "  </thead>\n",
       "  <tbody>\n",
       "    <tr>\n",
       "      <th>logistic_regression</th>\n",
       "      <td>0.781</td>\n",
       "      <td>0.735</td>\n",
       "    </tr>\n",
       "  </tbody>\n",
       "</table>\n",
       "</div>"
      ],
      "text/plain": [
       "                       F1  Recall\n",
       "logistic_regression 0.781   0.735"
      ]
     },
     "execution_count": 18,
     "metadata": {},
     "output_type": "execute_result"
    }
   ],
   "source": [
    "y_pred_lr = lr_model_grid.predict(X_test)\n",
    "result = pd.DataFrame({\"F1\": f1_score(y_test, y_pred_lr, average=\"weighted\"),\n",
    "                      \"Recall\": recall_score(y_test, y_pred_lr)}, index=[\"logistic_regression\"])\n",
    "result\n"
   ]
  },
  {
   "cell_type": "markdown",
   "metadata": {},
   "source": [
    "---"
   ]
  },
  {
   "cell_type": "markdown",
   "metadata": {},
   "source": [
    "# K-Nearest Neighbors(KNN)"
   ]
  },
  {
   "cell_type": "markdown",
   "metadata": {},
   "source": [
    "Notes:\n",
    "- A lazy learner, no model constructed, all data is stored for prediction\n",
    "- Prediction made according to the test samples' closest neighbours\n",
    "- Non-parametric\n",
    "- Scaling is important, because it is based on distance \n",
    "- Not suitable for big datasets\n",
    "- Selecting optimal **k** is the most imported step (Elbow method)\n",
    "- Bigger **k** causes underfitting, while lower **k** overfitting\n",
    "\n",
    "Params:\n",
    "- weights; {‘uniform’, ‘distance’}, neigbours' distance effects on voting\n",
    "- p;  Minkowski metric. When p = 1, this is equivalent to using manhattan_distance (l1), and euclidean_distance (l2)\n",
    "\n",
    "[KNN Libray Page](https://scikit-learn.org/stable/modules/generated/sklearn.neighbors.KNeighborsClassifier.html)\n"
   ]
  },
  {
   "cell_type": "markdown",
   "metadata": {},
   "source": [
    "<img src=\"img/knn.png\" width=70%>"
   ]
  },
  {
   "cell_type": "markdown",
   "metadata": {},
   "source": [
    "Import libraries"
   ]
  },
  {
   "cell_type": "code",
   "execution_count": 19,
   "metadata": {},
   "outputs": [],
   "source": [
    "from sklearn.neighbors import KNeighborsClassifier\n"
   ]
  },
  {
   "cell_type": "markdown",
   "metadata": {},
   "source": [
    "Grid Search"
   ]
  },
  {
   "cell_type": "code",
   "execution_count": 20,
   "metadata": {},
   "outputs": [],
   "source": [
    "operations = [(\"scaler\", StandardScaler()), (\"knn\", KNeighborsClassifier())]\n",
    "knn_model = Pipeline(steps=operations)\n"
   ]
  },
  {
   "cell_type": "code",
   "execution_count": 21,
   "metadata": {},
   "outputs": [
    {
     "data": {
      "text/plain": [
       "{'knn__n_neighbors': 3}"
      ]
     },
     "execution_count": 21,
     "metadata": {},
     "output_type": "execute_result"
    }
   ],
   "source": [
    "param_grid = {'knn__n_neighbors': range(1, 30)}\n",
    "knn_model_grid = GridSearchCV(knn_model, param_grid, cv=10, scoring='recall')\n",
    "knn_model_grid.fit(X_train, y_train)\n",
    "knn_model_grid.best_params_\n"
   ]
  },
  {
   "cell_type": "markdown",
   "metadata": {},
   "source": [
    "Elbow method for k selection"
   ]
  },
  {
   "cell_type": "code",
   "execution_count": 22,
   "metadata": {},
   "outputs": [],
   "source": [
    "test_error_rates = []\n",
    "train_error_rates = []\n",
    "\n",
    "\n",
    "for k in range(1, 30):\n",
    "\n",
    "    operations = [(\"scaler\", StandardScaler()),\n",
    "                  (\"knn\", KNeighborsClassifier(n_neighbors=k))]\n",
    "    knn = Pipeline(steps=operations)\n",
    "\n",
    "    knn.fit(X_train, y_train)\n",
    "\n",
    "    y_pred_test = knn.predict(X_test)\n",
    "    y_pred_train = knn.predict(X_train)\n",
    "\n",
    "    test_error = 1 - recall_score(y_test, y_pred_test)\n",
    "    train_error = 1 - recall_score(y_train, y_pred_train)\n",
    "    test_error_rates.append(test_error)\n",
    "    train_error_rates.append(train_error)\n"
   ]
  },
  {
   "cell_type": "code",
   "execution_count": 23,
   "metadata": {},
   "outputs": [
    {
     "data": {
      "text/plain": [
       "Text(0, 0.5, 'Error Rate')"
      ]
     },
     "execution_count": 23,
     "metadata": {},
     "output_type": "execute_result"
    },
    {
     "data": {
      "image/png": "[encoded data removed]",
      "text/plain": [
       "<Figure size 1080x576 with 1 Axes>"
      ]
     },
     "metadata": {
      "needs_background": "light"
     },
     "output_type": "display_data"
    }
   ],
   "source": [
    "plt.figure(figsize=(15, 8))\n",
    "plt.plot(range(1, 30), test_error_rates, color='blue', linestyle='--', marker='o',\n",
    "         markerfacecolor='blue', markersize=10)\n",
    "plt.plot(range(1, 30), train_error_rates, color='green', linestyle='--', marker='o',\n",
    "         markerfacecolor='green', markersize=10)\n",
    "plt.title('Error Rate vs. K Value')\n",
    "plt.xlabel('K_values')\n",
    "plt.ylabel('Error Rate')\n"
   ]
  },
  {
   "cell_type": "markdown",
   "metadata": {},
   "source": [
    "With ellbow method selecting $k=5$ is a good option"
   ]
  },
  {
   "cell_type": "markdown",
   "metadata": {},
   "source": []
  },
  {
   "cell_type": "markdown",
   "metadata": {},
   "source": [
    "Cross Validate Model"
   ]
  },
  {
   "cell_type": "code",
   "execution_count": 24,
   "metadata": {},
   "outputs": [
    {
     "name": "stdout",
     "output_type": "stream",
     "text": [
      "Test_Set\n",
      "[[76 19]\n",
      " [19 30]]\n",
      "              precision    recall  f1-score   support\n",
      "\n",
      "           0       0.80      0.80      0.80        95\n",
      "           1       0.61      0.61      0.61        49\n",
      "\n",
      "    accuracy                           0.74       144\n",
      "   macro avg       0.71      0.71      0.71       144\n",
      "weighted avg       0.74      0.74      0.74       144\n",
      "\n",
      "\n",
      "Train_Set\n",
      "[[352  26]\n",
      " [ 51 147]]\n",
      "              precision    recall  f1-score   support\n",
      "\n",
      "           0       0.87      0.93      0.90       378\n",
      "           1       0.85      0.74      0.79       198\n",
      "\n",
      "    accuracy                           0.87       576\n",
      "   macro avg       0.86      0.84      0.85       576\n",
      "weighted avg       0.87      0.87      0.86       576\n",
      "\n"
     ]
    }
   ],
   "source": [
    "eval_metric(knn_model_grid, X_train, y_train, X_test, y_test)\n"
   ]
  },
  {
   "cell_type": "code",
   "execution_count": 25,
   "metadata": {},
   "outputs": [
    {
     "data": {
      "text/plain": [
       "test_accuracy    0.722\n",
       "test_precision   0.615\n",
       "test_recall      0.505\n",
       "test_f1          0.553\n",
       "dtype: float64"
      ]
     },
     "execution_count": 25,
     "metadata": {},
     "output_type": "execute_result"
    }
   ],
   "source": [
    "\n",
    "operations = [(\"scaler\", StandardScaler()),\n",
    "              (\"knn\", KNeighborsClassifier(n_neighbors=5))]\n",
    "knn1 = Pipeline(steps=operations)\n",
    "scores = cross_validate(knn1, X_train, y_train,\n",
    "                        scoring=['accuracy', 'precision', 'recall', 'f1'], cv=5)\n",
    "df_scores = pd.DataFrame(scores, index=range(1, 6))\n",
    "df_scores.mean()[2:]\n"
   ]
  },
  {
   "cell_type": "markdown",
   "metadata": {},
   "source": [
    "Save Model Score"
   ]
  },
  {
   "cell_type": "code",
   "execution_count": 26,
   "metadata": {},
   "outputs": [
    {
     "data": {
      "text/html": [
       "<div>\n",
       "<style scoped>\n",
       "    .dataframe tbody tr th:only-of-type {\n",
       "        vertical-align: middle;\n",
       "    }\n",
       "\n",
       "    .dataframe tbody tr th {\n",
       "        vertical-align: top;\n",
       "    }\n",
       "\n",
       "    .dataframe thead th {\n",
       "        text-align: right;\n",
       "    }\n",
       "</style>\n",
       "<table border=\"1\" class=\"dataframe\">\n",
       "  <thead>\n",
       "    <tr style=\"text-align: right;\">\n",
       "      <th></th>\n",
       "      <th>F1</th>\n",
       "      <th>Recall</th>\n",
       "    </tr>\n",
       "  </thead>\n",
       "  <tbody>\n",
       "    <tr>\n",
       "      <th>logistic_regression</th>\n",
       "      <td>0.781</td>\n",
       "      <td>0.735</td>\n",
       "    </tr>\n",
       "    <tr>\n",
       "      <th>knn</th>\n",
       "      <td>0.736</td>\n",
       "      <td>0.612</td>\n",
       "    </tr>\n",
       "  </tbody>\n",
       "</table>\n",
       "</div>"
      ],
      "text/plain": [
       "                       F1  Recall\n",
       "logistic_regression 0.781   0.735\n",
       "knn                 0.736   0.612"
      ]
     },
     "execution_count": 26,
     "metadata": {},
     "output_type": "execute_result"
    }
   ],
   "source": [
    "y_pred_knn = knn_model_grid.predict(X_test)\n",
    "res = pd.DataFrame({\"F1\": f1_score(y_test, y_pred_knn, average=\"weighted\"),\n",
    "                    \"Recall\": recall_score(y_test, y_pred_knn)}, index=[\"knn\"])\n",
    "result = pd.concat([result, res], axis=0)\n",
    "result\n"
   ]
  },
  {
   "cell_type": "markdown",
   "metadata": {},
   "source": [
    "---"
   ]
  },
  {
   "cell_type": "markdown",
   "metadata": {},
   "source": [
    "# SVM, Support Vector Machines"
   ]
  },
  {
   "cell_type": "markdown",
   "metadata": {},
   "source": [
    "Notes:\n",
    "- Find a separating best line that maximizes the margin (gap) between positive and negative samples\n",
    "- C parameter is regularization parameter, inverse of aplha in linesr regression, increase in C causes overfitting\n",
    "- Kernel trick is the key point of SVM\n",
    "- gamma parameter is only for kernel other than linear, increasing gamma causes more complex boundaries\n",
    "\n",
    "[SVM Libray Page](https://scikit-learn.org/stable/modules/generated/sklearn.svm.SVC.html)"
   ]
  },
  {
   "cell_type": "markdown",
   "metadata": {},
   "source": [
    "<img src=\"img/svm.png\" width=70%>\n",
    "<img src=\"img/svm2.png\" width=70%>\n",
    "<img src=\"img/svm3.png\" width=70%>\n"
   ]
  },
  {
   "cell_type": "markdown",
   "metadata": {},
   "source": [
    "Import libraries"
   ]
  },
  {
   "cell_type": "code",
   "execution_count": 27,
   "metadata": {},
   "outputs": [],
   "source": [
    "from sklearn.svm import SVC\n"
   ]
  },
  {
   "cell_type": "markdown",
   "metadata": {},
   "source": [
    "Grid Search"
   ]
  },
  {
   "cell_type": "code",
   "execution_count": 28,
   "metadata": {},
   "outputs": [
    {
     "data": {
      "text/plain": [
       "{'svm__C': 0.05, 'svm__gamma': 0.3, 'svm__kernel': 'rbf'}"
      ]
     },
     "execution_count": 28,
     "metadata": {},
     "output_type": "execute_result"
    }
   ],
   "source": [
    "operations = [(\"scaler\", StandardScaler()),\n",
    "              (\"svm\", SVC(class_weight=\"balanced\", random_state=42))]\n",
    "svm_model = Pipeline(steps=operations)\n",
    "\n",
    "param_grid = {'svm__C': [0.001, 0.05, 0.01, 0.1],\n",
    "              'svm__gamma': [\"scale\", \"auto\", 0.3, 2],\n",
    "              'svm__kernel': ['rbf', 'linear']}\n",
    "\n",
    "svm_model_grid = GridSearchCV(\n",
    "    svm_model, param_grid, scoring=\"recall\", cv=10, n_jobs=-1)\n",
    "svm_model_grid.fit(X_train, y_train)\n",
    "svm_model_grid.best_params_\n"
   ]
  },
  {
   "cell_type": "code",
   "execution_count": 29,
   "metadata": {},
   "outputs": [
    {
     "name": "stdout",
     "output_type": "stream",
     "text": [
      "Test_Set\n",
      "[[45 50]\n",
      " [ 3 46]]\n",
      "              precision    recall  f1-score   support\n",
      "\n",
      "           0       0.94      0.47      0.63        95\n",
      "           1       0.48      0.94      0.63        49\n",
      "\n",
      "    accuracy                           0.63       144\n",
      "   macro avg       0.71      0.71      0.63       144\n",
      "weighted avg       0.78      0.63      0.63       144\n",
      "\n",
      "\n",
      "Train_Set\n",
      "[[190 188]\n",
      " [ 19 179]]\n",
      "              precision    recall  f1-score   support\n",
      "\n",
      "           0       0.91      0.50      0.65       378\n",
      "           1       0.49      0.90      0.63       198\n",
      "\n",
      "    accuracy                           0.64       576\n",
      "   macro avg       0.70      0.70      0.64       576\n",
      "weighted avg       0.76      0.64      0.64       576\n",
      "\n"
     ]
    }
   ],
   "source": [
    "eval_metric(svm_model_grid, X_train, y_train, X_test, y_test)\n"
   ]
  },
  {
   "cell_type": "markdown",
   "metadata": {},
   "source": [
    "Cross Validate Model"
   ]
  },
  {
   "cell_type": "code",
   "execution_count": 30,
   "metadata": {},
   "outputs": [
    {
     "data": {
      "text/plain": [
       "test_accuracy    0.707\n",
       "test_precision   0.551\n",
       "test_recall      0.854\n",
       "test_f1          0.669\n",
       "dtype: float64"
      ]
     },
     "execution_count": 30,
     "metadata": {},
     "output_type": "execute_result"
    }
   ],
   "source": [
    "operations = [(\"scaler\", StandardScaler()), (\"svm\", SVC(C=0.3, gamma=0.3, kernel='rbf', probability=True,\n",
    "                                                        class_weight=\"balanced\", random_state=42))]\n",
    "svm_model_cv = Pipeline(steps=operations)\n",
    "\n",
    "scores = cross_validate(svm_model_cv, X_train, y_train, scoring=[\n",
    "                        'accuracy', 'precision', 'recall', 'f1'], cv=5)\n",
    "df_scores = pd.DataFrame(scores, index=range(1, 6))\n",
    "df_scores.mean()[2:]\n"
   ]
  },
  {
   "cell_type": "markdown",
   "metadata": {},
   "source": [
    "Save Model Score"
   ]
  },
  {
   "cell_type": "code",
   "execution_count": 31,
   "metadata": {},
   "outputs": [
    {
     "data": {
      "text/html": [
       "<div>\n",
       "<style scoped>\n",
       "    .dataframe tbody tr th:only-of-type {\n",
       "        vertical-align: middle;\n",
       "    }\n",
       "\n",
       "    .dataframe tbody tr th {\n",
       "        vertical-align: top;\n",
       "    }\n",
       "\n",
       "    .dataframe thead th {\n",
       "        text-align: right;\n",
       "    }\n",
       "</style>\n",
       "<table border=\"1\" class=\"dataframe\">\n",
       "  <thead>\n",
       "    <tr style=\"text-align: right;\">\n",
       "      <th></th>\n",
       "      <th>F1</th>\n",
       "      <th>Recall</th>\n",
       "    </tr>\n",
       "  </thead>\n",
       "  <tbody>\n",
       "    <tr>\n",
       "      <th>logistic_regression</th>\n",
       "      <td>0.781</td>\n",
       "      <td>0.735</td>\n",
       "    </tr>\n",
       "    <tr>\n",
       "      <th>knn</th>\n",
       "      <td>0.736</td>\n",
       "      <td>0.612</td>\n",
       "    </tr>\n",
       "    <tr>\n",
       "      <th>svm</th>\n",
       "      <td>0.631</td>\n",
       "      <td>0.939</td>\n",
       "    </tr>\n",
       "  </tbody>\n",
       "</table>\n",
       "</div>"
      ],
      "text/plain": [
       "                       F1  Recall\n",
       "logistic_regression 0.781   0.735\n",
       "knn                 0.736   0.612\n",
       "svm                 0.631   0.939"
      ]
     },
     "execution_count": 31,
     "metadata": {},
     "output_type": "execute_result"
    }
   ],
   "source": [
    "y_pred_svm = svm_model_grid.predict(X_test)\n",
    "res = pd.DataFrame({\"F1\": f1_score(y_test, y_pred_svm, average=\"weighted\"),\n",
    "                    \"Recall\": recall_score(y_test, y_pred_svm)}, index=[\"svm\"])\n",
    "result = pd.concat([result, res], axis=0)\n",
    "result\n"
   ]
  },
  {
   "cell_type": "markdown",
   "metadata": {},
   "source": [
    "---"
   ]
  },
  {
   "cell_type": "markdown",
   "metadata": {},
   "source": [
    "#  Decision Tree"
   ]
  },
  {
   "cell_type": "markdown",
   "metadata": {},
   "source": [
    "Notes:\n",
    "- Aim in spiltting is to get highest homogenety among regions\n",
    "- Spliting according to **Gini Index** and **Entropy**\n",
    "- Gini is a criterion to minimize the probability of misclassification\n",
    "- Entropy (chaos) measures the impurity or uncertainty in a group of observations. Aim for better split is to minimize entropy that results in higher **Information Gain**.\n",
    "- **Scaling** or **get_dummies** is not necessary, but **Encoder** is used for categorical varibles \n",
    "- Encoder, ``from sklearn.preprocessing import OrdinalEncoder``\n",
    "\n",
    "[Decision Tree Classifier Library Page](https://scikit-learn.org/stable/modules/generated/sklearn.tree.DecisionTreeClassifier.html)"
   ]
  },
  {
   "cell_type": "markdown",
   "metadata": {},
   "source": [
    "<img src=\"img/dt1.png\" width=70%>"
   ]
  },
  {
   "cell_type": "markdown",
   "metadata": {},
   "source": [
    "Import libraries"
   ]
  },
  {
   "cell_type": "code",
   "execution_count": 32,
   "metadata": {},
   "outputs": [],
   "source": [
    "from sklearn.tree import DecisionTreeClassifier\n",
    "from sklearn.tree import plot_tree\n"
   ]
  },
  {
   "cell_type": "markdown",
   "metadata": {},
   "source": [
    "Grid Search"
   ]
  },
  {
   "cell_type": "code",
   "execution_count": 33,
   "metadata": {},
   "outputs": [
    {
     "data": {
      "text/plain": [
       "{'max_depth': 2,\n",
       " 'max_features': 'auto',\n",
       " 'min_samples_leaf': 1,\n",
       " 'min_samples_split': 2,\n",
       " 'splitter': 'random'}"
      ]
     },
     "execution_count": 33,
     "metadata": {},
     "output_type": "execute_result"
    }
   ],
   "source": [
    "param_grid = {\"splitter\": [\"best\", \"random\"],\n",
    "              \"max_features\": [\"auto\", 2, 6],\n",
    "              \"max_depth\": [2,3],\n",
    "              \"min_samples_leaf\": [1, 2, 3],\n",
    "              \"min_samples_split\": [2,3]}\n",
    "\n",
    "dt_model = DecisionTreeClassifier(random_state=101)\n",
    "\n",
    "dt_model_grid = GridSearchCV(estimator=dt_model,\n",
    "                             param_grid=param_grid,\n",
    "                             scoring='recall',\n",
    "                             cv=10,\n",
    "                             n_jobs=-1)\n",
    "\n",
    "dt_model_grid.fit(X_train, y_train)\n",
    "\n",
    "dt_model_grid.best_params_\n"
   ]
  },
  {
   "cell_type": "code",
   "execution_count": 34,
   "metadata": {},
   "outputs": [
    {
     "name": "stdout",
     "output_type": "stream",
     "text": [
      "Test_Set\n",
      "[[79 16]\n",
      " [17 32]]\n",
      "              precision    recall  f1-score   support\n",
      "\n",
      "           0       0.82      0.83      0.83        95\n",
      "           1       0.67      0.65      0.66        49\n",
      "\n",
      "    accuracy                           0.77       144\n",
      "   macro avg       0.74      0.74      0.74       144\n",
      "weighted avg       0.77      0.77      0.77       144\n",
      "\n",
      "\n",
      "Train_Set\n",
      "[[292  86]\n",
      " [ 75 123]]\n",
      "              precision    recall  f1-score   support\n",
      "\n",
      "           0       0.80      0.77      0.78       378\n",
      "           1       0.59      0.62      0.60       198\n",
      "\n",
      "    accuracy                           0.72       576\n",
      "   macro avg       0.69      0.70      0.69       576\n",
      "weighted avg       0.72      0.72      0.72       576\n",
      "\n"
     ]
    }
   ],
   "source": [
    "eval_metric(dt_model_grid, X_train, y_train, X_test, y_test)\n"
   ]
  },
  {
   "cell_type": "markdown",
   "metadata": {},
   "source": [
    "Cross Validate Model"
   ]
  },
  {
   "cell_type": "code",
   "execution_count": 35,
   "metadata": {},
   "outputs": [
    {
     "data": {
      "text/plain": [
       "test_accuracy    0.721\n",
       "test_precision   0.606\n",
       "test_recall      0.601\n",
       "test_f1          0.598\n",
       "dtype: float64"
      ]
     },
     "execution_count": 35,
     "metadata": {},
     "output_type": "execute_result"
    }
   ],
   "source": [
    "dt_model_cv = DecisionTreeClassifier(max_depth=2, min_samples_leaf=1,\n",
    "                                     min_samples_split=2, max_features=\"auto\",\n",
    "                                     splitter=\"random\", random_state=101)\n",
    "\n",
    "scores = cross_validate(dt_model_cv, X_train, y_train, scoring=[\n",
    "                        'accuracy', 'precision', 'recall', 'f1'], cv=5)\n",
    "df_scores = pd.DataFrame(scores, index=range(1, 6))\n",
    "df_scores.mean()[2:]\n"
   ]
  },
  {
   "cell_type": "markdown",
   "metadata": {},
   "source": [
    "Feature Importance"
   ]
  },
  {
   "cell_type": "code",
   "execution_count": 36,
   "metadata": {},
   "outputs": [
    {
     "data": {
      "text/html": [
       "<div>\n",
       "<style scoped>\n",
       "    .dataframe tbody tr th:only-of-type {\n",
       "        vertical-align: middle;\n",
       "    }\n",
       "\n",
       "    .dataframe tbody tr th {\n",
       "        vertical-align: top;\n",
       "    }\n",
       "\n",
       "    .dataframe thead th {\n",
       "        text-align: right;\n",
       "    }\n",
       "</style>\n",
       "<table border=\"1\" class=\"dataframe\">\n",
       "  <thead>\n",
       "    <tr style=\"text-align: right;\">\n",
       "      <th></th>\n",
       "      <th>Feature Importance</th>\n",
       "    </tr>\n",
       "  </thead>\n",
       "  <tbody>\n",
       "    <tr>\n",
       "      <th>Glucose</th>\n",
       "      <td>0.834</td>\n",
       "    </tr>\n",
       "    <tr>\n",
       "      <th>Insulin</th>\n",
       "      <td>0.087</td>\n",
       "    </tr>\n",
       "    <tr>\n",
       "      <th>DiabetesPedigreeFunction</th>\n",
       "      <td>0.039</td>\n",
       "    </tr>\n",
       "    <tr>\n",
       "      <th>BloodPressure</th>\n",
       "      <td>0.019</td>\n",
       "    </tr>\n",
       "    <tr>\n",
       "      <th>Pregnancies</th>\n",
       "      <td>0.015</td>\n",
       "    </tr>\n",
       "    <tr>\n",
       "      <th>SkinThickness</th>\n",
       "      <td>0.005</td>\n",
       "    </tr>\n",
       "    <tr>\n",
       "      <th>BMI</th>\n",
       "      <td>0.000</td>\n",
       "    </tr>\n",
       "    <tr>\n",
       "      <th>Age</th>\n",
       "      <td>0.000</td>\n",
       "    </tr>\n",
       "  </tbody>\n",
       "</table>\n",
       "</div>"
      ],
      "text/plain": [
       "                          Feature Importance\n",
       "Glucose                                0.834\n",
       "Insulin                                0.087\n",
       "DiabetesPedigreeFunction               0.039\n",
       "BloodPressure                          0.019\n",
       "Pregnancies                            0.015\n",
       "SkinThickness                          0.005\n",
       "BMI                                    0.000\n",
       "Age                                    0.000"
      ]
     },
     "execution_count": 36,
     "metadata": {},
     "output_type": "execute_result"
    }
   ],
   "source": [
    "dt_model_final = DecisionTreeClassifier(max_depth=4, min_samples_leaf=1,\n",
    "                                        min_samples_split=8, max_features=None,\n",
    "                                        splitter=\"random\",     random_state=101).fit(X_train, y_train)\n",
    "\n",
    "df_f_i = pd.DataFrame(index=X.columns, data=dt_model_final.feature_importances_,\n",
    "                      columns=[\"Feature Importance\"]).sort_values(\"Feature Importance\", ascending=False)\n",
    "df_f_i\n"
   ]
  },
  {
   "cell_type": "markdown",
   "metadata": {},
   "source": [
    "Plot tree"
   ]
  },
  {
   "cell_type": "code",
   "execution_count": 37,
   "metadata": {},
   "outputs": [
    {
     "data": {
      "image/png": "[encoded data removed]",
      "text/plain": [
       "<Figure size 1440x720 with 1 Axes>"
      ]
     },
     "metadata": {
      "needs_background": "light"
     },
     "output_type": "display_data"
    }
   ],
   "source": [
    "plt.figure(figsize=(20, 10))\n",
    "plot_tree(dt_model_final, filled=True, feature_names=X.columns);\n"
   ]
  },
  {
   "cell_type": "markdown",
   "metadata": {},
   "source": [
    "Save Model Score"
   ]
  },
  {
   "cell_type": "code",
   "execution_count": 38,
   "metadata": {},
   "outputs": [
    {
     "data": {
      "text/html": [
       "<div>\n",
       "<style scoped>\n",
       "    .dataframe tbody tr th:only-of-type {\n",
       "        vertical-align: middle;\n",
       "    }\n",
       "\n",
       "    .dataframe tbody tr th {\n",
       "        vertical-align: top;\n",
       "    }\n",
       "\n",
       "    .dataframe thead th {\n",
       "        text-align: right;\n",
       "    }\n",
       "</style>\n",
       "<table border=\"1\" class=\"dataframe\">\n",
       "  <thead>\n",
       "    <tr style=\"text-align: right;\">\n",
       "      <th></th>\n",
       "      <th>F1</th>\n",
       "      <th>Recall</th>\n",
       "    </tr>\n",
       "  </thead>\n",
       "  <tbody>\n",
       "    <tr>\n",
       "      <th>logistic_regression</th>\n",
       "      <td>0.781</td>\n",
       "      <td>0.735</td>\n",
       "    </tr>\n",
       "    <tr>\n",
       "      <th>knn</th>\n",
       "      <td>0.736</td>\n",
       "      <td>0.612</td>\n",
       "    </tr>\n",
       "    <tr>\n",
       "      <th>svm</th>\n",
       "      <td>0.631</td>\n",
       "      <td>0.939</td>\n",
       "    </tr>\n",
       "    <tr>\n",
       "      <th>dt</th>\n",
       "      <td>0.770</td>\n",
       "      <td>0.653</td>\n",
       "    </tr>\n",
       "  </tbody>\n",
       "</table>\n",
       "</div>"
      ],
      "text/plain": [
       "                       F1  Recall\n",
       "logistic_regression 0.781   0.735\n",
       "knn                 0.736   0.612\n",
       "svm                 0.631   0.939\n",
       "dt                  0.770   0.653"
      ]
     },
     "execution_count": 38,
     "metadata": {},
     "output_type": "execute_result"
    }
   ],
   "source": [
    "y_pred_dt = dt_model_grid.predict(X_test)\n",
    "res = pd.DataFrame({\"F1\": f1_score(y_test, y_pred_dt, average=\"weighted\"),\n",
    "                    \"Recall\": recall_score(y_test, y_pred_dt)}, index=[\"dt\"])\n",
    "result = pd.concat([result, res], axis=0)\n",
    "result\n"
   ]
  },
  {
   "cell_type": "markdown",
   "metadata": {},
   "source": [
    "---"
   ]
  },
  {
   "cell_type": "markdown",
   "metadata": {},
   "source": [
    "# Random Forest"
   ]
  },
  {
   "cell_type": "markdown",
   "metadata": {},
   "source": [
    "Notes on Ensemble Models:\n",
    "- Ensemble methods, uses voting combines models of same type, a lot of tiny diverse models\n",
    "- Bagging (Bootstrap AGGregatING), individual separate models, equal vote weights\n",
    "- Boosting, influenced by previous models, vote weights by performance \n"
   ]
  },
  {
   "cell_type": "markdown",
   "metadata": {},
   "source": [
    "<img src=\"img/bagging1.png\">"
   ]
  },
  {
   "cell_type": "markdown",
   "metadata": {},
   "source": [
    "Notes Random Forest:\n",
    "- Feature importance\n",
    "- Same model for bootstrapped (2/3) sub-samples\n",
    "- n_estimator, number of models\n",
    "- max_depth, depth of tree\n",
    "- min_samples_split, default=2\n",
    "\n",
    "[Random Forest Classifier Library Page](https://scikit-learn.org/stable/modules/generated/sklearn.ensemble.RandomForestClassifier.html)\n"
   ]
  },
  {
   "cell_type": "markdown",
   "metadata": {},
   "source": [
    "Import libraries"
   ]
  },
  {
   "cell_type": "code",
   "execution_count": 39,
   "metadata": {},
   "outputs": [],
   "source": [
    "from sklearn.ensemble import RandomForestClassifier\n"
   ]
  },
  {
   "cell_type": "markdown",
   "metadata": {},
   "source": [
    "Grid Search"
   ]
  },
  {
   "cell_type": "code",
   "execution_count": 40,
   "metadata": {},
   "outputs": [
    {
     "name": "stdout",
     "output_type": "stream",
     "text": [
      "Fitting 5 folds for each of 96 candidates, totalling 480 fits\n"
     ]
    },
    {
     "data": {
      "text/plain": [
       "{'max_depth': 2, 'max_features': 2, 'min_samples_split': 2, 'n_estimators': 64}"
      ]
     },
     "execution_count": 40,
     "metadata": {},
     "output_type": "execute_result"
    }
   ],
   "source": [
    "param_grid = {'n_estimators': [64, 128, 300, 500],\n",
    "              'max_features': [2, 3, 4, \"auto\"],\n",
    "              'max_depth': [2, 3, 4],\n",
    "              'min_samples_split': [2, 3]}\n",
    "\n",
    "rf_model = RandomForestClassifier(class_weight=\"balanced\", random_state=101)\n",
    "rf_model_grid = GridSearchCV(rf_model, param_grid, scoring=\"recall\",\n",
    "                             n_jobs=-1, verbose=2).fit(X_train, y_train)\n",
    "\n",
    "rf_model_grid.best_params_\n"
   ]
  },
  {
   "cell_type": "code",
   "execution_count": 41,
   "metadata": {},
   "outputs": [
    {
     "name": "stdout",
     "output_type": "stream",
     "text": [
      "Test_Set\n",
      "[[68 27]\n",
      " [12 37]]\n",
      "              precision    recall  f1-score   support\n",
      "\n",
      "           0       0.85      0.72      0.78        95\n",
      "           1       0.58      0.76      0.65        49\n",
      "\n",
      "    accuracy                           0.73       144\n",
      "   macro avg       0.71      0.74      0.72       144\n",
      "weighted avg       0.76      0.73      0.74       144\n",
      "\n",
      "\n",
      "Train_Set\n",
      "[[279  99]\n",
      " [ 33 165]]\n",
      "              precision    recall  f1-score   support\n",
      "\n",
      "           0       0.89      0.74      0.81       378\n",
      "           1       0.62      0.83      0.71       198\n",
      "\n",
      "    accuracy                           0.77       576\n",
      "   macro avg       0.76      0.79      0.76       576\n",
      "weighted avg       0.80      0.77      0.78       576\n",
      "\n"
     ]
    }
   ],
   "source": [
    "eval_metric(rf_model_grid, X_train, y_train, X_test, y_test)\n"
   ]
  },
  {
   "cell_type": "markdown",
   "metadata": {},
   "source": [
    "Cross Validate Model"
   ]
  },
  {
   "cell_type": "code",
   "execution_count": 42,
   "metadata": {},
   "outputs": [
    {
     "data": {
      "text/plain": [
       "test_accuracy    0.755\n",
       "test_precision   0.619\n",
       "test_recall      0.798\n",
       "test_f1          0.694\n",
       "dtype: float64"
      ]
     },
     "execution_count": 42,
     "metadata": {},
     "output_type": "execute_result"
    }
   ],
   "source": [
    "rf_model_cv = RandomForestClassifier(class_weight=\"balanced\", random_state=101,**rf_model_grid.best_params_)\n",
    "\n",
    "scores = cross_validate(rf_model_cv, X_train, y_train, scoring=[\n",
    "                        'accuracy', 'precision', 'recall', 'f1'], cv=10)\n",
    "df_scores = pd.DataFrame(scores, index=range(1, 11))\n",
    "\n",
    "df_scores.mean()[2:]\n"
   ]
  },
  {
   "cell_type": "markdown",
   "metadata": {},
   "source": [
    "Save Model Score"
   ]
  },
  {
   "cell_type": "code",
   "execution_count": 43,
   "metadata": {},
   "outputs": [
    {
     "data": {
      "text/html": [
       "<div>\n",
       "<style scoped>\n",
       "    .dataframe tbody tr th:only-of-type {\n",
       "        vertical-align: middle;\n",
       "    }\n",
       "\n",
       "    .dataframe tbody tr th {\n",
       "        vertical-align: top;\n",
       "    }\n",
       "\n",
       "    .dataframe thead th {\n",
       "        text-align: right;\n",
       "    }\n",
       "</style>\n",
       "<table border=\"1\" class=\"dataframe\">\n",
       "  <thead>\n",
       "    <tr style=\"text-align: right;\">\n",
       "      <th></th>\n",
       "      <th>F1</th>\n",
       "      <th>Recall</th>\n",
       "    </tr>\n",
       "  </thead>\n",
       "  <tbody>\n",
       "    <tr>\n",
       "      <th>logistic_regression</th>\n",
       "      <td>0.781</td>\n",
       "      <td>0.735</td>\n",
       "    </tr>\n",
       "    <tr>\n",
       "      <th>knn</th>\n",
       "      <td>0.736</td>\n",
       "      <td>0.612</td>\n",
       "    </tr>\n",
       "    <tr>\n",
       "      <th>svm</th>\n",
       "      <td>0.631</td>\n",
       "      <td>0.939</td>\n",
       "    </tr>\n",
       "    <tr>\n",
       "      <th>dt</th>\n",
       "      <td>0.770</td>\n",
       "      <td>0.653</td>\n",
       "    </tr>\n",
       "    <tr>\n",
       "      <th>rf</th>\n",
       "      <td>0.736</td>\n",
       "      <td>0.755</td>\n",
       "    </tr>\n",
       "  </tbody>\n",
       "</table>\n",
       "</div>"
      ],
      "text/plain": [
       "                       F1  Recall\n",
       "logistic_regression 0.781   0.735\n",
       "knn                 0.736   0.612\n",
       "svm                 0.631   0.939\n",
       "dt                  0.770   0.653\n",
       "rf                  0.736   0.755"
      ]
     },
     "execution_count": 43,
     "metadata": {},
     "output_type": "execute_result"
    }
   ],
   "source": [
    "y_pred_rf = rf_model_grid.predict(X_test)\n",
    "res = pd.DataFrame({\"F1\": f1_score(y_test, y_pred_rf, average=\"weighted\"),\n",
    "                    \"Recall\": recall_score(y_test, y_pred_rf)}, index=[\"rf\"])\n",
    "result = pd.concat([result, res], axis=0)\n",
    "result\n"
   ]
  },
  {
   "cell_type": "markdown",
   "metadata": {},
   "source": [
    "---"
   ]
  },
  {
   "cell_type": "markdown",
   "metadata": {},
   "source": [
    "# Adaboost, Adaptive Boosting"
   ]
  },
  {
   "cell_type": "markdown",
   "metadata": {},
   "source": [
    "Notes:\n",
    "- Ensemble method, any algorithm can be used (SVM, Logistic,...)\n",
    "- Next algorithm tries to improve misclassified samples\n",
    "\n",
    "[Ada Boost Classifer Library Page](https://scikit-learn.org/stable/modules/generated/sklearn.ensemble.AdaBoostClassifier.html)"
   ]
  },
  {
   "cell_type": "markdown",
   "metadata": {},
   "source": [
    "<img src=\"img/adaboost.png\">\n",
    "\n",
    "[credit](https://www.researchgate.net/figure/Representation-of-the-adaptive-boosting_fig4_328334026)"
   ]
  },
  {
   "cell_type": "markdown",
   "metadata": {},
   "source": [
    "Import libraries"
   ]
  },
  {
   "cell_type": "code",
   "execution_count": 44,
   "metadata": {},
   "outputs": [],
   "source": [
    "from sklearn.ensemble import AdaBoostClassifier\n"
   ]
  },
  {
   "cell_type": "markdown",
   "metadata": {},
   "source": [
    "Grid Search"
   ]
  },
  {
   "cell_type": "code",
   "execution_count": 45,
   "metadata": {},
   "outputs": [
    {
     "data": {
      "text/plain": [
       "{'learning_rate': 0.1, 'n_estimators': 200}"
      ]
     },
     "execution_count": 45,
     "metadata": {},
     "output_type": "execute_result"
    }
   ],
   "source": [
    "ada_model = AdaBoostClassifier(random_state=101)\n",
    "param_grid = {\"n_estimators\": [50, 200],\n",
    "              \"learning_rate\": [0.01, 0.1]}\n",
    "ada_model_grid = GridSearchCV(\n",
    "    ada_model, param_grid, cv=5, scoring='recall', n_jobs=-1).fit(X_train, y_train)\n",
    "ada_model_grid.best_params_\n"
   ]
  },
  {
   "cell_type": "code",
   "execution_count": 46,
   "metadata": {},
   "outputs": [
    {
     "name": "stdout",
     "output_type": "stream",
     "text": [
      "Test_Set\n",
      "[[83 12]\n",
      " [20 29]]\n",
      "              precision    recall  f1-score   support\n",
      "\n",
      "           0       0.81      0.87      0.84        95\n",
      "           1       0.71      0.59      0.64        49\n",
      "\n",
      "    accuracy                           0.78       144\n",
      "   macro avg       0.76      0.73      0.74       144\n",
      "weighted avg       0.77      0.78      0.77       144\n",
      "\n",
      "\n",
      "Train_Set\n",
      "[[342  36]\n",
      " [ 71 127]]\n",
      "              precision    recall  f1-score   support\n",
      "\n",
      "           0       0.83      0.90      0.86       378\n",
      "           1       0.78      0.64      0.70       198\n",
      "\n",
      "    accuracy                           0.81       576\n",
      "   macro avg       0.80      0.77      0.78       576\n",
      "weighted avg       0.81      0.81      0.81       576\n",
      "\n"
     ]
    }
   ],
   "source": [
    "eval_metric(ada_model_grid, X_train, y_train, X_test, y_test)\n"
   ]
  },
  {
   "cell_type": "markdown",
   "metadata": {},
   "source": [
    "Cross Validate Model"
   ]
  },
  {
   "cell_type": "code",
   "execution_count": 47,
   "metadata": {},
   "outputs": [
    {
     "data": {
      "text/plain": [
       "test_accuracy    0.764\n",
       "test_precision   0.696\n",
       "test_recall      0.556\n",
       "test_f1          0.618\n",
       "dtype: float64"
      ]
     },
     "execution_count": 47,
     "metadata": {},
     "output_type": "execute_result"
    }
   ],
   "source": [
    "ada_model_cv = AdaBoostClassifier(\n",
    "    random_state=101, **ada_model_grid.best_params_)\n",
    "\n",
    "scores = cross_validate(ada_model_cv, X_train, y_train, scoring=[\n",
    "                        'accuracy', 'precision', 'recall', 'f1'], cv=5)\n",
    "df_scores = pd.DataFrame(scores, index=range(1, 6))\n",
    "\n",
    "df_scores.mean()[2:]\n"
   ]
  },
  {
   "cell_type": "markdown",
   "metadata": {},
   "source": [
    "Save Model Score"
   ]
  },
  {
   "cell_type": "code",
   "execution_count": 48,
   "metadata": {},
   "outputs": [
    {
     "data": {
      "text/html": [
       "<div>\n",
       "<style scoped>\n",
       "    .dataframe tbody tr th:only-of-type {\n",
       "        vertical-align: middle;\n",
       "    }\n",
       "\n",
       "    .dataframe tbody tr th {\n",
       "        vertical-align: top;\n",
       "    }\n",
       "\n",
       "    .dataframe thead th {\n",
       "        text-align: right;\n",
       "    }\n",
       "</style>\n",
       "<table border=\"1\" class=\"dataframe\">\n",
       "  <thead>\n",
       "    <tr style=\"text-align: right;\">\n",
       "      <th></th>\n",
       "      <th>F1</th>\n",
       "      <th>Recall</th>\n",
       "    </tr>\n",
       "  </thead>\n",
       "  <tbody>\n",
       "    <tr>\n",
       "      <th>logistic_regression</th>\n",
       "      <td>0.781</td>\n",
       "      <td>0.735</td>\n",
       "    </tr>\n",
       "    <tr>\n",
       "      <th>knn</th>\n",
       "      <td>0.736</td>\n",
       "      <td>0.612</td>\n",
       "    </tr>\n",
       "    <tr>\n",
       "      <th>svm</th>\n",
       "      <td>0.631</td>\n",
       "      <td>0.939</td>\n",
       "    </tr>\n",
       "    <tr>\n",
       "      <th>dt</th>\n",
       "      <td>0.770</td>\n",
       "      <td>0.653</td>\n",
       "    </tr>\n",
       "    <tr>\n",
       "      <th>rf</th>\n",
       "      <td>0.736</td>\n",
       "      <td>0.755</td>\n",
       "    </tr>\n",
       "    <tr>\n",
       "      <th>ada</th>\n",
       "      <td>0.772</td>\n",
       "      <td>0.592</td>\n",
       "    </tr>\n",
       "  </tbody>\n",
       "</table>\n",
       "</div>"
      ],
      "text/plain": [
       "                       F1  Recall\n",
       "logistic_regression 0.781   0.735\n",
       "knn                 0.736   0.612\n",
       "svm                 0.631   0.939\n",
       "dt                  0.770   0.653\n",
       "rf                  0.736   0.755\n",
       "ada                 0.772   0.592"
      ]
     },
     "execution_count": 48,
     "metadata": {},
     "output_type": "execute_result"
    }
   ],
   "source": [
    "y_pred_ada = ada_model_grid.predict(X_test)\n",
    "res = pd.DataFrame({\"F1\": f1_score(y_test, y_pred_ada, average=\"weighted\"),\n",
    "                    \"Recall\": recall_score(y_test, y_pred_ada)}, index=[\"ada\"])\n",
    "result = pd.concat([result, res], axis=0)\n",
    "result\n"
   ]
  },
  {
   "cell_type": "markdown",
   "metadata": {},
   "source": [
    "---"
   ]
  },
  {
   "cell_type": "markdown",
   "metadata": {},
   "source": [
    "# Gradient Boosting"
   ]
  },
  {
   "cell_type": "markdown",
   "metadata": {},
   "source": [
    "Notes:\n",
    "- Focus on minimizing the residual of previous tree\n",
    "\n",
    "[Gradient Boosting Classifier Library Page](https://scikit-learn.org/stable/modules/generated/sklearn.ensemble.GradientBoostingClassifier.html)"
   ]
  },
  {
   "cell_type": "markdown",
   "metadata": {},
   "source": [
    "<img src=\"img/gboost.png\">\n",
    "\n",
    "[credit](https://www.geeksforgeeks.org/ml-gradient-boosting/)"
   ]
  },
  {
   "cell_type": "markdown",
   "metadata": {},
   "source": [
    "Import libraries"
   ]
  },
  {
   "cell_type": "code",
   "execution_count": 49,
   "metadata": {},
   "outputs": [],
   "source": [
    "from sklearn.ensemble import GradientBoostingClassifier\n"
   ]
  },
  {
   "cell_type": "markdown",
   "metadata": {},
   "source": [
    "Grid Search"
   ]
  },
  {
   "cell_type": "code",
   "execution_count": 50,
   "metadata": {},
   "outputs": [
    {
     "name": "stdout",
     "output_type": "stream",
     "text": [
      "Fitting 5 folds for each of 18 candidates, totalling 90 fits\n"
     ]
    },
    {
     "data": {
      "text/plain": [
       "{'learning_rate': 0.01, 'max_depth': 3, 'n_estimators': 300, 'subsample': 0.7}"
      ]
     },
     "execution_count": 50,
     "metadata": {},
     "output_type": "execute_result"
    }
   ],
   "source": [
    "param_grid = {\"n_estimators\": [100,  200,300],\n",
    "              \"subsample\": [0.7,1], \n",
    "              \"learning_rate\": [0.01], 'max_depth': [2,3,4]}\n",
    "gb_model = GradientBoostingClassifier(random_state=101)\n",
    "gb_model_grid = GridSearchCV(gb_model, param_grid, scoring=\"recall\",\n",
    "                             verbose=2, n_jobs=-1).fit(X_train, y_train)\n",
    "gb_model_grid.best_params_\n"
   ]
  },
  {
   "cell_type": "code",
   "execution_count": 51,
   "metadata": {},
   "outputs": [
    {
     "name": "stdout",
     "output_type": "stream",
     "text": [
      "Test_Set\n",
      "[[83 12]\n",
      " [17 32]]\n",
      "              precision    recall  f1-score   support\n",
      "\n",
      "           0       0.83      0.87      0.85        95\n",
      "           1       0.73      0.65      0.69        49\n",
      "\n",
      "    accuracy                           0.80       144\n",
      "   macro avg       0.78      0.76      0.77       144\n",
      "weighted avg       0.80      0.80      0.80       144\n",
      "\n",
      "\n",
      "Train_Set\n",
      "[[350  28]\n",
      " [ 61 137]]\n",
      "              precision    recall  f1-score   support\n",
      "\n",
      "           0       0.85      0.93      0.89       378\n",
      "           1       0.83      0.69      0.75       198\n",
      "\n",
      "    accuracy                           0.85       576\n",
      "   macro avg       0.84      0.81      0.82       576\n",
      "weighted avg       0.84      0.85      0.84       576\n",
      "\n"
     ]
    }
   ],
   "source": [
    "eval_metric(gb_model_grid, X_train, y_train, X_test, y_test)"
   ]
  },
  {
   "cell_type": "markdown",
   "metadata": {},
   "source": [
    "Cross Validate Model"
   ]
  },
  {
   "cell_type": "code",
   "execution_count": 52,
   "metadata": {},
   "outputs": [
    {
     "data": {
      "text/plain": [
       "test_accuracy    0.760\n",
       "test_precision   0.682\n",
       "test_recall      0.571\n",
       "test_f1          0.622\n",
       "test_roc_auc     0.829\n",
       "dtype: float64"
      ]
     },
     "execution_count": 52,
     "metadata": {},
     "output_type": "execute_result"
    }
   ],
   "source": [
    "gb_model_cv = GradientBoostingClassifier(random_state=101, **gb_model_grid.best_params_)\n",
    "\n",
    "scores = cross_validate(gb_model_cv, X_train, y_train, scoring=['accuracy', 'precision', 'recall',\n",
    "                                                                'f1', 'roc_auc'], cv=5)\n",
    "df_scores = pd.DataFrame(scores, index=range(1, 6))\n",
    "df_scores.mean()[2:]\n"
   ]
  },
  {
   "cell_type": "markdown",
   "metadata": {},
   "source": [
    "Save Model Score"
   ]
  },
  {
   "cell_type": "code",
   "execution_count": 53,
   "metadata": {},
   "outputs": [
    {
     "data": {
      "text/html": [
       "<div>\n",
       "<style scoped>\n",
       "    .dataframe tbody tr th:only-of-type {\n",
       "        vertical-align: middle;\n",
       "    }\n",
       "\n",
       "    .dataframe tbody tr th {\n",
       "        vertical-align: top;\n",
       "    }\n",
       "\n",
       "    .dataframe thead th {\n",
       "        text-align: right;\n",
       "    }\n",
       "</style>\n",
       "<table border=\"1\" class=\"dataframe\">\n",
       "  <thead>\n",
       "    <tr style=\"text-align: right;\">\n",
       "      <th></th>\n",
       "      <th>F1</th>\n",
       "      <th>Recall</th>\n",
       "    </tr>\n",
       "  </thead>\n",
       "  <tbody>\n",
       "    <tr>\n",
       "      <th>logistic_regression</th>\n",
       "      <td>0.781</td>\n",
       "      <td>0.735</td>\n",
       "    </tr>\n",
       "    <tr>\n",
       "      <th>knn</th>\n",
       "      <td>0.736</td>\n",
       "      <td>0.612</td>\n",
       "    </tr>\n",
       "    <tr>\n",
       "      <th>svm</th>\n",
       "      <td>0.631</td>\n",
       "      <td>0.939</td>\n",
       "    </tr>\n",
       "    <tr>\n",
       "      <th>dt</th>\n",
       "      <td>0.770</td>\n",
       "      <td>0.653</td>\n",
       "    </tr>\n",
       "    <tr>\n",
       "      <th>rf</th>\n",
       "      <td>0.736</td>\n",
       "      <td>0.755</td>\n",
       "    </tr>\n",
       "    <tr>\n",
       "      <th>ada</th>\n",
       "      <td>0.772</td>\n",
       "      <td>0.592</td>\n",
       "    </tr>\n",
       "    <tr>\n",
       "      <th>gboost</th>\n",
       "      <td>0.796</td>\n",
       "      <td>0.653</td>\n",
       "    </tr>\n",
       "  </tbody>\n",
       "</table>\n",
       "</div>"
      ],
      "text/plain": [
       "                       F1  Recall\n",
       "logistic_regression 0.781   0.735\n",
       "knn                 0.736   0.612\n",
       "svm                 0.631   0.939\n",
       "dt                  0.770   0.653\n",
       "rf                  0.736   0.755\n",
       "ada                 0.772   0.592\n",
       "gboost              0.796   0.653"
      ]
     },
     "execution_count": 53,
     "metadata": {},
     "output_type": "execute_result"
    }
   ],
   "source": [
    "y_pred_gb = gb_model_grid.predict(X_test)\n",
    "res = pd.DataFrame({\"F1\": f1_score(y_test, y_pred_gb, average=\"weighted\"),\n",
    "                    \"Recall\": recall_score(y_test, y_pred_gb)}, index=[\"gboost\"])\n",
    "result = pd.concat([result, res], axis=0)\n",
    "result\n"
   ]
  },
  {
   "cell_type": "markdown",
   "metadata": {},
   "source": [
    "---"
   ]
  },
  {
   "cell_type": "markdown",
   "metadata": {},
   "source": [
    "# XG Boost"
   ]
  },
  {
   "cell_type": "markdown",
   "metadata": {},
   "source": [
    "Notes:\n",
    "- GBoost with regularization\n",
    "- Faster in big data, parallel processing \n",
    "- Built in cross validation\n",
    "- No need for EDA, no need to fill missing values\n",
    "- Feature importance\n",
    "- Too many hyperparameter\n",
    "\n",
    "[XGBoost Library Page](https://xgboost.readthedocs.io/en/stable/python/python_api.html?highlight=xgbclassifier#xgboost.XGBClassifier)\n"
   ]
  },
  {
   "cell_type": "markdown",
   "metadata": {},
   "source": [
    "Import libraries"
   ]
  },
  {
   "cell_type": "code",
   "execution_count": 54,
   "metadata": {},
   "outputs": [],
   "source": [
    "from xgboost import XGBClassifier\n"
   ]
  },
  {
   "cell_type": "markdown",
   "metadata": {},
   "source": [
    "Grid Search"
   ]
  },
  {
   "cell_type": "code",
   "execution_count": 55,
   "metadata": {},
   "outputs": [
    {
     "name": "stdout",
     "output_type": "stream",
     "text": [
      "Fitting 5 folds for each of 48 candidates, totalling 240 fits\n",
      "[11:16:12] WARNING: C:/Users/Administrator/workspace/xgboost-win64_release_1.5.1/src/learner.cc:1115: Starting in XGBoost 1.3.0, the default evaluation metric used with the objective 'binary:logistic' was changed from 'error' to 'logloss'. Explicitly set eval_metric if you'd like to restore the old behavior.\n"
     ]
    },
    {
     "data": {
      "text/plain": [
       "{'colsample_bytree': 0.7,\n",
       " 'learning_rate': 0.05,\n",
       " 'max_depth': 2,\n",
       " 'n_estimators': 100,\n",
       " 'scale_pos_weight': 2.5}"
      ]
     },
     "execution_count": 55,
     "metadata": {},
     "output_type": "execute_result"
    }
   ],
   "source": [
    "param_grid = {\"n_estimators\": [100,200], 'max_depth': [2,3, 4], \"learning_rate\": [0.05, 0.01],\n",
    "               \"colsample_bytree\": [0.7,1], \"scale_pos_weight\":[1.5,2.5]}\n",
    "xgb_model = XGBClassifier(random_state=101)\n",
    "xgb_model_grid = GridSearchCV(\n",
    "    xgb_model, param_grid, scoring=\"recall\", verbose=2, n_jobs=-1).fit(X_train, y_train)\n",
    "xgb_model_grid.best_params_\n"
   ]
  },
  {
   "cell_type": "code",
   "execution_count": 56,
   "metadata": {},
   "outputs": [
    {
     "name": "stdout",
     "output_type": "stream",
     "text": [
      "Test_Set\n",
      "[[67 28]\n",
      " [ 7 42]]\n",
      "              precision    recall  f1-score   support\n",
      "\n",
      "           0       0.91      0.71      0.79        95\n",
      "           1       0.60      0.86      0.71        49\n",
      "\n",
      "    accuracy                           0.76       144\n",
      "   macro avg       0.75      0.78      0.75       144\n",
      "weighted avg       0.80      0.76      0.76       144\n",
      "\n",
      "\n",
      "Train_Set\n",
      "[[279  99]\n",
      " [ 19 179]]\n",
      "              precision    recall  f1-score   support\n",
      "\n",
      "           0       0.94      0.74      0.83       378\n",
      "           1       0.64      0.90      0.75       198\n",
      "\n",
      "    accuracy                           0.80       576\n",
      "   macro avg       0.79      0.82      0.79       576\n",
      "weighted avg       0.84      0.80      0.80       576\n",
      "\n"
     ]
    }
   ],
   "source": [
    "eval_metric(xgb_model_grid, X_train, y_train, X_test, y_test)\n"
   ]
  },
  {
   "cell_type": "markdown",
   "metadata": {},
   "source": [
    "Cross Validate Model"
   ]
  },
  {
   "cell_type": "code",
   "execution_count": 57,
   "metadata": {},
   "outputs": [
    {
     "name": "stdout",
     "output_type": "stream",
     "text": [
      "[11:16:12] WARNING: C:/Users/Administrator/workspace/xgboost-win64_release_1.5.1/src/learner.cc:1115: Starting in XGBoost 1.3.0, the default evaluation metric used with the objective 'binary:logistic' was changed from 'error' to 'logloss'. Explicitly set eval_metric if you'd like to restore the old behavior.\n",
      "[11:16:12] WARNING: C:/Users/Administrator/workspace/xgboost-win64_release_1.5.1/src/learner.cc:1115: Starting in XGBoost 1.3.0, the default evaluation metric used with the objective 'binary:logistic' was changed from 'error' to 'logloss'. Explicitly set eval_metric if you'd like to restore the old behavior.\n",
      "[11:16:13] WARNING: C:/Users/Administrator/workspace/xgboost-win64_release_1.5.1/src/learner.cc:1115: Starting in XGBoost 1.3.0, the default evaluation metric used with the objective 'binary:logistic' was changed from 'error' to 'logloss'. Explicitly set eval_metric if you'd like to restore the old behavior.\n",
      "[11:16:13] WARNING: C:/Users/Administrator/workspace/xgboost-win64_release_1.5.1/src/learner.cc:1115: Starting in XGBoost 1.3.0, the default evaluation metric used with the objective 'binary:logistic' was changed from 'error' to 'logloss'. Explicitly set eval_metric if you'd like to restore the old behavior.\n",
      "[11:16:13] WARNING: C:/Users/Administrator/workspace/xgboost-win64_release_1.5.1/src/learner.cc:1115: Starting in XGBoost 1.3.0, the default evaluation metric used with the objective 'binary:logistic' was changed from 'error' to 'logloss'. Explicitly set eval_metric if you'd like to restore the old behavior.\n",
      "[11:16:13] WARNING: C:/Users/Administrator/workspace/xgboost-win64_release_1.5.1/src/learner.cc:1115: Starting in XGBoost 1.3.0, the default evaluation metric used with the objective 'binary:logistic' was changed from 'error' to 'logloss'. Explicitly set eval_metric if you'd like to restore the old behavior.\n",
      "[11:16:13] WARNING: C:/Users/Administrator/workspace/xgboost-win64_release_1.5.1/src/learner.cc:1115: Starting in XGBoost 1.3.0, the default evaluation metric used with the objective 'binary:logistic' was changed from 'error' to 'logloss'. Explicitly set eval_metric if you'd like to restore the old behavior.\n",
      "[11:16:13] WARNING: C:/Users/Administrator/workspace/xgboost-win64_release_1.5.1/src/learner.cc:1115: Starting in XGBoost 1.3.0, the default evaluation metric used with the objective 'binary:logistic' was changed from 'error' to 'logloss'. Explicitly set eval_metric if you'd like to restore the old behavior.\n",
      "[11:16:13] WARNING: C:/Users/Administrator/workspace/xgboost-win64_release_1.5.1/src/learner.cc:1115: Starting in XGBoost 1.3.0, the default evaluation metric used with the objective 'binary:logistic' was changed from 'error' to 'logloss'. Explicitly set eval_metric if you'd like to restore the old behavior.\n",
      "[11:16:13] WARNING: C:/Users/Administrator/workspace/xgboost-win64_release_1.5.1/src/learner.cc:1115: Starting in XGBoost 1.3.0, the default evaluation metric used with the objective 'binary:logistic' was changed from 'error' to 'logloss'. Explicitly set eval_metric if you'd like to restore the old behavior.\n"
     ]
    },
    {
     "data": {
      "text/plain": [
       "test_accuracy    0.740\n",
       "test_precision   0.593\n",
       "test_recall      0.844\n",
       "test_f1          0.693\n",
       "test_roc_auc     0.826\n",
       "dtype: float64"
      ]
     },
     "execution_count": 57,
     "metadata": {},
     "output_type": "execute_result"
    }
   ],
   "source": [
    "xgb_model_cv = XGBClassifier(random_state=101, **xgb_model_grid.best_params_)\n",
    "\n",
    "scores = cross_validate(xgb_model_cv, X_train, y_train, scoring=['accuracy', 'precision', 'recall',\n",
    "                                                                 'f1', 'roc_auc'], cv=10)\n",
    "df_scores = pd.DataFrame(scores, index=range(1, 11))\n",
    "df_scores.mean()[2:]\n"
   ]
  },
  {
   "cell_type": "markdown",
   "metadata": {},
   "source": [
    "Save Model Score"
   ]
  },
  {
   "cell_type": "code",
   "execution_count": 58,
   "metadata": {},
   "outputs": [
    {
     "data": {
      "text/html": [
       "<div>\n",
       "<style scoped>\n",
       "    .dataframe tbody tr th:only-of-type {\n",
       "        vertical-align: middle;\n",
       "    }\n",
       "\n",
       "    .dataframe tbody tr th {\n",
       "        vertical-align: top;\n",
       "    }\n",
       "\n",
       "    .dataframe thead th {\n",
       "        text-align: right;\n",
       "    }\n",
       "</style>\n",
       "<table border=\"1\" class=\"dataframe\">\n",
       "  <thead>\n",
       "    <tr style=\"text-align: right;\">\n",
       "      <th></th>\n",
       "      <th>F1</th>\n",
       "      <th>Recall</th>\n",
       "    </tr>\n",
       "  </thead>\n",
       "  <tbody>\n",
       "    <tr>\n",
       "      <th>logistic_regression</th>\n",
       "      <td>0.781</td>\n",
       "      <td>0.735</td>\n",
       "    </tr>\n",
       "    <tr>\n",
       "      <th>knn</th>\n",
       "      <td>0.736</td>\n",
       "      <td>0.612</td>\n",
       "    </tr>\n",
       "    <tr>\n",
       "      <th>svm</th>\n",
       "      <td>0.631</td>\n",
       "      <td>0.939</td>\n",
       "    </tr>\n",
       "    <tr>\n",
       "      <th>dt</th>\n",
       "      <td>0.770</td>\n",
       "      <td>0.653</td>\n",
       "    </tr>\n",
       "    <tr>\n",
       "      <th>rf</th>\n",
       "      <td>0.736</td>\n",
       "      <td>0.755</td>\n",
       "    </tr>\n",
       "    <tr>\n",
       "      <th>ada</th>\n",
       "      <td>0.772</td>\n",
       "      <td>0.592</td>\n",
       "    </tr>\n",
       "    <tr>\n",
       "      <th>gboost</th>\n",
       "      <td>0.796</td>\n",
       "      <td>0.653</td>\n",
       "    </tr>\n",
       "    <tr>\n",
       "      <th>xgboost</th>\n",
       "      <td>0.763</td>\n",
       "      <td>0.857</td>\n",
       "    </tr>\n",
       "  </tbody>\n",
       "</table>\n",
       "</div>"
      ],
      "text/plain": [
       "                       F1  Recall\n",
       "logistic_regression 0.781   0.735\n",
       "knn                 0.736   0.612\n",
       "svm                 0.631   0.939\n",
       "dt                  0.770   0.653\n",
       "rf                  0.736   0.755\n",
       "ada                 0.772   0.592\n",
       "gboost              0.796   0.653\n",
       "xgboost             0.763   0.857"
      ]
     },
     "execution_count": 58,
     "metadata": {},
     "output_type": "execute_result"
    }
   ],
   "source": [
    "y_pred_xgb = xgb_model_grid.predict(X_test)\n",
    "res = pd.DataFrame({\"F1\": f1_score(y_test, y_pred_xgb, average=\"weighted\"),\n",
    "                    \"Recall\": recall_score(y_test, y_pred_xgb)}, index=[\"xgboost\"])\n",
    "result = pd.concat([result, res], axis=0)\n",
    "result\n"
   ]
  },
  {
   "cell_type": "markdown",
   "metadata": {},
   "source": [
    "---"
   ]
  },
  {
   "cell_type": "markdown",
   "metadata": {},
   "source": [
    "# Compare Models"
   ]
  },
  {
   "cell_type": "code",
   "execution_count": 59,
   "metadata": {},
   "outputs": [
    {
     "data": {
      "text/html": [
       "<div>\n",
       "<style scoped>\n",
       "    .dataframe tbody tr th:only-of-type {\n",
       "        vertical-align: middle;\n",
       "    }\n",
       "\n",
       "    .dataframe tbody tr th {\n",
       "        vertical-align: top;\n",
       "    }\n",
       "\n",
       "    .dataframe thead th {\n",
       "        text-align: right;\n",
       "    }\n",
       "</style>\n",
       "<table border=\"1\" class=\"dataframe\">\n",
       "  <thead>\n",
       "    <tr style=\"text-align: right;\">\n",
       "      <th></th>\n",
       "      <th>F1</th>\n",
       "      <th>Recall</th>\n",
       "    </tr>\n",
       "  </thead>\n",
       "  <tbody>\n",
       "    <tr>\n",
       "      <th>logistic_regression</th>\n",
       "      <td>0.781</td>\n",
       "      <td>0.735</td>\n",
       "    </tr>\n",
       "    <tr>\n",
       "      <th>knn</th>\n",
       "      <td>0.736</td>\n",
       "      <td>0.612</td>\n",
       "    </tr>\n",
       "    <tr>\n",
       "      <th>svm</th>\n",
       "      <td>0.631</td>\n",
       "      <td>0.939</td>\n",
       "    </tr>\n",
       "    <tr>\n",
       "      <th>dt</th>\n",
       "      <td>0.770</td>\n",
       "      <td>0.653</td>\n",
       "    </tr>\n",
       "    <tr>\n",
       "      <th>rf</th>\n",
       "      <td>0.736</td>\n",
       "      <td>0.755</td>\n",
       "    </tr>\n",
       "    <tr>\n",
       "      <th>ada</th>\n",
       "      <td>0.772</td>\n",
       "      <td>0.592</td>\n",
       "    </tr>\n",
       "    <tr>\n",
       "      <th>gboost</th>\n",
       "      <td>0.796</td>\n",
       "      <td>0.653</td>\n",
       "    </tr>\n",
       "    <tr>\n",
       "      <th>xgboost</th>\n",
       "      <td>0.763</td>\n",
       "      <td>0.857</td>\n",
       "    </tr>\n",
       "  </tbody>\n",
       "</table>\n",
       "</div>"
      ],
      "text/plain": [
       "                       F1  Recall\n",
       "logistic_regression 0.781   0.735\n",
       "knn                 0.736   0.612\n",
       "svm                 0.631   0.939\n",
       "dt                  0.770   0.653\n",
       "rf                  0.736   0.755\n",
       "ada                 0.772   0.592\n",
       "gboost              0.796   0.653\n",
       "xgboost             0.763   0.857"
      ]
     },
     "execution_count": 59,
     "metadata": {},
     "output_type": "execute_result"
    }
   ],
   "source": [
    "result"
   ]
  },
  {
   "cell_type": "markdown",
   "metadata": {},
   "source": [
    "## ROC/AUC "
   ]
  },
  {
   "cell_type": "code",
   "execution_count": 60,
   "metadata": {},
   "outputs": [
    {
     "data": {
      "image/png": "[encoded data removed]",
      "text/plain": [
       "<Figure size 720x432 with 1 Axes>"
      ]
     },
     "metadata": {
      "needs_background": "light"
     },
     "output_type": "display_data"
    }
   ],
   "source": [
    "fig = plot_roc_curve(lr_model_grid, X_test, y_test, name=\"Logistic Regression\")\n",
    "fig = plot_roc_curve(knn_model_grid, X_test, y_test, name=\"KNN\", ax=fig.ax_)\n",
    "fig = plot_roc_curve(svm_model_grid, X_test, y_test, name=\"SVM\", ax=fig.ax_)\n",
    "fig = plot_roc_curve(dt_model_grid, X_test, y_test, name=\"Decision Tree\", ax=fig.ax_)\n",
    "fig = plot_roc_curve(rf_model_grid, X_test, y_test, name=\"Random Forest\", ax=fig.ax_)\n",
    "fig = plot_roc_curve(ada_model_grid, X_test, y_test, name=\"Ada Boost\", ax=fig.ax_)\n",
    "fig = plot_roc_curve(gb_model_grid, X_test, y_test, name=\"Gradient Boost\", ax=fig.ax_)\n",
    "fig = plot_roc_curve(xgb_model_grid, X_test, y_test, name=\"XGradient Boost\", ax=fig.ax_)\n"
   ]
  },
  {
   "cell_type": "markdown",
   "metadata": {},
   "source": [
    "## Presicion-Recall/AP"
   ]
  },
  {
   "cell_type": "code",
   "execution_count": 61,
   "metadata": {},
   "outputs": [
    {
     "data": {
      "image/png": "[encoded data removed]",
      "text/plain": [
       "<Figure size 720x432 with 1 Axes>"
      ]
     },
     "metadata": {
      "needs_background": "light"
     },
     "output_type": "display_data"
    }
   ],
   "source": [
    "fig = plot_precision_recall_curve(lr_model_grid, X_test, y_test, name=\"Logistic Regression\")\n",
    "fig = plot_precision_recall_curve(knn_model_grid, X_test, y_test, name=\"KNN\", ax=fig.ax_)\n",
    "fig = plot_precision_recall_curve(svm_model_grid, X_test, y_test, name=\"SVM\", ax=fig.ax_)\n",
    "fig = plot_precision_recall_curve(dt_model_grid, X_test, y_test, name=\"Decision Tree\", ax=fig.ax_)\n",
    "fig = plot_precision_recall_curve(rf_model_grid, X_test, y_test, name=\"Random Forest\", ax=fig.ax_)\n",
    "fig = plot_precision_recall_curve(ada_model_grid, X_test, y_test, name=\"Ada Boost\", ax=fig.ax_)\n",
    "fig = plot_precision_recall_curve(gb_model_grid, X_test, y_test, name=\"Gradient Boost\", ax=fig.ax_)\n",
    "fig = plot_precision_recall_curve(xgb_model_grid, X_test, y_test, name=\"XGradient Boost\", ax=fig.ax_)\n"
   ]
  },
  {
   "cell_type": "markdown",
   "metadata": {},
   "source": [
    "# Conclusion"
   ]
  },
  {
   "cell_type": "markdown",
   "metadata": {},
   "source": [
    "This notebook is prepared for a complete reference guide in classification tasks. A general performance metrics are explained first, then machine learning algorithms are applied in a clean, unbalanced small dataset. One can use the codes here to start a model training."
   ]
  },
  {
   "cell_type": "markdown",
   "metadata": {},
   "source": [
    ">Credits: The most codes and the images that are not referenced are adapted from [Clarusway](https://www.clarusway.com) Data Science course materials."
   ]
  },
  {
   "cell_type": "markdown",
   "metadata": {},
   "source": [
    "Prepared by Halil Saglamlar\n",
    "\n",
    "e-mail: hsaglamlar@gmail.com"
   ]
  },
  {
   "cell_type": "code",
   "execution_count": null,
   "metadata": {},
   "outputs": [],
   "source": [
    "kaggle datasets download -d mathchi/diabetes-data-set"
   ]
  }
 ],
 "metadata": {
  "interpreter": {
   "hash": "53a7fbe61d203d2dd91b6503d1477158e1dbff0453a610a9c429187bdf87bf58"
  },
  "kernelspec": {
   "display_name": "Python 3 (ipykernel)",
   "language": "python",
   "name": "python3"
  },
  "language_info": {
   "codemirror_mode": {
    "name": "ipython",
    "version": 3
   },
   "file_extension": ".py",
   "mimetype": "text/x-python",
   "name": "python",
   "nbconvert_exporter": "python",
   "pygments_lexer": "ipython3",
   "version": "3.9.5"
  }
 },
 "nbformat": 4,
 "nbformat_minor": 4
}
