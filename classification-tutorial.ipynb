{
 "cells": [
  {
   "cell_type": "markdown",
   "id": "a455294f",
   "metadata": {
    "papermill": {
     "duration": 0.086464,
     "end_time": "2022-03-09T14:08:44.280402",
     "exception": false,
     "start_time": "2022-03-09T14:08:44.193938",
     "status": "completed"
    },
    "tags": []
   },
   "source": [
    "# What Is Classification"
   ]
  },
  {
   "cell_type": "markdown",
   "id": "ae45ae63",
   "metadata": {
    "papermill": {
     "duration": 0.082554,
     "end_time": "2022-03-09T14:08:44.446868",
     "exception": false,
     "start_time": "2022-03-09T14:08:44.364314",
     "status": "completed"
    },
    "tags": []
   },
   "source": [
    "Classification is grouping of objects and samples into preset categories."
   ]
  },
  {
   "cell_type": "markdown",
   "id": "8b6223f9",
   "metadata": {
    "papermill": {
     "duration": 0.119323,
     "end_time": "2022-03-09T14:08:44.650013",
     "exception": false,
     "start_time": "2022-03-09T14:08:44.530690",
     "status": "completed"
    },
    "tags": []
   },
   "source": [
    "<img src=\"https://raw.githubusercontent.com/hsaglamlar/Machine_Learning_Projects/91cf7346025173dbcbde21ab8a92d07876f1f77d/Machine_Learning_Classification_Tutorial_Notebook/img/classification_vs_regression.png\" width=40%>"
   ]
  },
  {
   "cell_type": "markdown",
   "id": "835ed8c3",
   "metadata": {
    "papermill": {
     "duration": 0.092913,
     "end_time": "2022-03-09T14:08:44.849950",
     "exception": false,
     "start_time": "2022-03-09T14:08:44.757037",
     "status": "completed"
    },
    "tags": []
   },
   "source": [
    "There are two types of classification; **Binary** and **Multiclass**"
   ]
  },
  {
   "cell_type": "markdown",
   "id": "d5cbafd0",
   "metadata": {
    "papermill": {
     "duration": 0.10736,
     "end_time": "2022-03-09T14:08:45.046130",
     "exception": false,
     "start_time": "2022-03-09T14:08:44.938770",
     "status": "completed"
    },
    "tags": []
   },
   "source": [
    "<img src=\"https://raw.githubusercontent.com/hsaglamlar/Machine_Learning_Projects/91cf7346025173dbcbde21ab8a92d07876f1f77d/Machine_Learning_Classification_Tutorial_Notebook/img/binary_multi.png\" width=40%>\n",
    "\n",
    "[credit](https://medium.com/@b.terryjack/tips-and-tricks-for-multi-class-classification-c184ae1c8ffc)  \n",
    "\n",
    "In SVM (Support Vector Machine) decision for binary classification:\n",
    "- $wx+b=0$ , on the line\n",
    "- $wx+b>0$, positive class \n",
    "- $wx+b<0$, negative class"
   ]
  },
  {
   "cell_type": "markdown",
   "id": "743bf20c",
   "metadata": {
    "papermill": {
     "duration": 0.088812,
     "end_time": "2022-03-09T14:08:45.222974",
     "exception": false,
     "start_time": "2022-03-09T14:08:45.134162",
     "status": "completed"
    },
    "tags": []
   },
   "source": [
    "<img src=\"https://raw.githubusercontent.com/hsaglamlar/Machine_Learning_Projects/91cf7346025173dbcbde21ab8a92d07876f1f77d/Machine_Learning_Classification_Tutorial_Notebook/img/lr_1.png\" width=60%>"
   ]
  },
  {
   "cell_type": "markdown",
   "id": "57ca54ea",
   "metadata": {
    "papermill": {
     "duration": 0.088098,
     "end_time": "2022-03-09T14:08:45.398963",
     "exception": false,
     "start_time": "2022-03-09T14:08:45.310865",
     "status": "completed"
    },
    "tags": []
   },
   "source": [
    "In Logistic Regression, linear model is fit to sigmoid function to provide below constraints\n",
    "\n",
    "- $f(x)>0.5$, positive class \n",
    "- $f(x)<0.5$, negative class"
   ]
  },
  {
   "cell_type": "markdown",
   "id": "665d52b3",
   "metadata": {
    "papermill": {
     "duration": 0.087667,
     "end_time": "2022-03-09T14:08:45.576136",
     "exception": false,
     "start_time": "2022-03-09T14:08:45.488469",
     "status": "completed"
    },
    "tags": []
   },
   "source": [
    "# Performance Metrics On Classification Tasks"
   ]
  },
  {
   "cell_type": "markdown",
   "id": "6343b849",
   "metadata": {
    "papermill": {
     "duration": 0.087109,
     "end_time": "2022-03-09T14:08:45.749021",
     "exception": false,
     "start_time": "2022-03-09T14:08:45.661912",
     "status": "completed"
    },
    "tags": []
   },
   "source": [
    "![confusion matrix](https://raw.githubusercontent.com/hsaglamlar/Machine_Learning_Projects/91cf7346025173dbcbde21ab8a92d07876f1f77d/Machine_Learning_Classification_Tutorial_Notebook/img/metrics1.png)\n",
    "\n",
    "[credit](https://media-exp1.licdn.com/dms/document/C561FAQH6IGK-gLA7VQ/feedshare-document-pdf-analyzed/0/1646243769182?e=1646553600&v=beta&t=gW_m3PNakV7LWD2Php09dAc4iDk69806vfZmGweuuW8)"
   ]
  },
  {
   "cell_type": "markdown",
   "id": "0ed2dbed",
   "metadata": {
    "papermill": {
     "duration": 0.08887,
     "end_time": "2022-03-09T14:08:45.927084",
     "exception": false,
     "start_time": "2022-03-09T14:08:45.838214",
     "status": "completed"
    },
    "tags": []
   },
   "source": [
    "## Accuracy"
   ]
  },
  {
   "cell_type": "markdown",
   "id": "40cf02a0",
   "metadata": {
    "papermill": {
     "duration": 0.089492,
     "end_time": "2022-03-09T14:08:46.105814",
     "exception": false,
     "start_time": "2022-03-09T14:08:46.016322",
     "status": "completed"
    },
    "tags": []
   },
   "source": [
    "``Accuracy = (All corectly predcited) / (All Samples)``\n",
    "\n",
    "$Recall = (TP+TN) / (FP+TP+TN+FN) $\n"
   ]
  },
  {
   "cell_type": "markdown",
   "id": "cd7c1b97",
   "metadata": {
    "papermill": {
     "duration": 0.08536,
     "end_time": "2022-03-09T14:08:46.280309",
     "exception": false,
     "start_time": "2022-03-09T14:08:46.194949",
     "status": "completed"
    },
    "tags": []
   },
   "source": [
    "<img src=\"https://raw.githubusercontent.com/hsaglamlar/Machine_Learning_Projects/91cf7346025173dbcbde21ab8a92d07876f1f77d/Machine_Learning_Classification_Tutorial_Notebook/img/accuracy.png\" width=50%>"
   ]
  },
  {
   "cell_type": "markdown",
   "id": "ef51225a",
   "metadata": {
    "papermill": {
     "duration": 0.085,
     "end_time": "2022-03-09T14:08:46.452490",
     "exception": false,
     "start_time": "2022-03-09T14:08:46.367490",
     "status": "completed"
    },
    "tags": []
   },
   "source": [
    "Problem with accuracy in unbalanced data with 100 (10 + 90) samples:\n",
    "\n",
    "\n",
    "|                    | Predicted Not Cancer |Predicted Cancer |\n",
    "| -----------        | ---                  | ---             |\n",
    "| Actual Not Cancer  | 88                   | 2               |\n",
    "| Actual Cancer      | 7                    | 3               |\n",
    "\n",
    "\n",
    "$Accuracy = (3 + 88) / 100 = 91\\%$"
   ]
  },
  {
   "cell_type": "markdown",
   "id": "9dbf424c",
   "metadata": {
    "papermill": {
     "duration": 0.087104,
     "end_time": "2022-03-09T14:08:46.627695",
     "exception": false,
     "start_time": "2022-03-09T14:08:46.540591",
     "status": "completed"
    },
    "tags": []
   },
   "source": [
    "## Recall (Sensitivity, True Positive Rate)"
   ]
  },
  {
   "cell_type": "markdown",
   "id": "234a111d",
   "metadata": {
    "papermill": {
     "duration": 0.086743,
     "end_time": "2022-03-09T14:08:46.805409",
     "exception": false,
     "start_time": "2022-03-09T14:08:46.718666",
     "status": "completed"
    },
    "tags": []
   },
   "source": [
    " ``Recall = (All corectly predcited Positive Samples) / (All Actual Positive Samples)`` \n",
    " \n",
    "  $Recall = TP / (TP + FN) $"
   ]
  },
  {
   "cell_type": "markdown",
   "id": "858db71d",
   "metadata": {
    "papermill": {
     "duration": 0.086973,
     "end_time": "2022-03-09T14:08:46.981017",
     "exception": false,
     "start_time": "2022-03-09T14:08:46.894044",
     "status": "completed"
    },
    "tags": []
   },
   "source": [
    "<img src=\"https://raw.githubusercontent.com/hsaglamlar/Machine_Learning_Projects/91cf7346025173dbcbde21ab8a92d07876f1f77d/Machine_Learning_Classification_Tutorial_Notebook/img/ds1.png\" width=50%>\n",
    "\n",
    "$TP / (TP + FN) = 4 / 5 = 80\\%$"
   ]
  },
  {
   "cell_type": "markdown",
   "id": "ed83613b",
   "metadata": {
    "papermill": {
     "duration": 0.0886,
     "end_time": "2022-03-09T14:08:47.155185",
     "exception": false,
     "start_time": "2022-03-09T14:08:47.066585",
     "status": "completed"
    },
    "tags": []
   },
   "source": [
    "Problem with recall in unbalanced data with 100 (10 + 90) samples:\n",
    "\n",
    "\n",
    "|                    | Predicted Not Cancer |Predicted Cancer |\n",
    "| -----------        | ---                  | ---             |\n",
    "| Actual Not Cancer  | 88                   | 2               |\n",
    "| Actual Cancer      | 7                    | 3               |\n",
    "\n",
    "\n",
    "$Recall= 3 / (3+7) = 30\\% $\n",
    "\n",
    "(Accuracy is 85%)"
   ]
  },
  {
   "cell_type": "markdown",
   "id": "fb6dded3",
   "metadata": {
    "papermill": {
     "duration": 0.087949,
     "end_time": "2022-03-09T14:08:47.334550",
     "exception": false,
     "start_time": "2022-03-09T14:08:47.246601",
     "status": "completed"
    },
    "tags": []
   },
   "source": [
    "<img src=\"https://raw.githubusercontent.com/hsaglamlar/Machine_Learning_Projects/91cf7346025173dbcbde21ab8a92d07876f1f77d/Machine_Learning_Classification_Tutorial_Notebook/img/hack_recall.png\" width=50%>\n",
    "\n",
    "[credit](https://media-exp1.licdn.com/dms/document/C561FAQH6IGK-gLA7VQ/feedshare-document-pdf-analyzed/0/1646243769182?e=1646553600&v=beta&t=gW_m3PNakV7LWD2Php09dAc4iDk69806vfZmGweuuW8)\n"
   ]
  },
  {
   "cell_type": "markdown",
   "id": "ce451172",
   "metadata": {
    "papermill": {
     "duration": 0.088441,
     "end_time": "2022-03-09T14:08:47.512905",
     "exception": false,
     "start_time": "2022-03-09T14:08:47.424464",
     "status": "completed"
    },
    "tags": []
   },
   "source": [
    "## Presicion"
   ]
  },
  {
   "cell_type": "markdown",
   "id": "994fb0ba",
   "metadata": {
    "papermill": {
     "duration": 0.086341,
     "end_time": "2022-03-09T14:08:47.685874",
     "exception": false,
     "start_time": "2022-03-09T14:08:47.599533",
     "status": "completed"
    },
    "tags": []
   },
   "source": [
    " ``Presicion = (corectly predcited Positive Samples) / (All predcited Positives (correct or not))`` \n",
    " \n",
    "$ Presicion = TP / (TP + FP) $"
   ]
  },
  {
   "cell_type": "markdown",
   "id": "d79e710b",
   "metadata": {
    "papermill": {
     "duration": 0.087596,
     "end_time": "2022-03-09T14:08:47.861730",
     "exception": false,
     "start_time": "2022-03-09T14:08:47.774134",
     "status": "completed"
    },
    "tags": []
   },
   "source": [
    "<img src=\"https://raw.githubusercontent.com/hsaglamlar/Machine_Learning_Projects/91cf7346025173dbcbde21ab8a92d07876f1f77d/Machine_Learning_Classification_Tutorial_Notebook/img/ds1.png\" width=50%>\n",
    "\n",
    "$TP / (TP + FP) = 4 / 6 = 66\\% $"
   ]
  },
  {
   "cell_type": "markdown",
   "id": "d3e3d02e",
   "metadata": {
    "papermill": {
     "duration": 0.08877,
     "end_time": "2022-03-09T14:08:48.039405",
     "exception": false,
     "start_time": "2022-03-09T14:08:47.950635",
     "status": "completed"
    },
    "tags": []
   },
   "source": [
    "In unbalanced data with 100 (10 + 90) samples:\n",
    "\n",
    "\n",
    "|                    | Predicted Not Cancer |Predicted Cancer |\n",
    "| -----------        | ---                  | ---             |\n",
    "| Actual Not Cancer  | 88                   | 2               |\n",
    "| Actual Cancer      | 7                    | 3               |\n",
    "\n",
    "\n",
    "$Presicion= 3 / (3 + 2) = 60\\% $\n",
    "\n",
    "(Accuracy:85%, Recall:30%)"
   ]
  },
  {
   "cell_type": "markdown",
   "id": "d4d60bbd",
   "metadata": {
    "papermill": {
     "duration": 0.089887,
     "end_time": "2022-03-09T14:08:48.217702",
     "exception": false,
     "start_time": "2022-03-09T14:08:48.127815",
     "status": "completed"
    },
    "tags": []
   },
   "source": [
    "<img src=\"https://raw.githubusercontent.com/hsaglamlar/Machine_Learning_Projects/91cf7346025173dbcbde21ab8a92d07876f1f77d/Machine_Learning_Classification_Tutorial_Notebook/img/hack_presicion.png\" width=50%>\n"
   ]
  },
  {
   "cell_type": "markdown",
   "id": "a49e1919",
   "metadata": {
    "papermill": {
     "duration": 0.090954,
     "end_time": "2022-03-09T14:08:48.397673",
     "exception": false,
     "start_time": "2022-03-09T14:08:48.306719",
     "status": "completed"
    },
    "tags": []
   },
   "source": [
    "## F1 Score"
   ]
  },
  {
   "cell_type": "markdown",
   "id": "8a97ef70",
   "metadata": {
    "papermill": {
     "duration": 0.086218,
     "end_time": "2022-03-09T14:08:48.573182",
     "exception": false,
     "start_time": "2022-03-09T14:08:48.486964",
     "status": "completed"
    },
    "tags": []
   },
   "source": [
    "``F1 = 2 * Presicion * Recall / (Presicion + Recall)``\n",
    "\n",
    "- Harmonic mean of Presicion & Recall\n",
    "- Balance metric between Presicion & Recall\n",
    "- Usefull for unbalanced dataset"
   ]
  },
  {
   "cell_type": "markdown",
   "id": "b53fae69",
   "metadata": {
    "papermill": {
     "duration": 0.083225,
     "end_time": "2022-03-09T14:08:48.739796",
     "exception": false,
     "start_time": "2022-03-09T14:08:48.656571",
     "status": "completed"
    },
    "tags": []
   },
   "source": [
    "In unbalanced data with 100 (10 + 90) samples:\n",
    "\n",
    "\n",
    "$F1 = 2 * Presicion * Recall / (Presicion + Recall) = 2 * 0.6 * 0.3 / (0.6 + 0.3) = 40\\%$\n",
    "\n",
    "\n",
    "(Accuracy:85%, Recall:30% , Presicion:60%)"
   ]
  },
  {
   "cell_type": "markdown",
   "id": "9af090c2",
   "metadata": {
    "papermill": {
     "duration": 0.086304,
     "end_time": "2022-03-09T14:08:48.914951",
     "exception": false,
     "start_time": "2022-03-09T14:08:48.828647",
     "status": "completed"
    },
    "tags": []
   },
   "source": [
    "## ROC (Receiver Operating Curve) and AUC (Area Under Curve)"
   ]
  },
  {
   "cell_type": "markdown",
   "id": "c804832d",
   "metadata": {
    "papermill": {
     "duration": 0.08875,
     "end_time": "2022-03-09T14:08:49.090473",
     "exception": false,
     "start_time": "2022-03-09T14:08:49.001723",
     "status": "completed"
    },
    "tags": []
   },
   "source": [
    "The ROC curve is a plot of True Positive Rate (TPR) on the y-axis vs False Positive Rate (FPR) on the x-axis.\n",
    "\n",
    "$TPR = TP / (TP + FN) $ -> (Recall)\n",
    "\n",
    "$FPR = FP / (FP + TN) $ ->  False Positives (Actually negative) / All actual negatives)\n",
    "\n",
    "\n"
   ]
  },
  {
   "cell_type": "markdown",
   "id": "d1b15d06",
   "metadata": {
    "papermill": {
     "duration": 0.085926,
     "end_time": "2022-03-09T14:08:49.263053",
     "exception": false,
     "start_time": "2022-03-09T14:08:49.177127",
     "status": "completed"
    },
    "tags": []
   },
   "source": [
    "Purpose of ROC Curve:\n",
    "1. Analysing the strength/predictive power of a classifier.\n",
    "2. Determining optimal threshold.\n",
    "3. Comparing two models (using Area Under the Curve)."
   ]
  },
  {
   "cell_type": "markdown",
   "id": "34f1f46a",
   "metadata": {
    "papermill": {
     "duration": 0.082544,
     "end_time": "2022-03-09T14:08:49.429172",
     "exception": false,
     "start_time": "2022-03-09T14:08:49.346628",
     "status": "completed"
    },
    "tags": []
   },
   "source": [
    "<img src=\"https://raw.githubusercontent.com/hsaglamlar/Machine_Learning_Projects/91cf7346025173dbcbde21ab8a92d07876f1f77d/Machine_Learning_Classification_Tutorial_Notebook/img/Roc_curve.png\" width=30%>\n",
    "\n",
    "[credit](https://en.wikipedia.org/wiki/Receiver_operating_characteristic)"
   ]
  },
  {
   "cell_type": "markdown",
   "id": "f7d7b0f5",
   "metadata": {
    "papermill": {
     "duration": 0.081998,
     "end_time": "2022-03-09T14:08:49.594643",
     "exception": false,
     "start_time": "2022-03-09T14:08:49.512645",
     "status": "completed"
    },
    "tags": []
   },
   "source": [
    "Notes:\n",
    "- For every threshold confusion matrix is reconstructed and TPR & FPR calculated\n",
    "- For every TPR & FPR pair a graph is plotted\n",
    "- More Area under Curve (AUC) value better the model is\n",
    "- The curve that streches to point (0.0,1.0) , left upper corner, has better ROC score\n",
    "- It is not suitable for unbalanced datasets."
   ]
  },
  {
   "cell_type": "markdown",
   "id": "76d4d696",
   "metadata": {
    "papermill": {
     "duration": 0.082145,
     "end_time": "2022-03-09T14:08:49.759812",
     "exception": false,
     "start_time": "2022-03-09T14:08:49.677667",
     "status": "completed"
    },
    "tags": []
   },
   "source": [
    "## Precision and Recall Curve"
   ]
  },
  {
   "cell_type": "markdown",
   "id": "927774c1",
   "metadata": {
    "papermill": {
     "duration": 0.082278,
     "end_time": "2022-03-09T14:08:49.925067",
     "exception": false,
     "start_time": "2022-03-09T14:08:49.842789",
     "status": "completed"
    },
    "tags": []
   },
   "source": [
    "The precision-recall (PR) curve shows the tradeoff between precision and recall for different threshold. A high area under the curve represents both high recall and high precision where;\n",
    " - high precision relates to a low false positive rate (FP), \n",
    " - high recall relates to a low false negative rate (FN)."
   ]
  },
  {
   "cell_type": "markdown",
   "id": "a6412cea",
   "metadata": {
    "papermill": {
     "duration": 0.08288,
     "end_time": "2022-03-09T14:08:50.092327",
     "exception": false,
     "start_time": "2022-03-09T14:08:50.009447",
     "status": "completed"
    },
    "tags": []
   },
   "source": [
    "<img src=\"https://raw.githubusercontent.com/hsaglamlar/Machine_Learning_Projects/91cf7346025173dbcbde21ab8a92d07876f1f77d/Machine_Learning_Classification_Tutorial_Notebook/img/pr_curve.png\" width=30%>\n",
    "\n",
    "[credit](https://analyticsindiamag.com/complete-guide-to-understanding-precision-and-recall-curves/)"
   ]
  },
  {
   "cell_type": "markdown",
   "id": "596c44b1",
   "metadata": {
    "papermill": {
     "duration": 0.082115,
     "end_time": "2022-03-09T14:08:50.257256",
     "exception": false,
     "start_time": "2022-03-09T14:08:50.175141",
     "status": "completed"
    },
    "tags": []
   },
   "source": [
    "Some important pointers on the curve:\n",
    "\n",
    "- Point 1 corresponds to the threshold of 1\n",
    "- Point 3 corresponds to the threshold of 0\n",
    "- Point 4 corresponds to the threshold somewhere in the range (0, 1)\n",
    "- Point 2 corresponds to a Perfect model (along with Point 3)"
   ]
  },
  {
   "cell_type": "markdown",
   "id": "dc683491",
   "metadata": {
    "papermill": {
     "duration": 0.08219,
     "end_time": "2022-03-09T14:08:50.422818",
     "exception": false,
     "start_time": "2022-03-09T14:08:50.340628",
     "status": "completed"
    },
    "tags": []
   },
   "source": [
    "Notes:\n",
    "- PR curve is more sutitable in unbalanced data than ROC.\n",
    "- To calculate optimum threshold using PR curve, a threshold level closest to point 2 should be selected.\n",
    "- A better curve tends to move to point 2.\n"
   ]
  },
  {
   "cell_type": "markdown",
   "id": "d739ba72",
   "metadata": {
    "papermill": {
     "duration": 0.082278,
     "end_time": "2022-03-09T14:08:50.587571",
     "exception": false,
     "start_time": "2022-03-09T14:08:50.505293",
     "status": "completed"
    },
    "tags": []
   },
   "source": []
  },
  {
   "cell_type": "markdown",
   "id": "1dfa7d59",
   "metadata": {
    "papermill": {
     "duration": 0.081967,
     "end_time": "2022-03-09T14:08:50.752015",
     "exception": false,
     "start_time": "2022-03-09T14:08:50.670048",
     "status": "completed"
    },
    "tags": []
   },
   "source": [
    "---"
   ]
  },
  {
   "cell_type": "markdown",
   "id": "eab7287b",
   "metadata": {
    "papermill": {
     "duration": 0.082097,
     "end_time": "2022-03-09T14:08:50.917126",
     "exception": false,
     "start_time": "2022-03-09T14:08:50.835029",
     "status": "completed"
    },
    "tags": []
   },
   "source": [
    "# Import Core Libraries"
   ]
  },
  {
   "cell_type": "code",
   "execution_count": 1,
   "id": "ad101e7a",
   "metadata": {
    "execution": {
     "iopub.execute_input": "2022-03-09T14:08:51.092501Z",
     "iopub.status.busy": "2022-03-09T14:08:51.091915Z",
     "iopub.status.idle": "2022-03-09T14:08:52.295504Z",
     "shell.execute_reply": "2022-03-09T14:08:52.294770Z"
    },
    "papermill": {
     "duration": 1.294926,
     "end_time": "2022-03-09T14:08:52.295689",
     "exception": false,
     "start_time": "2022-03-09T14:08:51.000763",
     "status": "completed"
    },
    "tags": []
   },
   "outputs": [],
   "source": [
    "import numpy as np\n",
    "import pandas as pd\n",
    "import seaborn as sns\n",
    "import matplotlib.pyplot as plt\n",
    "\n",
    "from sklearn.preprocessing import StandardScaler\n",
    "from sklearn.pipeline import Pipeline\n",
    "from sklearn.model_selection import GridSearchCV, cross_validate, train_test_split"
   ]
  },
  {
   "cell_type": "code",
   "execution_count": 2,
   "id": "bdb99d67",
   "metadata": {
    "execution": {
     "iopub.execute_input": "2022-03-09T14:08:52.473695Z",
     "iopub.status.busy": "2022-03-09T14:08:52.472991Z",
     "iopub.status.idle": "2022-03-09T14:08:52.475073Z",
     "shell.execute_reply": "2022-03-09T14:08:52.475465Z"
    },
    "papermill": {
     "duration": 0.094447,
     "end_time": "2022-03-09T14:08:52.475654",
     "exception": false,
     "start_time": "2022-03-09T14:08:52.381207",
     "status": "completed"
    },
    "tags": []
   },
   "outputs": [],
   "source": [
    "\n",
    "import warnings\n",
    "%matplotlib inline\n",
    "# %matplotlib notebook\n",
    "plt.rcParams[\"figure.figsize\"] = (10, 6)\n",
    "warnings.filterwarnings(\"ignore\")\n",
    "warnings.warn(\"this will not show\")\n",
    "pd.set_option('display.float_format', lambda x: '%.3f' % x)\n"
   ]
  },
  {
   "cell_type": "markdown",
   "id": "8ec99bed",
   "metadata": {
    "papermill": {
     "duration": 0.084148,
     "end_time": "2022-03-09T14:08:52.647215",
     "exception": false,
     "start_time": "2022-03-09T14:08:52.563067",
     "status": "completed"
    },
    "tags": []
   },
   "source": [
    "# Prepare Data"
   ]
  },
  {
   "cell_type": "code",
   "execution_count": 3,
   "id": "2de86bff",
   "metadata": {
    "execution": {
     "iopub.execute_input": "2022-03-09T14:08:52.817252Z",
     "iopub.status.busy": "2022-03-09T14:08:52.816651Z",
     "iopub.status.idle": "2022-03-09T14:08:52.849402Z",
     "shell.execute_reply": "2022-03-09T14:08:52.849910Z"
    },
    "papermill": {
     "duration": 0.119219,
     "end_time": "2022-03-09T14:08:52.850076",
     "exception": false,
     "start_time": "2022-03-09T14:08:52.730857",
     "status": "completed"
    },
    "tags": []
   },
   "outputs": [
    {
     "data": {
      "text/html": [
       "<div>\n",
       "<style scoped>\n",
       "    .dataframe tbody tr th:only-of-type {\n",
       "        vertical-align: middle;\n",
       "    }\n",
       "\n",
       "    .dataframe tbody tr th {\n",
       "        vertical-align: top;\n",
       "    }\n",
       "\n",
       "    .dataframe thead th {\n",
       "        text-align: right;\n",
       "    }\n",
       "</style>\n",
       "<table border=\"1\" class=\"dataframe\">\n",
       "  <thead>\n",
       "    <tr style=\"text-align: right;\">\n",
       "      <th></th>\n",
       "      <th>Pregnancies</th>\n",
       "      <th>Glucose</th>\n",
       "      <th>BloodPressure</th>\n",
       "      <th>SkinThickness</th>\n",
       "      <th>Insulin</th>\n",
       "      <th>BMI</th>\n",
       "      <th>DiabetesPedigreeFunction</th>\n",
       "      <th>Age</th>\n",
       "      <th>Outcome</th>\n",
       "    </tr>\n",
       "  </thead>\n",
       "  <tbody>\n",
       "    <tr>\n",
       "      <th>0</th>\n",
       "      <td>6</td>\n",
       "      <td>148</td>\n",
       "      <td>72</td>\n",
       "      <td>35</td>\n",
       "      <td>0</td>\n",
       "      <td>33.600</td>\n",
       "      <td>0.627</td>\n",
       "      <td>50</td>\n",
       "      <td>1</td>\n",
       "    </tr>\n",
       "    <tr>\n",
       "      <th>1</th>\n",
       "      <td>1</td>\n",
       "      <td>85</td>\n",
       "      <td>66</td>\n",
       "      <td>29</td>\n",
       "      <td>0</td>\n",
       "      <td>26.600</td>\n",
       "      <td>0.351</td>\n",
       "      <td>31</td>\n",
       "      <td>0</td>\n",
       "    </tr>\n",
       "    <tr>\n",
       "      <th>2</th>\n",
       "      <td>8</td>\n",
       "      <td>183</td>\n",
       "      <td>64</td>\n",
       "      <td>0</td>\n",
       "      <td>0</td>\n",
       "      <td>23.300</td>\n",
       "      <td>0.672</td>\n",
       "      <td>32</td>\n",
       "      <td>1</td>\n",
       "    </tr>\n",
       "    <tr>\n",
       "      <th>3</th>\n",
       "      <td>1</td>\n",
       "      <td>89</td>\n",
       "      <td>66</td>\n",
       "      <td>23</td>\n",
       "      <td>94</td>\n",
       "      <td>28.100</td>\n",
       "      <td>0.167</td>\n",
       "      <td>21</td>\n",
       "      <td>0</td>\n",
       "    </tr>\n",
       "    <tr>\n",
       "      <th>4</th>\n",
       "      <td>0</td>\n",
       "      <td>137</td>\n",
       "      <td>40</td>\n",
       "      <td>35</td>\n",
       "      <td>168</td>\n",
       "      <td>43.100</td>\n",
       "      <td>2.288</td>\n",
       "      <td>33</td>\n",
       "      <td>1</td>\n",
       "    </tr>\n",
       "  </tbody>\n",
       "</table>\n",
       "</div>"
      ],
      "text/plain": [
       "   Pregnancies  Glucose  BloodPressure  SkinThickness  Insulin    BMI  \\\n",
       "0            6      148             72             35        0 33.600   \n",
       "1            1       85             66             29        0 26.600   \n",
       "2            8      183             64              0        0 23.300   \n",
       "3            1       89             66             23       94 28.100   \n",
       "4            0      137             40             35      168 43.100   \n",
       "\n",
       "   DiabetesPedigreeFunction  Age  Outcome  \n",
       "0                     0.627   50        1  \n",
       "1                     0.351   31        0  \n",
       "2                     0.672   32        1  \n",
       "3                     0.167   21        0  \n",
       "4                     2.288   33        1  "
      ]
     },
     "execution_count": 3,
     "metadata": {},
     "output_type": "execute_result"
    }
   ],
   "source": [
    "df = pd.read_csv(\"../input/pima-indians-diabetes-database/diabetes.csv\")\n",
    "df.head()\n"
   ]
  },
  {
   "cell_type": "code",
   "execution_count": 4,
   "id": "9f7e868d",
   "metadata": {
    "execution": {
     "iopub.execute_input": "2022-03-09T14:08:53.024914Z",
     "iopub.status.busy": "2022-03-09T14:08:53.024233Z",
     "iopub.status.idle": "2022-03-09T14:08:53.038753Z",
     "shell.execute_reply": "2022-03-09T14:08:53.038132Z"
    },
    "papermill": {
     "duration": 0.103322,
     "end_time": "2022-03-09T14:08:53.038886",
     "exception": false,
     "start_time": "2022-03-09T14:08:52.935564",
     "status": "completed"
    },
    "tags": []
   },
   "outputs": [
    {
     "data": {
      "text/plain": [
       "0    500\n",
       "1    268\n",
       "Name: Outcome, dtype: int64"
      ]
     },
     "execution_count": 4,
     "metadata": {},
     "output_type": "execute_result"
    }
   ],
   "source": [
    "df.Outcome.value_counts()\n"
   ]
  },
  {
   "cell_type": "code",
   "execution_count": 5,
   "id": "e5b5723f",
   "metadata": {
    "execution": {
     "iopub.execute_input": "2022-03-09T14:08:53.218912Z",
     "iopub.status.busy": "2022-03-09T14:08:53.218245Z",
     "iopub.status.idle": "2022-03-09T14:08:53.986750Z",
     "shell.execute_reply": "2022-03-09T14:08:53.986277Z"
    },
    "papermill": {
     "duration": 0.86159,
     "end_time": "2022-03-09T14:08:53.986885",
     "exception": false,
     "start_time": "2022-03-09T14:08:53.125295",
     "status": "completed"
    },
    "tags": []
   },
   "outputs": [
    {
     "data": {
      "image/png": "[encoded data removed]",
      "text/plain": [
       "<Figure size 1440x720 with 8 Axes>"
      ]
     },
     "metadata": {
      "needs_background": "light"
     },
     "output_type": "display_data"
    }
   ],
   "source": [
    "index = 0\n",
    "plt.figure(figsize=(20, 10))\n",
    "for feature in df.columns:\n",
    "    if feature != \"Outcome\":\n",
    "        index += 1\n",
    "        plt.subplot(3, 3, index)\n",
    "        sns.boxplot(df[feature])\n",
    "\n",
    "plt.tight_layout()\n",
    "plt.show()\n"
   ]
  },
  {
   "cell_type": "code",
   "execution_count": 6,
   "id": "a9cf8b0d",
   "metadata": {
    "execution": {
     "iopub.execute_input": "2022-03-09T14:08:54.170013Z",
     "iopub.status.busy": "2022-03-09T14:08:54.166396Z",
     "iopub.status.idle": "2022-03-09T14:08:54.173029Z",
     "shell.execute_reply": "2022-03-09T14:08:54.173503Z"
    },
    "papermill": {
     "duration": 0.100506,
     "end_time": "2022-03-09T14:08:54.173666",
     "exception": false,
     "start_time": "2022-03-09T14:08:54.073160",
     "status": "completed"
    },
    "tags": []
   },
   "outputs": [
    {
     "data": {
      "text/plain": [
       "0    473\n",
       "1    247\n",
       "Name: Outcome, dtype: int64"
      ]
     },
     "execution_count": 6,
     "metadata": {},
     "output_type": "execute_result"
    }
   ],
   "source": [
    "df = df[(df.SkinThickness < 70) & (df.Glucose > 0) & (df.BloodPressure > 35) & (df.BMI > 0)]\n",
    "df.Outcome.value_counts()\n"
   ]
  },
  {
   "cell_type": "code",
   "execution_count": 7,
   "id": "a5934c4a",
   "metadata": {
    "execution": {
     "iopub.execute_input": "2022-03-09T14:08:54.350761Z",
     "iopub.status.busy": "2022-03-09T14:08:54.349770Z",
     "iopub.status.idle": "2022-03-09T14:08:54.359032Z",
     "shell.execute_reply": "2022-03-09T14:08:54.360028Z"
    },
    "papermill": {
     "duration": 0.100419,
     "end_time": "2022-03-09T14:08:54.360209",
     "exception": false,
     "start_time": "2022-03-09T14:08:54.259790",
     "status": "completed"
    },
    "tags": []
   },
   "outputs": [],
   "source": [
    "X = df.drop('Outcome', axis=1)\n",
    "y = df['Outcome']\n",
    "X_train, X_test, y_train, y_test = train_test_split(X, y, test_size=0.2, stratify=y, random_state=42)\n"
   ]
  },
  {
   "cell_type": "code",
   "execution_count": 8,
   "id": "79d9597b",
   "metadata": {
    "execution": {
     "iopub.execute_input": "2022-03-09T14:08:54.542711Z",
     "iopub.status.busy": "2022-03-09T14:08:54.541832Z",
     "iopub.status.idle": "2022-03-09T14:08:54.543755Z",
     "shell.execute_reply": "2022-03-09T14:08:54.544226Z"
    },
    "papermill": {
     "duration": 0.096864,
     "end_time": "2022-03-09T14:08:54.544400",
     "exception": false,
     "start_time": "2022-03-09T14:08:54.447536",
     "status": "completed"
    },
    "tags": []
   },
   "outputs": [],
   "source": [
    "from sklearn.metrics import precision_score, recall_score, accuracy_score, f1_score\n",
    "from sklearn.metrics import classification_report, confusion_matrix, plot_confusion_matrix, plot_roc_curve, plot_precision_recall_curve\n",
    "\n",
    "\n",
    "def eval_metric(model, X_train, y_train, X_test, y_test):\n",
    "    y_train_pred = model.predict(X_train)\n",
    "    y_pred = model.predict(X_test)\n",
    "\n",
    "    print(\"Test_Set\")\n",
    "    print(confusion_matrix(y_test, y_pred))\n",
    "    print(classification_report(y_test, y_pred))\n",
    "    print()\n",
    "    print(\"Train_Set\")\n",
    "    print(confusion_matrix(y_train, y_train_pred))\n",
    "    print(classification_report(y_train, y_train_pred))\n"
   ]
  },
  {
   "cell_type": "markdown",
   "id": "3dc6fadd",
   "metadata": {
    "papermill": {
     "duration": 0.0856,
     "end_time": "2022-03-09T14:08:54.716205",
     "exception": false,
     "start_time": "2022-03-09T14:08:54.630605",
     "status": "completed"
    },
    "tags": []
   },
   "source": [
    "# Logistic Regression"
   ]
  },
  {
   "cell_type": "markdown",
   "id": "16f95080",
   "metadata": {
    "papermill": {
     "duration": 0.086699,
     "end_time": "2022-03-09T14:08:54.890644",
     "exception": false,
     "start_time": "2022-03-09T14:08:54.803945",
     "status": "completed"
    },
    "tags": []
   },
   "source": [
    "Import libraries"
   ]
  },
  {
   "cell_type": "code",
   "execution_count": 9,
   "id": "007111bd",
   "metadata": {
    "execution": {
     "iopub.execute_input": "2022-03-09T14:08:55.070950Z",
     "iopub.status.busy": "2022-03-09T14:08:55.069200Z",
     "iopub.status.idle": "2022-03-09T14:08:55.149387Z",
     "shell.execute_reply": "2022-03-09T14:08:55.148842Z"
    },
    "papermill": {
     "duration": 0.168523,
     "end_time": "2022-03-09T14:08:55.149548",
     "exception": false,
     "start_time": "2022-03-09T14:08:54.981025",
     "status": "completed"
    },
    "tags": []
   },
   "outputs": [],
   "source": [
    "from sklearn.linear_model import LogisticRegression\n",
    "from sklearn.model_selection import train_test_split\n",
    "log_model = LogisticRegression()\n"
   ]
  },
  {
   "cell_type": "code",
   "execution_count": 10,
   "id": "0ec4379d",
   "metadata": {
    "execution": {
     "iopub.execute_input": "2022-03-09T14:08:55.328895Z",
     "iopub.status.busy": "2022-03-09T14:08:55.328118Z",
     "iopub.status.idle": "2022-03-09T14:08:55.331169Z",
     "shell.execute_reply": "2022-03-09T14:08:55.331682Z"
    },
    "papermill": {
     "duration": 0.09606,
     "end_time": "2022-03-09T14:08:55.331861",
     "exception": false,
     "start_time": "2022-03-09T14:08:55.235801",
     "status": "completed"
    },
    "tags": []
   },
   "outputs": [
    {
     "data": {
      "text/plain": [
       "dict_keys(['C', 'class_weight', 'dual', 'fit_intercept', 'intercept_scaling', 'l1_ratio', 'max_iter', 'multi_class', 'n_jobs', 'penalty', 'random_state', 'solver', 'tol', 'verbose', 'warm_start'])"
      ]
     },
     "execution_count": 10,
     "metadata": {},
     "output_type": "execute_result"
    }
   ],
   "source": [
    "log_model.get_params().keys()\n"
   ]
  },
  {
   "cell_type": "markdown",
   "id": "5e70bee9",
   "metadata": {
    "papermill": {
     "duration": 0.085627,
     "end_time": "2022-03-09T14:08:55.503750",
     "exception": false,
     "start_time": "2022-03-09T14:08:55.418123",
     "status": "completed"
    },
    "tags": []
   },
   "source": [
    "Notes:\n",
    "- Logistic Regression penalty term (l1, l2, elasticnet) is used for regularizaiton.\n",
    "\n",
    "- C : Regularization parameter, lower C (close to 0) more regularization\n",
    "\n",
    "- class_weight :used when data unbalanced, the “balanced” mode uses the values of y to automatically adjust weights inversely proportional to class frequencies in the input data as ``n_samples / (n_classes * np.bincount(y))``.\n",
    "\n",
    "- solver : For small datasets, ‘liblinear’ is a good choice, whereas ‘sag’ and ‘saga’ are faster for large datasets. For multiclass problems, only ‘newton-cg’, ‘sag’, ‘saga’ and ‘lbfgs’ handle multinomial loss.\n",
    "\n",
    "[Logistic Regression Libray Page](https://scikit-learn.org/stable/modules/generated/sklearn.linear_model.LogisticRegression.html)"
   ]
  },
  {
   "cell_type": "markdown",
   "id": "7e72d42a",
   "metadata": {
    "papermill": {
     "duration": 0.102679,
     "end_time": "2022-03-09T14:08:55.710793",
     "exception": false,
     "start_time": "2022-03-09T14:08:55.608114",
     "status": "completed"
    },
    "tags": []
   },
   "source": [
    "Grid Search"
   ]
  },
  {
   "cell_type": "code",
   "execution_count": 11,
   "id": "bbb9383b",
   "metadata": {
    "execution": {
     "iopub.execute_input": "2022-03-09T14:08:55.886999Z",
     "iopub.status.busy": "2022-03-09T14:08:55.886108Z",
     "iopub.status.idle": "2022-03-09T14:08:55.890035Z",
     "shell.execute_reply": "2022-03-09T14:08:55.890466Z"
    },
    "papermill": {
     "duration": 0.093857,
     "end_time": "2022-03-09T14:08:55.890633",
     "exception": false,
     "start_time": "2022-03-09T14:08:55.796776",
     "status": "completed"
    },
    "tags": []
   },
   "outputs": [],
   "source": [
    "param_grid = {'lr__penalty': [\"l1\", \"l2\"],\n",
    "              'lr__C': np.logspace(-2, 2, 10),\n",
    "              'lr__solver': [\"lbfgs\", \"liblinear\"]}\n"
   ]
  },
  {
   "cell_type": "code",
   "execution_count": 12,
   "id": "4757a346",
   "metadata": {
    "execution": {
     "iopub.execute_input": "2022-03-09T14:08:56.068828Z",
     "iopub.status.busy": "2022-03-09T14:08:56.067886Z",
     "iopub.status.idle": "2022-03-09T14:08:58.492508Z",
     "shell.execute_reply": "2022-03-09T14:08:58.492939Z"
    },
    "papermill": {
     "duration": 2.515848,
     "end_time": "2022-03-09T14:08:58.493113",
     "exception": false,
     "start_time": "2022-03-09T14:08:55.977265",
     "status": "completed"
    },
    "tags": []
   },
   "outputs": [
    {
     "data": {
      "text/plain": [
       "GridSearchCV(cv=5,\n",
       "             estimator=Pipeline(steps=[('scaler', StandardScaler()),\n",
       "                                       ('lr',\n",
       "                                        LogisticRegression(class_weight='balanced',\n",
       "                                                           random_state=34))]),\n",
       "             n_jobs=-1,\n",
       "             param_grid={'lr__C': array([1.00000000e-02, 2.78255940e-02, 7.74263683e-02, 2.15443469e-01,\n",
       "       5.99484250e-01, 1.66810054e+00, 4.64158883e+00, 1.29154967e+01,\n",
       "       3.59381366e+01, 1.00000000e+02]),\n",
       "                         'lr__penalty': ['l1', 'l2'],\n",
       "                         'lr__solver': ['lbfgs', 'liblinear']},\n",
       "             scoring='recall')"
      ]
     },
     "execution_count": 12,
     "metadata": {},
     "output_type": "execute_result"
    }
   ],
   "source": [
    "operations = [(\"scaler\", StandardScaler()), (\"lr\", LogisticRegression(class_weight=\"balanced\", random_state=34))]\n",
    "model = Pipeline(steps=operations)\n",
    "\n",
    "lr_model_grid = GridSearchCV(model, param_grid, scoring=\"recall\", cv=5, n_jobs=-1)\n",
    "\n",
    "lr_model_grid.fit(X_train, y_train)\n"
   ]
  },
  {
   "cell_type": "code",
   "execution_count": 13,
   "id": "b5b8d65b",
   "metadata": {
    "execution": {
     "iopub.execute_input": "2022-03-09T14:08:58.672933Z",
     "iopub.status.busy": "2022-03-09T14:08:58.669840Z",
     "iopub.status.idle": "2022-03-09T14:08:58.676024Z",
     "shell.execute_reply": "2022-03-09T14:08:58.676581Z"
    },
    "papermill": {
     "duration": 0.097005,
     "end_time": "2022-03-09T14:08:58.676761",
     "exception": false,
     "start_time": "2022-03-09T14:08:58.579756",
     "status": "completed"
    },
    "tags": []
   },
   "outputs": [
    {
     "data": {
      "text/plain": [
       "{'lr__C': 0.0774263682681127, 'lr__penalty': 'l1', 'lr__solver': 'liblinear'}"
      ]
     },
     "execution_count": 13,
     "metadata": {},
     "output_type": "execute_result"
    }
   ],
   "source": [
    "lr_model_grid.best_params_\n"
   ]
  },
  {
   "cell_type": "code",
   "execution_count": 14,
   "id": "2f1c1155",
   "metadata": {
    "execution": {
     "iopub.execute_input": "2022-03-09T14:08:58.857755Z",
     "iopub.status.busy": "2022-03-09T14:08:58.857141Z",
     "iopub.status.idle": "2022-03-09T14:08:58.873276Z",
     "shell.execute_reply": "2022-03-09T14:08:58.873806Z"
    },
    "papermill": {
     "duration": 0.109837,
     "end_time": "2022-03-09T14:08:58.873972",
     "exception": false,
     "start_time": "2022-03-09T14:08:58.764135",
     "status": "completed"
    },
    "tags": []
   },
   "outputs": [
    {
     "name": "stdout",
     "output_type": "stream",
     "text": [
      "Test_Set\n",
      "[[76 19]\n",
      " [13 36]]\n",
      "              precision    recall  f1-score   support\n",
      "\n",
      "           0       0.85      0.80      0.83        95\n",
      "           1       0.65      0.73      0.69        49\n",
      "\n",
      "    accuracy                           0.78       144\n",
      "   macro avg       0.75      0.77      0.76       144\n",
      "weighted avg       0.79      0.78      0.78       144\n",
      "\n",
      "\n",
      "Train_Set\n",
      "[[286  92]\n",
      " [ 47 151]]\n",
      "              precision    recall  f1-score   support\n",
      "\n",
      "           0       0.86      0.76      0.80       378\n",
      "           1       0.62      0.76      0.68       198\n",
      "\n",
      "    accuracy                           0.76       576\n",
      "   macro avg       0.74      0.76      0.74       576\n",
      "weighted avg       0.78      0.76      0.76       576\n",
      "\n"
     ]
    }
   ],
   "source": [
    "eval_metric(lr_model_grid, X_train, y_train, X_test, y_test)\n"
   ]
  },
  {
   "cell_type": "markdown",
   "id": "d5afb809",
   "metadata": {
    "papermill": {
     "duration": 0.090235,
     "end_time": "2022-03-09T14:08:59.054253",
     "exception": false,
     "start_time": "2022-03-09T14:08:58.964018",
     "status": "completed"
    },
    "tags": []
   },
   "source": [
    "Cross Validate Model"
   ]
  },
  {
   "cell_type": "code",
   "execution_count": 15,
   "id": "73da4480",
   "metadata": {
    "execution": {
     "iopub.execute_input": "2022-03-09T14:08:59.240332Z",
     "iopub.status.busy": "2022-03-09T14:08:59.239363Z",
     "iopub.status.idle": "2022-03-09T14:08:59.349719Z",
     "shell.execute_reply": "2022-03-09T14:08:59.349109Z"
    },
    "papermill": {
     "duration": 0.206492,
     "end_time": "2022-03-09T14:08:59.349864",
     "exception": false,
     "start_time": "2022-03-09T14:08:59.143372",
     "status": "completed"
    },
    "tags": []
   },
   "outputs": [
    {
     "data": {
      "text/plain": [
       "test_precision   0.617\n",
       "test_recall      0.748\n",
       "test_f1          0.674\n",
       "test_accuracy    0.748\n",
       "dtype: float64"
      ]
     },
     "execution_count": 15,
     "metadata": {},
     "output_type": "execute_result"
    }
   ],
   "source": [
    "operations = [(\"scaler\", StandardScaler()),(\"lr\", LogisticRegression(class_weight=\"balanced\", C=0.0774, penalty=\"l1\",\n",
    "                                                                     solver='liblinear', random_state=34))]\n",
    "model = Pipeline(steps=operations)\n",
    "\n",
    "scores = cross_validate(model, X_train, y_train, scoring=['precision', 'recall', 'f1', 'accuracy'], cv=10)\n",
    "df_scores = pd.DataFrame(scores, index=range(1, 11))\n",
    "df_scores.mean()[2:]\n"
   ]
  },
  {
   "cell_type": "markdown",
   "id": "d39030f4",
   "metadata": {
    "papermill": {
     "duration": 0.088156,
     "end_time": "2022-03-09T14:08:59.527195",
     "exception": false,
     "start_time": "2022-03-09T14:08:59.439039",
     "status": "completed"
    },
    "tags": []
   },
   "source": [
    "Plot Persicion Recall Graph & Save Model Score"
   ]
  },
  {
   "cell_type": "code",
   "execution_count": 16,
   "id": "ea0e0e45",
   "metadata": {
    "execution": {
     "iopub.execute_input": "2022-03-09T14:08:59.707908Z",
     "iopub.status.busy": "2022-03-09T14:08:59.706973Z",
     "iopub.status.idle": "2022-03-09T14:08:59.930391Z",
     "shell.execute_reply": "2022-03-09T14:08:59.931002Z"
    },
    "papermill": {
     "duration": 0.315555,
     "end_time": "2022-03-09T14:08:59.931167",
     "exception": false,
     "start_time": "2022-03-09T14:08:59.615612",
     "status": "completed"
    },
    "tags": []
   },
   "outputs": [
    {
     "data": {
      "text/plain": [
       "<sklearn.metrics._plot.roc_curve.RocCurveDisplay at 0x7f0abc540cd0>"
      ]
     },
     "execution_count": 16,
     "metadata": {},
     "output_type": "execute_result"
    },
    {
     "data": {
      "image/png": "[encoded data removed]",
      "text/plain": [
       "<Figure size 720x432 with 1 Axes>"
      ]
     },
     "metadata": {
      "needs_background": "light"
     },
     "output_type": "display_data"
    }
   ],
   "source": [
    "plot_roc_curve(lr_model_grid, X_test, y_test, name=\"Logistic Regression\")\n"
   ]
  },
  {
   "cell_type": "code",
   "execution_count": 17,
   "id": "cdc77640",
   "metadata": {
    "execution": {
     "iopub.execute_input": "2022-03-09T14:09:00.117190Z",
     "iopub.status.busy": "2022-03-09T14:09:00.116257Z",
     "iopub.status.idle": "2022-03-09T14:09:00.341996Z",
     "shell.execute_reply": "2022-03-09T14:09:00.342400Z"
    },
    "papermill": {
     "duration": 0.31909,
     "end_time": "2022-03-09T14:09:00.342596",
     "exception": false,
     "start_time": "2022-03-09T14:09:00.023506",
     "status": "completed"
    },
    "tags": []
   },
   "outputs": [
    {
     "data": {
      "text/plain": [
       "<sklearn.metrics._plot.precision_recall_curve.PrecisionRecallDisplay at 0x7f0ae0996e90>"
      ]
     },
     "execution_count": 17,
     "metadata": {},
     "output_type": "execute_result"
    },
    {
     "data": {
      "image/png": "[encoded data removed]",
      "text/plain": [
       "<Figure size 720x432 with 1 Axes>"
      ]
     },
     "metadata": {
      "needs_background": "light"
     },
     "output_type": "display_data"
    }
   ],
   "source": [
    "plot_precision_recall_curve(lr_model_grid, X_test,y_test, name=\"Logistic Regression\")\n"
   ]
  },
  {
   "cell_type": "code",
   "execution_count": 18,
   "id": "9a2b62a7",
   "metadata": {
    "execution": {
     "iopub.execute_input": "2022-03-09T14:09:00.529054Z",
     "iopub.status.busy": "2022-03-09T14:09:00.528139Z",
     "iopub.status.idle": "2022-03-09T14:09:00.542490Z",
     "shell.execute_reply": "2022-03-09T14:09:00.542896Z"
    },
    "papermill": {
     "duration": 0.10909,
     "end_time": "2022-03-09T14:09:00.543061",
     "exception": false,
     "start_time": "2022-03-09T14:09:00.433971",
     "status": "completed"
    },
    "tags": []
   },
   "outputs": [
    {
     "data": {
      "text/html": [
       "<div>\n",
       "<style scoped>\n",
       "    .dataframe tbody tr th:only-of-type {\n",
       "        vertical-align: middle;\n",
       "    }\n",
       "\n",
       "    .dataframe tbody tr th {\n",
       "        vertical-align: top;\n",
       "    }\n",
       "\n",
       "    .dataframe thead th {\n",
       "        text-align: right;\n",
       "    }\n",
       "</style>\n",
       "<table border=\"1\" class=\"dataframe\">\n",
       "  <thead>\n",
       "    <tr style=\"text-align: right;\">\n",
       "      <th></th>\n",
       "      <th>F1</th>\n",
       "      <th>Recall</th>\n",
       "    </tr>\n",
       "  </thead>\n",
       "  <tbody>\n",
       "    <tr>\n",
       "      <th>logistic_regression</th>\n",
       "      <td>0.781</td>\n",
       "      <td>0.735</td>\n",
       "    </tr>\n",
       "  </tbody>\n",
       "</table>\n",
       "</div>"
      ],
      "text/plain": [
       "                       F1  Recall\n",
       "logistic_regression 0.781   0.735"
      ]
     },
     "execution_count": 18,
     "metadata": {},
     "output_type": "execute_result"
    }
   ],
   "source": [
    "y_pred_lr = lr_model_grid.predict(X_test)\n",
    "result = pd.DataFrame({\"F1\": f1_score(y_test, y_pred_lr, average=\"weighted\"),\n",
    "                      \"Recall\": recall_score(y_test, y_pred_lr)}, index=[\"logistic_regression\"])\n",
    "result\n"
   ]
  },
  {
   "cell_type": "markdown",
   "id": "53cbfd82",
   "metadata": {
    "papermill": {
     "duration": 0.093162,
     "end_time": "2022-03-09T14:09:00.727920",
     "exception": false,
     "start_time": "2022-03-09T14:09:00.634758",
     "status": "completed"
    },
    "tags": []
   },
   "source": [
    "---"
   ]
  },
  {
   "cell_type": "markdown",
   "id": "3121cc56",
   "metadata": {
    "papermill": {
     "duration": 0.091858,
     "end_time": "2022-03-09T14:09:00.912529",
     "exception": false,
     "start_time": "2022-03-09T14:09:00.820671",
     "status": "completed"
    },
    "tags": []
   },
   "source": [
    "# K-Nearest Neighbors(KNN)"
   ]
  },
  {
   "cell_type": "markdown",
   "id": "e34332ee",
   "metadata": {
    "papermill": {
     "duration": 0.093487,
     "end_time": "2022-03-09T14:09:01.097641",
     "exception": false,
     "start_time": "2022-03-09T14:09:01.004154",
     "status": "completed"
    },
    "tags": []
   },
   "source": [
    "Notes:\n",
    "- A lazy learner, no model constructed, all data is stored for prediction\n",
    "- Prediction made according to the test samples' closest neighbours\n",
    "- Non-parametric\n",
    "- Scaling is important, because it is based on distance \n",
    "- Not suitable for big datasets\n",
    "- Selecting optimal **k** is the most imported step (Elbow method)\n",
    "- Bigger **k** causes underfitting, while lower **k** overfitting\n",
    "\n",
    "Params:\n",
    "- weights; {‘uniform’, ‘distance’}, neigbours' distance effects on voting\n",
    "- p;  Minkowski metric. When p = 1, this is equivalent to using manhattan_distance (l1), and euclidean_distance (l2)\n",
    "\n",
    "[KNN Libray Page](https://scikit-learn.org/stable/modules/generated/sklearn.neighbors.KNeighborsClassifier.html)\n"
   ]
  },
  {
   "cell_type": "markdown",
   "id": "5e026bce",
   "metadata": {
    "papermill": {
     "duration": 0.091063,
     "end_time": "2022-03-09T14:09:01.281154",
     "exception": false,
     "start_time": "2022-03-09T14:09:01.190091",
     "status": "completed"
    },
    "tags": []
   },
   "source": [
    "<img src=\"https://raw.githubusercontent.com/hsaglamlar/Machine_Learning_Projects/91cf7346025173dbcbde21ab8a92d07876f1f77d/Machine_Learning_Classification_Tutorial_Notebook/img/knn.png\" width=70%>"
   ]
  },
  {
   "cell_type": "markdown",
   "id": "623b156d",
   "metadata": {
    "papermill": {
     "duration": 0.09051,
     "end_time": "2022-03-09T14:09:01.462850",
     "exception": false,
     "start_time": "2022-03-09T14:09:01.372340",
     "status": "completed"
    },
    "tags": []
   },
   "source": [
    "Import libraries"
   ]
  },
  {
   "cell_type": "code",
   "execution_count": 19,
   "id": "8f8585ed",
   "metadata": {
    "execution": {
     "iopub.execute_input": "2022-03-09T14:09:01.649341Z",
     "iopub.status.busy": "2022-03-09T14:09:01.648775Z",
     "iopub.status.idle": "2022-03-09T14:09:01.850727Z",
     "shell.execute_reply": "2022-03-09T14:09:01.850148Z"
    },
    "papermill": {
     "duration": 0.297143,
     "end_time": "2022-03-09T14:09:01.850880",
     "exception": false,
     "start_time": "2022-03-09T14:09:01.553737",
     "status": "completed"
    },
    "tags": []
   },
   "outputs": [],
   "source": [
    "from sklearn.neighbors import KNeighborsClassifier\n"
   ]
  },
  {
   "cell_type": "markdown",
   "id": "c7da9c61",
   "metadata": {
    "papermill": {
     "duration": 0.090638,
     "end_time": "2022-03-09T14:09:02.032208",
     "exception": false,
     "start_time": "2022-03-09T14:09:01.941570",
     "status": "completed"
    },
    "tags": []
   },
   "source": [
    "Grid Search"
   ]
  },
  {
   "cell_type": "code",
   "execution_count": 20,
   "id": "3ae6658a",
   "metadata": {
    "execution": {
     "iopub.execute_input": "2022-03-09T14:09:02.222511Z",
     "iopub.status.busy": "2022-03-09T14:09:02.221881Z",
     "iopub.status.idle": "2022-03-09T14:09:02.223980Z",
     "shell.execute_reply": "2022-03-09T14:09:02.224546Z"
    },
    "papermill": {
     "duration": 0.098209,
     "end_time": "2022-03-09T14:09:02.224704",
     "exception": false,
     "start_time": "2022-03-09T14:09:02.126495",
     "status": "completed"
    },
    "tags": []
   },
   "outputs": [],
   "source": [
    "operations = [(\"scaler\", StandardScaler()), (\"knn\", KNeighborsClassifier())]\n",
    "knn_model = Pipeline(steps=operations)\n"
   ]
  },
  {
   "cell_type": "code",
   "execution_count": 21,
   "id": "772fb42c",
   "metadata": {
    "execution": {
     "iopub.execute_input": "2022-03-09T14:09:02.411554Z",
     "iopub.status.busy": "2022-03-09T14:09:02.410653Z",
     "iopub.status.idle": "2022-03-09T14:09:05.572712Z",
     "shell.execute_reply": "2022-03-09T14:09:05.572121Z"
    },
    "papermill": {
     "duration": 3.256224,
     "end_time": "2022-03-09T14:09:05.572843",
     "exception": false,
     "start_time": "2022-03-09T14:09:02.316619",
     "status": "completed"
    },
    "tags": []
   },
   "outputs": [
    {
     "data": {
      "text/plain": [
       "{'knn__n_neighbors': 3}"
      ]
     },
     "execution_count": 21,
     "metadata": {},
     "output_type": "execute_result"
    }
   ],
   "source": [
    "param_grid = {'knn__n_neighbors': range(1, 30)}\n",
    "knn_model_grid = GridSearchCV(knn_model, param_grid, cv=10, scoring='recall')\n",
    "knn_model_grid.fit(X_train, y_train)\n",
    "knn_model_grid.best_params_\n"
   ]
  },
  {
   "cell_type": "markdown",
   "id": "18f75b34",
   "metadata": {
    "papermill": {
     "duration": 0.091518,
     "end_time": "2022-03-09T14:09:05.756023",
     "exception": false,
     "start_time": "2022-03-09T14:09:05.664505",
     "status": "completed"
    },
    "tags": []
   },
   "source": [
    "Elbow method for k selection"
   ]
  },
  {
   "cell_type": "code",
   "execution_count": 22,
   "id": "4d996dc6",
   "metadata": {
    "execution": {
     "iopub.execute_input": "2022-03-09T14:09:05.947083Z",
     "iopub.status.busy": "2022-03-09T14:09:05.946400Z",
     "iopub.status.idle": "2022-03-09T14:09:07.074466Z",
     "shell.execute_reply": "2022-03-09T14:09:07.073859Z"
    },
    "papermill": {
     "duration": 1.224003,
     "end_time": "2022-03-09T14:09:07.074601",
     "exception": false,
     "start_time": "2022-03-09T14:09:05.850598",
     "status": "completed"
    },
    "tags": []
   },
   "outputs": [],
   "source": [
    "test_error_rates = []\n",
    "train_error_rates = []\n",
    "\n",
    "\n",
    "for k in range(1, 30):\n",
    "\n",
    "    operations = [(\"scaler\", StandardScaler()),\n",
    "                  (\"knn\", KNeighborsClassifier(n_neighbors=k))]\n",
    "    knn = Pipeline(steps=operations)\n",
    "\n",
    "    knn.fit(X_train, y_train)\n",
    "\n",
    "    y_pred_test = knn.predict(X_test)\n",
    "    y_pred_train = knn.predict(X_train)\n",
    "\n",
    "    test_error = 1 - recall_score(y_test, y_pred_test)\n",
    "    train_error = 1 - recall_score(y_train, y_pred_train)\n",
    "    test_error_rates.append(test_error)\n",
    "    train_error_rates.append(train_error)\n"
   ]
  },
  {
   "cell_type": "code",
   "execution_count": 23,
   "id": "bac4300d",
   "metadata": {
    "execution": {
     "iopub.execute_input": "2022-03-09T14:09:07.261740Z",
     "iopub.status.busy": "2022-03-09T14:09:07.261075Z",
     "iopub.status.idle": "2022-03-09T14:09:07.499550Z",
     "shell.execute_reply": "2022-03-09T14:09:07.498943Z"
    },
    "papermill": {
     "duration": 0.333333,
     "end_time": "2022-03-09T14:09:07.499687",
     "exception": false,
     "start_time": "2022-03-09T14:09:07.166354",
     "status": "completed"
    },
    "tags": []
   },
   "outputs": [
    {
     "data": {
      "text/plain": [
       "Text(0, 0.5, 'Error Rate')"
      ]
     },
     "execution_count": 23,
     "metadata": {},
     "output_type": "execute_result"
    },
    {
     "data": {
      "image/png": "[encoded data removed]",
      "text/plain": [
       "<Figure size 1080x576 with 1 Axes>"
      ]
     },
     "metadata": {
      "needs_background": "light"
     },
     "output_type": "display_data"
    }
   ],
   "source": [
    "plt.figure(figsize=(15, 8))\n",
    "plt.plot(range(1, 30), test_error_rates, color='blue', linestyle='--', marker='o',markerfacecolor='blue', markersize=10)\n",
    "plt.plot(range(1, 30), train_error_rates, color='green', linestyle='--', marker='o',markerfacecolor='green', markersize=10)\n",
    "plt.title('Error Rate vs. K Value')\n",
    "plt.xlabel('K_values')\n",
    "plt.ylabel('Error Rate')\n"
   ]
  },
  {
   "cell_type": "markdown",
   "id": "dc38dbac",
   "metadata": {
    "papermill": {
     "duration": 0.095003,
     "end_time": "2022-03-09T14:09:07.690532",
     "exception": false,
     "start_time": "2022-03-09T14:09:07.595529",
     "status": "completed"
    },
    "tags": []
   },
   "source": [
    "With ellbow method selecting $k=5$ is a good option"
   ]
  },
  {
   "cell_type": "markdown",
   "id": "4929e9b6",
   "metadata": {
    "papermill": {
     "duration": 0.093266,
     "end_time": "2022-03-09T14:09:07.878296",
     "exception": false,
     "start_time": "2022-03-09T14:09:07.785030",
     "status": "completed"
    },
    "tags": []
   },
   "source": []
  },
  {
   "cell_type": "markdown",
   "id": "53a4c4f3",
   "metadata": {
    "papermill": {
     "duration": 0.095351,
     "end_time": "2022-03-09T14:09:08.069154",
     "exception": false,
     "start_time": "2022-03-09T14:09:07.973803",
     "status": "completed"
    },
    "tags": []
   },
   "source": [
    "Cross Validate Model"
   ]
  },
  {
   "cell_type": "code",
   "execution_count": 24,
   "id": "e8fba8bb",
   "metadata": {
    "execution": {
     "iopub.execute_input": "2022-03-09T14:09:08.266078Z",
     "iopub.status.busy": "2022-03-09T14:09:08.265395Z",
     "iopub.status.idle": "2022-03-09T14:09:08.307443Z",
     "shell.execute_reply": "2022-03-09T14:09:08.308147Z"
    },
    "papermill": {
     "duration": 0.143654,
     "end_time": "2022-03-09T14:09:08.308368",
     "exception": false,
     "start_time": "2022-03-09T14:09:08.164714",
     "status": "completed"
    },
    "tags": []
   },
   "outputs": [
    {
     "name": "stdout",
     "output_type": "stream",
     "text": [
      "Test_Set\n",
      "[[76 19]\n",
      " [19 30]]\n",
      "              precision    recall  f1-score   support\n",
      "\n",
      "           0       0.80      0.80      0.80        95\n",
      "           1       0.61      0.61      0.61        49\n",
      "\n",
      "    accuracy                           0.74       144\n",
      "   macro avg       0.71      0.71      0.71       144\n",
      "weighted avg       0.74      0.74      0.74       144\n",
      "\n",
      "\n",
      "Train_Set\n",
      "[[352  26]\n",
      " [ 51 147]]\n",
      "              precision    recall  f1-score   support\n",
      "\n",
      "           0       0.87      0.93      0.90       378\n",
      "           1       0.85      0.74      0.79       198\n",
      "\n",
      "    accuracy                           0.87       576\n",
      "   macro avg       0.86      0.84      0.85       576\n",
      "weighted avg       0.87      0.87      0.86       576\n",
      "\n"
     ]
    }
   ],
   "source": [
    "eval_metric(knn_model_grid, X_train, y_train, X_test, y_test)\n"
   ]
  },
  {
   "cell_type": "code",
   "execution_count": 25,
   "id": "0eb888ab",
   "metadata": {
    "execution": {
     "iopub.execute_input": "2022-03-09T14:09:08.501622Z",
     "iopub.status.busy": "2022-03-09T14:09:08.501030Z",
     "iopub.status.idle": "2022-03-09T14:09:08.580493Z",
     "shell.execute_reply": "2022-03-09T14:09:08.579921Z"
    },
    "papermill": {
     "duration": 0.176251,
     "end_time": "2022-03-09T14:09:08.580622",
     "exception": false,
     "start_time": "2022-03-09T14:09:08.404371",
     "status": "completed"
    },
    "tags": []
   },
   "outputs": [
    {
     "data": {
      "text/plain": [
       "test_accuracy    0.722\n",
       "test_precision   0.615\n",
       "test_recall      0.505\n",
       "test_f1          0.553\n",
       "dtype: float64"
      ]
     },
     "execution_count": 25,
     "metadata": {},
     "output_type": "execute_result"
    }
   ],
   "source": [
    "\n",
    "operations = [(\"scaler\", StandardScaler()),\n",
    "              (\"knn\", KNeighborsClassifier(n_neighbors=5))]\n",
    "knn1 = Pipeline(steps=operations)\n",
    "scores = cross_validate(knn1, X_train, y_train,scoring=['accuracy', 'precision', 'recall', 'f1'], cv=5)\n",
    "df_scores = pd.DataFrame(scores, index=range(1, 6))\n",
    "df_scores.mean()[2:]\n"
   ]
  },
  {
   "cell_type": "markdown",
   "id": "2cdbbb0e",
   "metadata": {
    "papermill": {
     "duration": 0.094547,
     "end_time": "2022-03-09T14:09:08.769583",
     "exception": false,
     "start_time": "2022-03-09T14:09:08.675036",
     "status": "completed"
    },
    "tags": []
   },
   "source": [
    "Save Model Score"
   ]
  },
  {
   "cell_type": "code",
   "execution_count": 26,
   "id": "7d98e3f8",
   "metadata": {
    "execution": {
     "iopub.execute_input": "2022-03-09T14:09:08.964257Z",
     "iopub.status.busy": "2022-03-09T14:09:08.963678Z",
     "iopub.status.idle": "2022-03-09T14:09:08.983294Z",
     "shell.execute_reply": "2022-03-09T14:09:08.983758Z"
    },
    "papermill": {
     "duration": 0.119372,
     "end_time": "2022-03-09T14:09:08.983918",
     "exception": false,
     "start_time": "2022-03-09T14:09:08.864546",
     "status": "completed"
    },
    "tags": []
   },
   "outputs": [
    {
     "data": {
      "text/html": [
       "<div>\n",
       "<style scoped>\n",
       "    .dataframe tbody tr th:only-of-type {\n",
       "        vertical-align: middle;\n",
       "    }\n",
       "\n",
       "    .dataframe tbody tr th {\n",
       "        vertical-align: top;\n",
       "    }\n",
       "\n",
       "    .dataframe thead th {\n",
       "        text-align: right;\n",
       "    }\n",
       "</style>\n",
       "<table border=\"1\" class=\"dataframe\">\n",
       "  <thead>\n",
       "    <tr style=\"text-align: right;\">\n",
       "      <th></th>\n",
       "      <th>F1</th>\n",
       "      <th>Recall</th>\n",
       "    </tr>\n",
       "  </thead>\n",
       "  <tbody>\n",
       "    <tr>\n",
       "      <th>logistic_regression</th>\n",
       "      <td>0.781</td>\n",
       "      <td>0.735</td>\n",
       "    </tr>\n",
       "    <tr>\n",
       "      <th>knn</th>\n",
       "      <td>0.736</td>\n",
       "      <td>0.612</td>\n",
       "    </tr>\n",
       "  </tbody>\n",
       "</table>\n",
       "</div>"
      ],
      "text/plain": [
       "                       F1  Recall\n",
       "logistic_regression 0.781   0.735\n",
       "knn                 0.736   0.612"
      ]
     },
     "execution_count": 26,
     "metadata": {},
     "output_type": "execute_result"
    }
   ],
   "source": [
    "y_pred_knn = knn_model_grid.predict(X_test)\n",
    "res = pd.DataFrame({\"F1\": f1_score(y_test, y_pred_knn, average=\"weighted\"),\n",
    "                    \"Recall\": recall_score(y_test, y_pred_knn)}, index=[\"knn\"])\n",
    "result = pd.concat([result, res], axis=0)\n",
    "result\n"
   ]
  },
  {
   "cell_type": "markdown",
   "id": "88e537a2",
   "metadata": {
    "papermill": {
     "duration": 0.094718,
     "end_time": "2022-03-09T14:09:09.174655",
     "exception": false,
     "start_time": "2022-03-09T14:09:09.079937",
     "status": "completed"
    },
    "tags": []
   },
   "source": [
    "---"
   ]
  },
  {
   "cell_type": "markdown",
   "id": "1d25cd50",
   "metadata": {
    "papermill": {
     "duration": 0.094853,
     "end_time": "2022-03-09T14:09:09.364857",
     "exception": false,
     "start_time": "2022-03-09T14:09:09.270004",
     "status": "completed"
    },
    "tags": []
   },
   "source": [
    "# SVM, Support Vector Machines"
   ]
  },
  {
   "cell_type": "markdown",
   "id": "3e7f31d6",
   "metadata": {
    "papermill": {
     "duration": 0.094995,
     "end_time": "2022-03-09T14:09:09.555579",
     "exception": false,
     "start_time": "2022-03-09T14:09:09.460584",
     "status": "completed"
    },
    "tags": []
   },
   "source": [
    "Notes:\n",
    "- Find a separating best line that maximizes the margin (gap) between positive and negative samples\n",
    "- C parameter is regularization parameter, inverse of aplha in linesr regression, increase in C causes overfitting\n",
    "- Kernel trick is the key point of SVM\n",
    "- gamma parameter is only for kernel other than linear, increasing gamma causes more complex boundaries\n",
    "\n",
    "[SVM Libray Page](https://scikit-learn.org/stable/modules/generated/sklearn.svm.SVC.html)"
   ]
  },
  {
   "cell_type": "markdown",
   "id": "8cbcc59b",
   "metadata": {
    "papermill": {
     "duration": 0.09471,
     "end_time": "2022-03-09T14:09:09.745331",
     "exception": false,
     "start_time": "2022-03-09T14:09:09.650621",
     "status": "completed"
    },
    "tags": []
   },
   "source": [
    "<img src=\"https://raw.githubusercontent.com/hsaglamlar/Machine_Learning_Projects/91cf7346025173dbcbde21ab8a92d07876f1f77d/Machine_Learning_Classification_Tutorial_Notebook/img/svm.png\" width=70%>\n",
    "<img src=\"https://raw.githubusercontent.com/hsaglamlar/Machine_Learning_Projects/91cf7346025173dbcbde21ab8a92d07876f1f77d/Machine_Learning_Classification_Tutorial_Notebook/img/svm2.png\" width=70%>\n",
    "<img src=\"https://raw.githubusercontent.com/hsaglamlar/Machine_Learning_Projects/91cf7346025173dbcbde21ab8a92d07876f1f77d/Machine_Learning_Classification_Tutorial_Notebook/img/svm3.png\" width=70%>\n"
   ]
  },
  {
   "cell_type": "markdown",
   "id": "d873f09c",
   "metadata": {
    "papermill": {
     "duration": 0.094781,
     "end_time": "2022-03-09T14:09:09.935368",
     "exception": false,
     "start_time": "2022-03-09T14:09:09.840587",
     "status": "completed"
    },
    "tags": []
   },
   "source": [
    "Import libraries"
   ]
  },
  {
   "cell_type": "code",
   "execution_count": 27,
   "id": "df6780d3",
   "metadata": {
    "execution": {
     "iopub.execute_input": "2022-03-09T14:09:10.133471Z",
     "iopub.status.busy": "2022-03-09T14:09:10.132749Z",
     "iopub.status.idle": "2022-03-09T14:09:10.137017Z",
     "shell.execute_reply": "2022-03-09T14:09:10.136435Z"
    },
    "papermill": {
     "duration": 0.105292,
     "end_time": "2022-03-09T14:09:10.137149",
     "exception": false,
     "start_time": "2022-03-09T14:09:10.031857",
     "status": "completed"
    },
    "tags": []
   },
   "outputs": [],
   "source": [
    "from sklearn.svm import SVC\n"
   ]
  },
  {
   "cell_type": "markdown",
   "id": "aabd3455",
   "metadata": {
    "papermill": {
     "duration": 0.095379,
     "end_time": "2022-03-09T14:09:10.328196",
     "exception": false,
     "start_time": "2022-03-09T14:09:10.232817",
     "status": "completed"
    },
    "tags": []
   },
   "source": [
    "Grid Search"
   ]
  },
  {
   "cell_type": "code",
   "execution_count": 28,
   "id": "df88516f",
   "metadata": {
    "execution": {
     "iopub.execute_input": "2022-03-09T14:09:10.522508Z",
     "iopub.status.busy": "2022-03-09T14:09:10.521613Z",
     "iopub.status.idle": "2022-03-09T14:09:13.324238Z",
     "shell.execute_reply": "2022-03-09T14:09:13.324922Z"
    },
    "papermill": {
     "duration": 2.90128,
     "end_time": "2022-03-09T14:09:13.325097",
     "exception": false,
     "start_time": "2022-03-09T14:09:10.423817",
     "status": "completed"
    },
    "tags": []
   },
   "outputs": [
    {
     "data": {
      "text/plain": [
       "{'svm__C': 0.05, 'svm__gamma': 0.3, 'svm__kernel': 'rbf'}"
      ]
     },
     "execution_count": 28,
     "metadata": {},
     "output_type": "execute_result"
    }
   ],
   "source": [
    "operations = [(\"scaler\", StandardScaler()),\n",
    "              (\"svm\", SVC(class_weight=\"balanced\", random_state=42))]\n",
    "svm_model = Pipeline(steps=operations)\n",
    "\n",
    "param_grid = {'svm__C': [0.001, 0.05, 0.01, 0.1],\n",
    "              'svm__gamma': [\"scale\", \"auto\", 0.3, 2],\n",
    "              'svm__kernel': ['rbf', 'linear']}\n",
    "\n",
    "svm_model_grid = GridSearchCV(svm_model, param_grid, scoring=\"recall\", cv=10, n_jobs=-1)\n",
    "svm_model_grid.fit(X_train, y_train)\n",
    "svm_model_grid.best_params_\n"
   ]
  },
  {
   "cell_type": "code",
   "execution_count": 29,
   "id": "cf0fdb96",
   "metadata": {
    "execution": {
     "iopub.execute_input": "2022-03-09T14:09:13.523067Z",
     "iopub.status.busy": "2022-03-09T14:09:13.522437Z",
     "iopub.status.idle": "2022-03-09T14:09:13.564594Z",
     "shell.execute_reply": "2022-03-09T14:09:13.563739Z"
    },
    "papermill": {
     "duration": 0.140847,
     "end_time": "2022-03-09T14:09:13.564775",
     "exception": false,
     "start_time": "2022-03-09T14:09:13.423928",
     "status": "completed"
    },
    "tags": []
   },
   "outputs": [
    {
     "name": "stdout",
     "output_type": "stream",
     "text": [
      "Test_Set\n",
      "[[45 50]\n",
      " [ 3 46]]\n",
      "              precision    recall  f1-score   support\n",
      "\n",
      "           0       0.94      0.47      0.63        95\n",
      "           1       0.48      0.94      0.63        49\n",
      "\n",
      "    accuracy                           0.63       144\n",
      "   macro avg       0.71      0.71      0.63       144\n",
      "weighted avg       0.78      0.63      0.63       144\n",
      "\n",
      "\n",
      "Train_Set\n",
      "[[190 188]\n",
      " [ 19 179]]\n",
      "              precision    recall  f1-score   support\n",
      "\n",
      "           0       0.91      0.50      0.65       378\n",
      "           1       0.49      0.90      0.63       198\n",
      "\n",
      "    accuracy                           0.64       576\n",
      "   macro avg       0.70      0.70      0.64       576\n",
      "weighted avg       0.76      0.64      0.64       576\n",
      "\n"
     ]
    }
   ],
   "source": [
    "eval_metric(svm_model_grid, X_train, y_train, X_test, y_test)\n"
   ]
  },
  {
   "cell_type": "markdown",
   "id": "a6310578",
   "metadata": {
    "papermill": {
     "duration": 0.09648,
     "end_time": "2022-03-09T14:09:13.759802",
     "exception": false,
     "start_time": "2022-03-09T14:09:13.663322",
     "status": "completed"
    },
    "tags": []
   },
   "source": [
    "Cross Validate Model"
   ]
  },
  {
   "cell_type": "code",
   "execution_count": 30,
   "id": "b7958be1",
   "metadata": {
    "execution": {
     "iopub.execute_input": "2022-03-09T14:09:13.962033Z",
     "iopub.status.busy": "2022-03-09T14:09:13.961374Z",
     "iopub.status.idle": "2022-03-09T14:09:14.260824Z",
     "shell.execute_reply": "2022-03-09T14:09:14.260306Z"
    },
    "papermill": {
     "duration": 0.403207,
     "end_time": "2022-03-09T14:09:14.260955",
     "exception": false,
     "start_time": "2022-03-09T14:09:13.857748",
     "status": "completed"
    },
    "tags": []
   },
   "outputs": [
    {
     "data": {
      "text/plain": [
       "test_accuracy    0.707\n",
       "test_precision   0.551\n",
       "test_recall      0.854\n",
       "test_f1          0.669\n",
       "dtype: float64"
      ]
     },
     "execution_count": 30,
     "metadata": {},
     "output_type": "execute_result"
    }
   ],
   "source": [
    "operations = [(\"scaler\", StandardScaler()), (\"svm\", SVC(C=0.3, gamma=0.3, kernel='rbf', probability=True,\n",
    "                                                        class_weight=\"balanced\", random_state=42))]\n",
    "svm_model_cv = Pipeline(steps=operations)\n",
    "\n",
    "scores = cross_validate(svm_model_cv, X_train, y_train, scoring=['accuracy', 'precision', 'recall', 'f1'], cv=5)\n",
    "df_scores = pd.DataFrame(scores, index=range(1, 6))\n",
    "df_scores.mean()[2:]\n"
   ]
  },
  {
   "cell_type": "markdown",
   "id": "ebf2a095",
   "metadata": {
    "papermill": {
     "duration": 0.0969,
     "end_time": "2022-03-09T14:09:14.456502",
     "exception": false,
     "start_time": "2022-03-09T14:09:14.359602",
     "status": "completed"
    },
    "tags": []
   },
   "source": [
    "Save Model Score"
   ]
  },
  {
   "cell_type": "code",
   "execution_count": 31,
   "id": "4bcb6fd2",
   "metadata": {
    "execution": {
     "iopub.execute_input": "2022-03-09T14:09:14.658237Z",
     "iopub.status.busy": "2022-03-09T14:09:14.657650Z",
     "iopub.status.idle": "2022-03-09T14:09:14.674096Z",
     "shell.execute_reply": "2022-03-09T14:09:14.673526Z"
    },
    "papermill": {
     "duration": 0.120765,
     "end_time": "2022-03-09T14:09:14.674226",
     "exception": false,
     "start_time": "2022-03-09T14:09:14.553461",
     "status": "completed"
    },
    "tags": []
   },
   "outputs": [
    {
     "data": {
      "text/html": [
       "<div>\n",
       "<style scoped>\n",
       "    .dataframe tbody tr th:only-of-type {\n",
       "        vertical-align: middle;\n",
       "    }\n",
       "\n",
       "    .dataframe tbody tr th {\n",
       "        vertical-align: top;\n",
       "    }\n",
       "\n",
       "    .dataframe thead th {\n",
       "        text-align: right;\n",
       "    }\n",
       "</style>\n",
       "<table border=\"1\" class=\"dataframe\">\n",
       "  <thead>\n",
       "    <tr style=\"text-align: right;\">\n",
       "      <th></th>\n",
       "      <th>F1</th>\n",
       "      <th>Recall</th>\n",
       "    </tr>\n",
       "  </thead>\n",
       "  <tbody>\n",
       "    <tr>\n",
       "      <th>logistic_regression</th>\n",
       "      <td>0.781</td>\n",
       "      <td>0.735</td>\n",
       "    </tr>\n",
       "    <tr>\n",
       "      <th>knn</th>\n",
       "      <td>0.736</td>\n",
       "      <td>0.612</td>\n",
       "    </tr>\n",
       "    <tr>\n",
       "      <th>svm</th>\n",
       "      <td>0.631</td>\n",
       "      <td>0.939</td>\n",
       "    </tr>\n",
       "  </tbody>\n",
       "</table>\n",
       "</div>"
      ],
      "text/plain": [
       "                       F1  Recall\n",
       "logistic_regression 0.781   0.735\n",
       "knn                 0.736   0.612\n",
       "svm                 0.631   0.939"
      ]
     },
     "execution_count": 31,
     "metadata": {},
     "output_type": "execute_result"
    }
   ],
   "source": [
    "y_pred_svm = svm_model_grid.predict(X_test)\n",
    "res = pd.DataFrame({\"F1\": f1_score(y_test, y_pred_svm, average=\"weighted\"),\n",
    "                    \"Recall\": recall_score(y_test, y_pred_svm)}, index=[\"svm\"])\n",
    "result = pd.concat([result, res], axis=0)\n",
    "result\n"
   ]
  },
  {
   "cell_type": "markdown",
   "id": "b6f0b0be",
   "metadata": {
    "papermill": {
     "duration": 0.098336,
     "end_time": "2022-03-09T14:09:14.872119",
     "exception": false,
     "start_time": "2022-03-09T14:09:14.773783",
     "status": "completed"
    },
    "tags": []
   },
   "source": [
    "---"
   ]
  },
  {
   "cell_type": "markdown",
   "id": "665b6cc7",
   "metadata": {
    "papermill": {
     "duration": 0.097433,
     "end_time": "2022-03-09T14:09:15.067451",
     "exception": false,
     "start_time": "2022-03-09T14:09:14.970018",
     "status": "completed"
    },
    "tags": []
   },
   "source": [
    "#  Decision Tree"
   ]
  },
  {
   "cell_type": "markdown",
   "id": "d1221533",
   "metadata": {
    "papermill": {
     "duration": 0.097238,
     "end_time": "2022-03-09T14:09:15.263740",
     "exception": false,
     "start_time": "2022-03-09T14:09:15.166502",
     "status": "completed"
    },
    "tags": []
   },
   "source": [
    "Notes:\n",
    "- Aim in spiltting is to get highest homogenety among regions\n",
    "- Spliting according to **Gini Index** and **Entropy**\n",
    "- Gini is a criterion to minimize the probability of misclassification\n",
    "- Entropy (chaos) measures the impurity or uncertainty in a group of observations. Aim for better split is to minimize entropy that results in higher **Information Gain**.\n",
    "- **Scaling** or **get_dummies** is not necessary, but **Encoder** is used for categorical varibles \n",
    "- Encoder, ``from sklearn.preprocessing import OrdinalEncoder``\n",
    "\n",
    "[Decision Tree Classifier Library Page](https://scikit-learn.org/stable/modules/generated/sklearn.tree.DecisionTreeClassifier.html)"
   ]
  },
  {
   "cell_type": "markdown",
   "id": "e5a329c2",
   "metadata": {
    "papermill": {
     "duration": 0.096918,
     "end_time": "2022-03-09T14:09:15.458179",
     "exception": false,
     "start_time": "2022-03-09T14:09:15.361261",
     "status": "completed"
    },
    "tags": []
   },
   "source": [
    "<img src=\"https://raw.githubusercontent.com/hsaglamlar/Machine_Learning_Projects/91cf7346025173dbcbde21ab8a92d07876f1f77d/Machine_Learning_Classification_Tutorial_Notebook/img/dt1.png\" width=70%>"
   ]
  },
  {
   "cell_type": "markdown",
   "id": "c4a88957",
   "metadata": {
    "papermill": {
     "duration": 0.097995,
     "end_time": "2022-03-09T14:09:15.655241",
     "exception": false,
     "start_time": "2022-03-09T14:09:15.557246",
     "status": "completed"
    },
    "tags": []
   },
   "source": [
    "Import libraries"
   ]
  },
  {
   "cell_type": "code",
   "execution_count": 32,
   "id": "51e41b63",
   "metadata": {
    "execution": {
     "iopub.execute_input": "2022-03-09T14:09:15.855274Z",
     "iopub.status.busy": "2022-03-09T14:09:15.854686Z",
     "iopub.status.idle": "2022-03-09T14:09:15.887625Z",
     "shell.execute_reply": "2022-03-09T14:09:15.887049Z"
    },
    "papermill": {
     "duration": 0.13361,
     "end_time": "2022-03-09T14:09:15.887780",
     "exception": false,
     "start_time": "2022-03-09T14:09:15.754170",
     "status": "completed"
    },
    "tags": []
   },
   "outputs": [],
   "source": [
    "from sklearn.tree import DecisionTreeClassifier\n",
    "from sklearn.tree import plot_tree\n"
   ]
  },
  {
   "cell_type": "markdown",
   "id": "d19ff176",
   "metadata": {
    "papermill": {
     "duration": 0.098087,
     "end_time": "2022-03-09T14:09:16.085461",
     "exception": false,
     "start_time": "2022-03-09T14:09:15.987374",
     "status": "completed"
    },
    "tags": []
   },
   "source": [
    "Grid Search"
   ]
  },
  {
   "cell_type": "code",
   "execution_count": 33,
   "id": "35d944d8",
   "metadata": {
    "execution": {
     "iopub.execute_input": "2022-03-09T14:09:16.289869Z",
     "iopub.status.busy": "2022-03-09T14:09:16.288901Z",
     "iopub.status.idle": "2022-03-09T14:09:18.430461Z",
     "shell.execute_reply": "2022-03-09T14:09:18.431098Z"
    },
    "papermill": {
     "duration": 2.246295,
     "end_time": "2022-03-09T14:09:18.431262",
     "exception": false,
     "start_time": "2022-03-09T14:09:16.184967",
     "status": "completed"
    },
    "tags": []
   },
   "outputs": [
    {
     "data": {
      "text/plain": [
       "{'max_depth': 2,\n",
       " 'max_features': 'auto',\n",
       " 'min_samples_leaf': 1,\n",
       " 'min_samples_split': 2,\n",
       " 'splitter': 'random'}"
      ]
     },
     "execution_count": 33,
     "metadata": {},
     "output_type": "execute_result"
    }
   ],
   "source": [
    "param_grid = {\"splitter\": [\"best\", \"random\"],\n",
    "              \"max_features\": [\"auto\", 2, 6],\n",
    "              \"max_depth\": [2,3],\n",
    "              \"min_samples_leaf\": [1, 2, 3],\n",
    "              \"min_samples_split\": [2,3]}\n",
    "\n",
    "dt_model = DecisionTreeClassifier(random_state=101)\n",
    "\n",
    "dt_model_grid = GridSearchCV(estimator=dt_model,\n",
    "                             param_grid=param_grid,\n",
    "                             scoring='recall',\n",
    "                             cv=10,\n",
    "                             n_jobs=-1)\n",
    "\n",
    "dt_model_grid.fit(X_train, y_train)\n",
    "\n",
    "dt_model_grid.best_params_\n"
   ]
  },
  {
   "cell_type": "code",
   "execution_count": 34,
   "id": "49d5b56d",
   "metadata": {
    "execution": {
     "iopub.execute_input": "2022-03-09T14:09:18.639858Z",
     "iopub.status.busy": "2022-03-09T14:09:18.638466Z",
     "iopub.status.idle": "2022-03-09T14:09:18.662122Z",
     "shell.execute_reply": "2022-03-09T14:09:18.662633Z"
    },
    "papermill": {
     "duration": 0.131978,
     "end_time": "2022-03-09T14:09:18.662822",
     "exception": false,
     "start_time": "2022-03-09T14:09:18.530844",
     "status": "completed"
    },
    "tags": []
   },
   "outputs": [
    {
     "name": "stdout",
     "output_type": "stream",
     "text": [
      "Test_Set\n",
      "[[79 16]\n",
      " [17 32]]\n",
      "              precision    recall  f1-score   support\n",
      "\n",
      "           0       0.82      0.83      0.83        95\n",
      "           1       0.67      0.65      0.66        49\n",
      "\n",
      "    accuracy                           0.77       144\n",
      "   macro avg       0.74      0.74      0.74       144\n",
      "weighted avg       0.77      0.77      0.77       144\n",
      "\n",
      "\n",
      "Train_Set\n",
      "[[292  86]\n",
      " [ 75 123]]\n",
      "              precision    recall  f1-score   support\n",
      "\n",
      "           0       0.80      0.77      0.78       378\n",
      "           1       0.59      0.62      0.60       198\n",
      "\n",
      "    accuracy                           0.72       576\n",
      "   macro avg       0.69      0.70      0.69       576\n",
      "weighted avg       0.72      0.72      0.72       576\n",
      "\n"
     ]
    }
   ],
   "source": [
    "eval_metric(dt_model_grid, X_train, y_train, X_test, y_test)\n"
   ]
  },
  {
   "cell_type": "markdown",
   "id": "1e318386",
   "metadata": {
    "papermill": {
     "duration": 0.100311,
     "end_time": "2022-03-09T14:09:18.863471",
     "exception": false,
     "start_time": "2022-03-09T14:09:18.763160",
     "status": "completed"
    },
    "tags": []
   },
   "source": [
    "Cross Validate Model"
   ]
  },
  {
   "cell_type": "code",
   "execution_count": 35,
   "id": "7536641b",
   "metadata": {
    "execution": {
     "iopub.execute_input": "2022-03-09T14:09:19.064163Z",
     "iopub.status.busy": "2022-03-09T14:09:19.063552Z",
     "iopub.status.idle": "2022-03-09T14:09:19.111035Z",
     "shell.execute_reply": "2022-03-09T14:09:19.110472Z"
    },
    "papermill": {
     "duration": 0.149045,
     "end_time": "2022-03-09T14:09:19.111160",
     "exception": false,
     "start_time": "2022-03-09T14:09:18.962115",
     "status": "completed"
    },
    "tags": []
   },
   "outputs": [
    {
     "data": {
      "text/plain": [
       "test_accuracy    0.721\n",
       "test_precision   0.606\n",
       "test_recall      0.601\n",
       "test_f1          0.598\n",
       "dtype: float64"
      ]
     },
     "execution_count": 35,
     "metadata": {},
     "output_type": "execute_result"
    }
   ],
   "source": [
    "dt_model_cv = DecisionTreeClassifier(random_state=101, **dt_model_grid.best_params_)\n",
    "\n",
    "scores = cross_validate(dt_model_cv, X_train, y_train, scoring=['accuracy', 'precision', 'recall', 'f1'], cv=5)\n",
    "df_scores = pd.DataFrame(scores, index=range(1, 6))\n",
    "df_scores.mean()[2:]\n"
   ]
  },
  {
   "cell_type": "markdown",
   "id": "9a461788",
   "metadata": {
    "papermill": {
     "duration": 0.09877,
     "end_time": "2022-03-09T14:09:19.312028",
     "exception": false,
     "start_time": "2022-03-09T14:09:19.213258",
     "status": "completed"
    },
    "tags": []
   },
   "source": [
    "Plot tree"
   ]
  },
  {
   "cell_type": "code",
   "execution_count": 36,
   "id": "84e03ff4",
   "metadata": {
    "execution": {
     "iopub.execute_input": "2022-03-09T14:09:19.514618Z",
     "iopub.status.busy": "2022-03-09T14:09:19.513962Z",
     "iopub.status.idle": "2022-03-09T14:09:20.020565Z",
     "shell.execute_reply": "2022-03-09T14:09:20.021019Z"
    },
    "papermill": {
     "duration": 0.608626,
     "end_time": "2022-03-09T14:09:20.021180",
     "exception": false,
     "start_time": "2022-03-09T14:09:19.412554",
     "status": "completed"
    },
    "tags": []
   },
   "outputs": [
    {
     "data": {
      "image/png": "[encoded data removed]",
      "text/plain": [
       "<Figure size 1440x720 with 1 Axes>"
      ]
     },
     "metadata": {
      "needs_background": "light"
     },
     "output_type": "display_data"
    }
   ],
   "source": [
    "plt.figure(figsize=(20, 10))\n",
    "plot_tree(dt_model_grid.best_estimator_, filled=True, feature_names=X.columns);\n"
   ]
  },
  {
   "cell_type": "markdown",
   "id": "d5a3e2f2",
   "metadata": {
    "papermill": {
     "duration": 0.105987,
     "end_time": "2022-03-09T14:09:20.230386",
     "exception": false,
     "start_time": "2022-03-09T14:09:20.124399",
     "status": "completed"
    },
    "tags": []
   },
   "source": [
    "Save Model Score"
   ]
  },
  {
   "cell_type": "code",
   "execution_count": 37,
   "id": "1eda0481",
   "metadata": {
    "execution": {
     "iopub.execute_input": "2022-03-09T14:09:20.443127Z",
     "iopub.status.busy": "2022-03-09T14:09:20.442522Z",
     "iopub.status.idle": "2022-03-09T14:09:20.455633Z",
     "shell.execute_reply": "2022-03-09T14:09:20.456107Z"
    },
    "papermill": {
     "duration": 0.121519,
     "end_time": "2022-03-09T14:09:20.456285",
     "exception": false,
     "start_time": "2022-03-09T14:09:20.334766",
     "status": "completed"
    },
    "tags": []
   },
   "outputs": [
    {
     "data": {
      "text/html": [
       "<div>\n",
       "<style scoped>\n",
       "    .dataframe tbody tr th:only-of-type {\n",
       "        vertical-align: middle;\n",
       "    }\n",
       "\n",
       "    .dataframe tbody tr th {\n",
       "        vertical-align: top;\n",
       "    }\n",
       "\n",
       "    .dataframe thead th {\n",
       "        text-align: right;\n",
       "    }\n",
       "</style>\n",
       "<table border=\"1\" class=\"dataframe\">\n",
       "  <thead>\n",
       "    <tr style=\"text-align: right;\">\n",
       "      <th></th>\n",
       "      <th>F1</th>\n",
       "      <th>Recall</th>\n",
       "    </tr>\n",
       "  </thead>\n",
       "  <tbody>\n",
       "    <tr>\n",
       "      <th>logistic_regression</th>\n",
       "      <td>0.781</td>\n",
       "      <td>0.735</td>\n",
       "    </tr>\n",
       "    <tr>\n",
       "      <th>knn</th>\n",
       "      <td>0.736</td>\n",
       "      <td>0.612</td>\n",
       "    </tr>\n",
       "    <tr>\n",
       "      <th>svm</th>\n",
       "      <td>0.631</td>\n",
       "      <td>0.939</td>\n",
       "    </tr>\n",
       "    <tr>\n",
       "      <th>dt</th>\n",
       "      <td>0.770</td>\n",
       "      <td>0.653</td>\n",
       "    </tr>\n",
       "  </tbody>\n",
       "</table>\n",
       "</div>"
      ],
      "text/plain": [
       "                       F1  Recall\n",
       "logistic_regression 0.781   0.735\n",
       "knn                 0.736   0.612\n",
       "svm                 0.631   0.939\n",
       "dt                  0.770   0.653"
      ]
     },
     "execution_count": 37,
     "metadata": {},
     "output_type": "execute_result"
    }
   ],
   "source": [
    "y_pred_dt = dt_model_grid.predict(X_test)\n",
    "res = pd.DataFrame({\"F1\": f1_score(y_test, y_pred_dt, average=\"weighted\"),\n",
    "                    \"Recall\": recall_score(y_test, y_pred_dt)}, index=[\"dt\"])\n",
    "result = pd.concat([result, res], axis=0)\n",
    "result\n"
   ]
  },
  {
   "cell_type": "markdown",
   "id": "15021405",
   "metadata": {
    "papermill": {
     "duration": 0.104298,
     "end_time": "2022-03-09T14:09:20.664927",
     "exception": false,
     "start_time": "2022-03-09T14:09:20.560629",
     "status": "completed"
    },
    "tags": []
   },
   "source": [
    "---"
   ]
  },
  {
   "cell_type": "markdown",
   "id": "5e7a20ca",
   "metadata": {
    "papermill": {
     "duration": 0.103689,
     "end_time": "2022-03-09T14:09:20.873457",
     "exception": false,
     "start_time": "2022-03-09T14:09:20.769768",
     "status": "completed"
    },
    "tags": []
   },
   "source": [
    "# Random Forest"
   ]
  },
  {
   "cell_type": "markdown",
   "id": "b734152c",
   "metadata": {
    "papermill": {
     "duration": 0.104741,
     "end_time": "2022-03-09T14:09:21.082682",
     "exception": false,
     "start_time": "2022-03-09T14:09:20.977941",
     "status": "completed"
    },
    "tags": []
   },
   "source": [
    "Notes on Ensemble Models:\n",
    "- Ensemble methods, uses voting combines models of same type, a lot of tiny diverse models\n",
    "- Bagging (Bootstrap AGGregatING), individual separate models, equal vote weights\n",
    "- Boosting, influenced by previous models, vote weights by performance \n"
   ]
  },
  {
   "cell_type": "markdown",
   "id": "0a94f226",
   "metadata": {
    "papermill": {
     "duration": 0.103345,
     "end_time": "2022-03-09T14:09:21.290695",
     "exception": false,
     "start_time": "2022-03-09T14:09:21.187350",
     "status": "completed"
    },
    "tags": []
   },
   "source": [
    "<img src=\"https://raw.githubusercontent.com/hsaglamlar/Machine_Learning_Projects/91cf7346025173dbcbde21ab8a92d07876f1f77d/Machine_Learning_Classification_Tutorial_Notebook/img/bagging1.png\">"
   ]
  },
  {
   "cell_type": "markdown",
   "id": "559dcdc7",
   "metadata": {
    "papermill": {
     "duration": 0.103776,
     "end_time": "2022-03-09T14:09:21.497272",
     "exception": false,
     "start_time": "2022-03-09T14:09:21.393496",
     "status": "completed"
    },
    "tags": []
   },
   "source": [
    "Notes Random Forest:\n",
    "- Feature importance\n",
    "- Same model for bootstrapped (2/3) sub-samples\n",
    "- n_estimator, number of models\n",
    "- max_depth, depth of tree\n",
    "- min_samples_split, default=2\n",
    "\n",
    "[Random Forest Classifier Library Page](https://scikit-learn.org/stable/modules/generated/sklearn.ensemble.RandomForestClassifier.html)\n"
   ]
  },
  {
   "cell_type": "markdown",
   "id": "e4b59651",
   "metadata": {
    "papermill": {
     "duration": 0.103168,
     "end_time": "2022-03-09T14:09:21.704126",
     "exception": false,
     "start_time": "2022-03-09T14:09:21.600958",
     "status": "completed"
    },
    "tags": []
   },
   "source": [
    "Import libraries"
   ]
  },
  {
   "cell_type": "code",
   "execution_count": 38,
   "id": "fb05d426",
   "metadata": {
    "execution": {
     "iopub.execute_input": "2022-03-09T14:09:21.915249Z",
     "iopub.status.busy": "2022-03-09T14:09:21.914595Z",
     "iopub.status.idle": "2022-03-09T14:09:21.980719Z",
     "shell.execute_reply": "2022-03-09T14:09:21.981201Z"
    },
    "papermill": {
     "duration": 0.173621,
     "end_time": "2022-03-09T14:09:21.981360",
     "exception": false,
     "start_time": "2022-03-09T14:09:21.807739",
     "status": "completed"
    },
    "tags": []
   },
   "outputs": [],
   "source": [
    "from sklearn.ensemble import RandomForestClassifier\n"
   ]
  },
  {
   "cell_type": "markdown",
   "id": "063eda20",
   "metadata": {
    "papermill": {
     "duration": 0.105615,
     "end_time": "2022-03-09T14:09:22.190660",
     "exception": false,
     "start_time": "2022-03-09T14:09:22.085045",
     "status": "completed"
    },
    "tags": []
   },
   "source": [
    "Grid Search"
   ]
  },
  {
   "cell_type": "code",
   "execution_count": 39,
   "id": "fba4054c",
   "metadata": {
    "execution": {
     "iopub.execute_input": "2022-03-09T14:09:22.402145Z",
     "iopub.status.busy": "2022-03-09T14:09:22.401568Z",
     "iopub.status.idle": "2022-03-09T14:10:40.064004Z",
     "shell.execute_reply": "2022-03-09T14:10:40.062980Z"
    },
    "papermill": {
     "duration": 77.768627,
     "end_time": "2022-03-09T14:10:40.064167",
     "exception": false,
     "start_time": "2022-03-09T14:09:22.295540",
     "status": "completed"
    },
    "tags": []
   },
   "outputs": [
    {
     "name": "stdout",
     "output_type": "stream",
     "text": [
      "Fitting 5 folds for each of 96 candidates, totalling 480 fits\n",
      "[CV] END max_depth=2, max_features=2, min_samples_split=2, n_estimators=64; total time=   0.2s\n",
      "[CV] END max_depth=2, max_features=2, min_samples_split=2, n_estimators=128; total time=   0.3s\n",
      "[CV] END max_depth=2, max_features=2, min_samples_split=2, n_estimators=300; total time=   0.7s\n",
      "[CV] END max_depth=2, max_features=2, min_samples_split=2, n_estimators=500; total time=   1.2s\n",
      "[CV] END max_depth=2, max_features=2, min_samples_split=3, n_estimators=64; total time=   0.2s\n",
      "[CV] END max_depth=2, max_features=2, min_samples_split=3, n_estimators=128; total time=   0.3s\n",
      "[CV] END max_depth=2, max_features=2, min_samples_split=3, n_estimators=128; total time=   0.3s\n",
      "[CV] END max_depth=2, max_features=2, min_samples_split=3, n_estimators=128; total time=   0.3s\n",
      "[CV] END max_depth=2, max_features=2, min_samples_split=3, n_estimators=300; total time=   0.7s\n",
      "[CV] END max_depth=2, max_features=2, min_samples_split=3, n_estimators=500; total time=   1.2s\n",
      "[CV] END max_depth=2, max_features=3, min_samples_split=2, n_estimators=128; total time=   0.3s\n",
      "[CV] END max_depth=2, max_features=3, min_samples_split=2, n_estimators=128; total time=   0.3s\n",
      "[CV] END max_depth=2, max_features=3, min_samples_split=2, n_estimators=128; total time=   0.4s\n",
      "[CV] END max_depth=2, max_features=3, min_samples_split=2, n_estimators=300; total time=   0.7s\n",
      "[CV] END max_depth=2, max_features=3, min_samples_split=2, n_estimators=500; total time=   1.2s\n",
      "[CV] END max_depth=2, max_features=3, min_samples_split=2, n_estimators=500; total time=   1.2s\n",
      "[CV] END max_depth=2, max_features=3, min_samples_split=3, n_estimators=300; total time=   0.7s\n",
      "[CV] END max_depth=2, max_features=3, min_samples_split=3, n_estimators=500; total time=   1.2s\n",
      "[CV] END max_depth=2, max_features=4, min_samples_split=2, n_estimators=64; total time=   0.2s\n",
      "[CV] END max_depth=2, max_features=4, min_samples_split=2, n_estimators=64; total time=   0.2s\n",
      "[CV] END max_depth=2, max_features=4, min_samples_split=2, n_estimators=64; total time=   0.2s\n",
      "[CV] END max_depth=2, max_features=4, min_samples_split=2, n_estimators=128; total time=   0.3s\n",
      "[CV] END max_depth=2, max_features=4, min_samples_split=2, n_estimators=128; total time=   0.3s\n",
      "[CV] END max_depth=2, max_features=4, min_samples_split=2, n_estimators=300; total time=   0.8s\n",
      "[CV] END max_depth=2, max_features=4, min_samples_split=2, n_estimators=500; total time=   1.2s\n",
      "[CV] END max_depth=2, max_features=4, min_samples_split=3, n_estimators=64; total time=   0.2s\n",
      "[CV] END max_depth=2, max_features=4, min_samples_split=3, n_estimators=64; total time=   0.2s\n",
      "[CV] END max_depth=2, max_features=4, min_samples_split=3, n_estimators=128; total time=   0.3s\n",
      "[CV] END max_depth=2, max_features=4, min_samples_split=3, n_estimators=128; total time=   0.3s\n",
      "[CV] END max_depth=2, max_features=4, min_samples_split=3, n_estimators=300; total time=   0.8s\n",
      "[CV] END max_depth=2, max_features=4, min_samples_split=3, n_estimators=500; total time=   1.4s\n",
      "[CV] END max_depth=2, max_features=auto, min_samples_split=2, n_estimators=64; total time=   0.2s\n",
      "[CV] END max_depth=2, max_features=auto, min_samples_split=2, n_estimators=64; total time=   0.2s\n",
      "[CV] END max_depth=2, max_features=auto, min_samples_split=2, n_estimators=128; total time=   0.3s\n",
      "[CV] END max_depth=2, max_features=auto, min_samples_split=2, n_estimators=128; total time=   0.3s\n",
      "[CV] END max_depth=2, max_features=auto, min_samples_split=2, n_estimators=300; total time=   0.8s\n",
      "[CV] END max_depth=2, max_features=auto, min_samples_split=2, n_estimators=500; total time=   1.2s\n",
      "[CV] END max_depth=2, max_features=auto, min_samples_split=3, n_estimators=64; total time=   0.2s\n",
      "[CV] END max_depth=2, max_features=auto, min_samples_split=3, n_estimators=64; total time=   0.2s\n",
      "[CV] END max_depth=2, max_features=auto, min_samples_split=3, n_estimators=64; total time=   0.2s\n",
      "[CV] END max_depth=2, max_features=auto, min_samples_split=3, n_estimators=128; total time=   0.3s\n",
      "[CV] END max_depth=2, max_features=auto, min_samples_split=3, n_estimators=128; total time=   0.3s\n",
      "[CV] END max_depth=2, max_features=auto, min_samples_split=3, n_estimators=300; total time=   0.7s\n",
      "[CV] END max_depth=2, max_features=auto, min_samples_split=3, n_estimators=500; total time=   1.2s\n",
      "[CV] END max_depth=3, max_features=2, min_samples_split=2, n_estimators=64; total time=   0.2s\n",
      "[CV] END max_depth=3, max_features=2, min_samples_split=2, n_estimators=64; total time=   0.2s\n",
      "[CV] END max_depth=3, max_features=2, min_samples_split=2, n_estimators=64; total time=   0.2s\n",
      "[CV] END max_depth=3, max_features=2, min_samples_split=2, n_estimators=128; total time=   0.3s\n",
      "[CV] END max_depth=3, max_features=2, min_samples_split=2, n_estimators=300; total time=   0.7s\n",
      "[CV] END max_depth=3, max_features=2, min_samples_split=2, n_estimators=300; total time=   0.8s\n",
      "[CV] END max_depth=3, max_features=2, min_samples_split=2, n_estimators=500; total time=   1.4s\n",
      "[CV] END max_depth=3, max_features=2, min_samples_split=3, n_estimators=128; total time=   0.6s\n",
      "[CV] END max_depth=3, max_features=2, min_samples_split=3, n_estimators=300; total time=   0.9s\n",
      "[CV] END max_depth=3, max_features=2, min_samples_split=3, n_estimators=500; total time=   1.3s\n",
      "[CV] END max_depth=3, max_features=3, min_samples_split=2, n_estimators=64; total time=   0.2s\n",
      "[CV] END max_depth=3, max_features=3, min_samples_split=2, n_estimators=64; total time=   0.2s\n",
      "[CV] END max_depth=3, max_features=3, min_samples_split=2, n_estimators=128; total time=   0.3s\n",
      "[CV] END max_depth=3, max_features=3, min_samples_split=2, n_estimators=128; total time=   0.3s\n",
      "[CV] END max_depth=3, max_features=3, min_samples_split=2, n_estimators=300; total time=   0.8s\n",
      "[CV] END max_depth=3, max_features=3, min_samples_split=2, n_estimators=500; total time=   1.3s\n",
      "[CV] END max_depth=3, max_features=3, min_samples_split=2, n_estimators=500; total time=   1.3s\n",
      "[CV] END max_depth=3, max_features=3, min_samples_split=3, n_estimators=300; total time=   0.8s\n",
      "[CV] END max_depth=3, max_features=3, min_samples_split=3, n_estimators=500; total time=   1.3s\n",
      "[CV] END max_depth=3, max_features=4, min_samples_split=2, n_estimators=64; total time=   0.2s\n",
      "[CV] END max_depth=3, max_features=4, min_samples_split=2, n_estimators=64; total time=   0.2s\n",
      "[CV] END max_depth=3, max_features=4, min_samples_split=2, n_estimators=128; total time=   0.3s\n",
      "[CV] END max_depth=3, max_features=4, min_samples_split=2, n_estimators=128; total time=   0.3s\n",
      "[CV] END max_depth=3, max_features=4, min_samples_split=2, n_estimators=300; total time=   0.8s\n",
      "[CV] END max_depth=3, max_features=4, min_samples_split=2, n_estimators=500; total time=   1.4s\n",
      "[CV] END max_depth=3, max_features=4, min_samples_split=2, n_estimators=500; total time=   1.4s\n",
      "[CV] END max_depth=3, max_features=4, min_samples_split=3, n_estimators=300; total time=   0.8s\n",
      "[CV] END max_depth=3, max_features=4, min_samples_split=3, n_estimators=500; total time=   1.3s\n",
      "[CV] END max_depth=3, max_features=auto, min_samples_split=2, n_estimators=64; total time=   0.2s\n",
      "[CV] END max_depth=3, max_features=auto, min_samples_split=2, n_estimators=64; total time=   0.2s\n",
      "[CV] END max_depth=3, max_features=auto, min_samples_split=2, n_estimators=128; total time=   0.3s\n",
      "[CV] END max_depth=3, max_features=auto, min_samples_split=2, n_estimators=128; total time=   0.3s\n",
      "[CV] END max_depth=3, max_features=auto, min_samples_split=2, n_estimators=300; total time=   0.8s\n",
      "[CV] END max_depth=3, max_features=auto, min_samples_split=2, n_estimators=500; total time=   1.2s\n",
      "[CV] END max_depth=3, max_features=auto, min_samples_split=2, n_estimators=500; total time=   1.2s\n",
      "[CV] END max_depth=3, max_features=auto, min_samples_split=3, n_estimators=300; total time=   0.7s\n",
      "[CV] END max_depth=3, max_features=auto, min_samples_split=3, n_estimators=500; total time=   1.3s\n",
      "[CV] END max_depth=4, max_features=2, min_samples_split=2, n_estimators=64; total time=   0.2s\n",
      "[CV] END max_depth=4, max_features=2, min_samples_split=2, n_estimators=64; total time=   0.2s\n",
      "[CV] END max_depth=4, max_features=2, min_samples_split=2, n_estimators=128; total time=   0.3s\n",
      "[CV] END max_depth=4, max_features=2, min_samples_split=2, n_estimators=128; total time=   0.3s[CV] END max_depth=2, max_features=2, min_samples_split=2, n_estimators=64; total time=   0.2s\n",
      "[CV] END max_depth=2, max_features=2, min_samples_split=2, n_estimators=128; total time=   0.3s\n",
      "[CV] END max_depth=2, max_features=2, min_samples_split=2, n_estimators=300; total time=   0.7s\n",
      "[CV] END max_depth=2, max_features=2, min_samples_split=2, n_estimators=300; total time=   0.7s\n",
      "[CV] END max_depth=2, max_features=2, min_samples_split=3, n_estimators=64; total time=   0.2s\n",
      "[CV] END max_depth=2, max_features=2, min_samples_split=3, n_estimators=64; total time=   0.2s\n",
      "[CV] END max_depth=2, max_features=2, min_samples_split=3, n_estimators=64; total time=   0.2s\n",
      "[CV] END max_depth=2, max_features=2, min_samples_split=3, n_estimators=64; total time=   0.2s\n",
      "[CV] END max_depth=2, max_features=2, min_samples_split=3, n_estimators=128; total time=   0.3s\n",
      "[CV] END max_depth=2, max_features=2, min_samples_split=3, n_estimators=128; total time=   0.3s\n",
      "[CV] END max_depth=2, max_features=2, min_samples_split=3, n_estimators=300; total time=   0.7s\n",
      "[CV] END max_depth=2, max_features=2, min_samples_split=3, n_estimators=300; total time=   0.7s\n",
      "[CV] END max_depth=2, max_features=2, min_samples_split=3, n_estimators=500; total time=   1.2s\n",
      "[CV] END max_depth=2, max_features=2, min_samples_split=3, n_estimators=500; total time=   1.2s\n",
      "[CV] END max_depth=2, max_features=3, min_samples_split=2, n_estimators=300; total time=   0.7s\n",
      "[CV] END max_depth=2, max_features=3, min_samples_split=2, n_estimators=500; total time=   1.2s\n",
      "[CV] END max_depth=2, max_features=3, min_samples_split=3, n_estimators=64; total time=   0.2s\n",
      "[CV] END max_depth=2, max_features=3, min_samples_split=3, n_estimators=128; total time=   0.3s\n",
      "[CV] END max_depth=2, max_features=3, min_samples_split=3, n_estimators=128; total time=   0.3s\n",
      "[CV] END max_depth=2, max_features=3, min_samples_split=3, n_estimators=300; total time=   0.7s\n",
      "[CV] END max_depth=2, max_features=3, min_samples_split=3, n_estimators=500; total time=   1.2s\n",
      "[CV] END max_depth=2, max_features=3, min_samples_split=3, n_estimators=500; total time=   1.2s\n",
      "[CV] END max_depth=2, max_features=4, min_samples_split=2, n_estimators=300; total time=   0.7s\n",
      "[CV] END max_depth=2, max_features=4, min_samples_split=2, n_estimators=500; total time=   1.2s\n",
      "[CV] END max_depth=2, max_features=4, min_samples_split=3, n_estimators=64; total time=   0.2s\n",
      "[CV] END max_depth=2, max_features=4, min_samples_split=3, n_estimators=64; total time=   0.2s\n",
      "[CV] END max_depth=2, max_features=4, min_samples_split=3, n_estimators=64; total time=   0.2s\n",
      "[CV] END max_depth=2, max_features=4, min_samples_split=3, n_estimators=128; total time=   0.3s\n",
      "[CV] END max_depth=2, max_features=4, min_samples_split=3, n_estimators=300; total time=   0.7s\n",
      "[CV] END max_depth=2, max_features=4, min_samples_split=3, n_estimators=300; total time=   0.8s\n",
      "[CV] END max_depth=2, max_features=4, min_samples_split=3, n_estimators=500; total time=   1.3s\n",
      "[CV] END max_depth=2, max_features=auto, min_samples_split=2, n_estimators=128; total time=   0.3s\n",
      "[CV] END max_depth=2, max_features=auto, min_samples_split=2, n_estimators=128; total time=   0.3s\n",
      "[CV] END max_depth=2, max_features=auto, min_samples_split=2, n_estimators=300; total time=   0.7s\n",
      "[CV] END max_depth=2, max_features=auto, min_samples_split=2, n_estimators=500; total time=   1.2s\n",
      "[CV] END max_depth=2, max_features=auto, min_samples_split=2, n_estimators=500; total time=   1.2s\n",
      "[CV] END max_depth=2, max_features=auto, min_samples_split=3, n_estimators=300; total time=   0.7s\n",
      "[CV] END max_depth=2, max_features=auto, min_samples_split=3, n_estimators=500; total time=   1.2s\n",
      "[CV] END max_depth=2, max_features=auto, min_samples_split=3, n_estimators=500; total time=   1.2s\n",
      "[CV] END max_depth=3, max_features=2, min_samples_split=2, n_estimators=300; total time=   0.7s\n",
      "[CV] END max_depth=3, max_features=2, min_samples_split=2, n_estimators=500; total time=   1.2s\n",
      "[CV] END max_depth=3, max_features=2, min_samples_split=3, n_estimators=64; total time=   0.2s\n",
      "[CV] END max_depth=3, max_features=2, min_samples_split=3, n_estimators=64; total time=   0.2s\n",
      "[CV] END max_depth=3, max_features=2, min_samples_split=3, n_estimators=128; total time=   0.3s\n",
      "[CV] END max_depth=3, max_features=2, min_samples_split=3, n_estimators=128; total time=   0.5s\n",
      "[CV] END max_depth=3, max_features=2, min_samples_split=3, n_estimators=300; total time=   0.7s\n",
      "[CV] END max_depth=3, max_features=2, min_samples_split=3, n_estimators=300; total time=   0.8s\n",
      "[CV] END max_depth=3, max_features=2, min_samples_split=3, n_estimators=500; total time=   1.3s\n",
      "[CV] END max_depth=3, max_features=3, min_samples_split=2, n_estimators=128; total time=   0.3s\n",
      "[CV] END max_depth=3, max_features=3, min_samples_split=2, n_estimators=300; total time=   0.8s\n",
      "[CV] END max_depth=3, max_features=3, min_samples_split=2, n_estimators=300; total time=   0.8s\n",
      "[CV] END max_depth=3, max_features=3, min_samples_split=2, n_estimators=500; total time=   1.2s\n",
      "[CV] END max_depth=3, max_features=3, min_samples_split=3, n_estimators=128; total time=   0.3s\n",
      "[CV] END max_depth=3, max_features=3, min_samples_split=3, n_estimators=128; total time=   0.3s\n",
      "[CV] END max_depth=3, max_features=3, min_samples_split=3, n_estimators=300; total time=   0.8s\n",
      "[CV] END max_depth=3, max_features=3, min_samples_split=3, n_estimators=500; total time=   1.3s\n",
      "[CV] END max_depth=3, max_features=4, min_samples_split=2, n_estimators=64; total time=   0.2s\n",
      "[CV] END max_depth=3, max_features=4, min_samples_split=2, n_estimators=64; total time=   0.2s\n",
      "[CV] END max_depth=3, max_features=4, min_samples_split=2, n_estimators=64; total time=   0.2s\n",
      "[CV] END max_depth=3, max_features=4, min_samples_split=2, n_estimators=128; total time=   0.3s\n",
      "[CV] END max_depth=3, max_features=4, min_samples_split=2, n_estimators=300; total time=   0.8s\n",
      "[CV] END max_depth=3, max_features=4, min_samples_split=2, n_estimators=300; total time=   0.9s\n",
      "[CV] END max_depth=3, max_features=4, min_samples_split=2, n_estimators=500; total time=   1.4s\n",
      "[CV] END max_depth=3, max_features=4, min_samples_split=3, n_estimators=128; total time=   0.3s\n",
      "[CV] END max_depth=3, max_features=4, min_samples_split=3, n_estimators=128; total time=   0.4s\n",
      "[CV] END max_depth=3, max_features=4, min_samples_split=3, n_estimators=300; total time=   0.8s\n",
      "[CV] END max_depth=3, max_features=4, min_samples_split=3, n_estimators=500; total time=   1.3s\n",
      "[CV] END max_depth=3, max_features=auto, min_samples_split=2, n_estimators=64; total time=   0.2s\n",
      "[CV] END max_depth=3, max_features=auto, min_samples_split=2, n_estimators=64; total time=   0.2s\n",
      "[CV] END max_depth=3, max_features=auto, min_samples_split=2, n_estimators=64; total time=   0.2s\n",
      "[CV] END max_depth=3, max_features=auto, min_samples_split=2, n_estimators=128; total time=   0.3s\n",
      "[CV] END max_depth=3, max_features=auto, min_samples_split=2, n_estimators=300; total time=   0.8s\n",
      "[CV] END max_depth=3, max_features=auto, min_samples_split=2, n_estimators=300; total time=   0.7s\n",
      "[CV] END max_depth=3, max_features=auto, min_samples_split=2, n_estimators=500; total time=   1.2s\n",
      "[CV] END max_depth=3, max_features=auto, min_samples_split=3, n_estimators=128; total time=   0.3s\n",
      "[CV] END max_depth=3, max_features=auto, min_samples_split=3, n_estimators=128; total time=   0.3s\n",
      "[CV] END max_depth=3, max_features=auto, min_samples_split=3, n_estimators=300; total time=   0.7s\n",
      "[CV] END max_depth=3, max_features=auto, min_samples_split=3, n_estimators=500; total time=   1.2s\n",
      "[CV] END max_depth=4, max_features=2, min_samples_split=2, n_estimators=64; total time=   0.2s\n",
      "[CV] END max_depth=4, max_features=2, min_samples_split=2, n_estimators=64; total time=   0.2s\n",
      "[CV] END max_depth=4, max_features=2, min_samples_split=2, n_estimators=64; total time=   0.2s\n",
      "[CV] END max_depth=4, max_features=2, min_samples_split=2, n_estimators=128; total time=   0.3s\n",
      "[CV] END max_depth=4, max_features=2, min_samples_split=2, n_estimators=128; total time=   0.3s\n",
      "[CV] END max_depth=4, max_features=2, min_samples_split=2, n_estimators=300; total time=   0.8s\n",
      "[CV] END max_depth=4, max_features=2, min_samples_split=2, n_estimators=500; total time=   1.3s[CV] END max_depth=2, max_features=2, min_samples_split=2, n_estimators=64; total time=   0.2s\n",
      "[CV] END max_depth=2, max_features=2, min_samples_split=2, n_estimators=64; total time=   0.2s\n",
      "[CV] END max_depth=2, max_features=2, min_samples_split=2, n_estimators=128; total time=   0.3s\n",
      "[CV] END max_depth=2, max_features=2, min_samples_split=2, n_estimators=128; total time=   0.3s\n",
      "[CV] END max_depth=2, max_features=2, min_samples_split=2, n_estimators=500; total time=   1.2s\n",
      "[CV] END max_depth=2, max_features=2, min_samples_split=2, n_estimators=500; total time=   1.2s\n",
      "[CV] END max_depth=2, max_features=2, min_samples_split=3, n_estimators=300; total time=   0.7s\n",
      "[CV] END max_depth=2, max_features=2, min_samples_split=3, n_estimators=300; total time=   0.7s\n",
      "[CV] END max_depth=2, max_features=3, min_samples_split=2, n_estimators=64; total time=   0.2s\n",
      "[CV] END max_depth=2, max_features=3, min_samples_split=2, n_estimators=64; total time=   0.2s\n",
      "[CV] END max_depth=2, max_features=3, min_samples_split=2, n_estimators=64; total time=   0.2s\n",
      "[CV] END max_depth=2, max_features=3, min_samples_split=2, n_estimators=64; total time=   0.2s\n",
      "[CV] END max_depth=2, max_features=3, min_samples_split=2, n_estimators=64; total time=   0.2s\n",
      "[CV] END max_depth=2, max_features=3, min_samples_split=2, n_estimators=128; total time=   0.3s\n",
      "[CV] END max_depth=2, max_features=3, min_samples_split=2, n_estimators=128; total time=   0.3s\n",
      "[CV] END max_depth=2, max_features=3, min_samples_split=2, n_estimators=300; total time=   0.7s\n",
      "[CV] END max_depth=2, max_features=3, min_samples_split=2, n_estimators=300; total time=   0.7s\n",
      "[CV] END max_depth=2, max_features=3, min_samples_split=2, n_estimators=500; total time=   1.2s\n",
      "[CV] END max_depth=2, max_features=3, min_samples_split=3, n_estimators=64; total time=   0.2s\n",
      "[CV] END max_depth=2, max_features=3, min_samples_split=3, n_estimators=128; total time=   0.3s\n",
      "[CV] END max_depth=2, max_features=3, min_samples_split=3, n_estimators=300; total time=   0.7s\n",
      "[CV] END max_depth=2, max_features=3, min_samples_split=3, n_estimators=300; total time=   0.7s\n",
      "[CV] END max_depth=2, max_features=3, min_samples_split=3, n_estimators=500; total time=   1.2s\n",
      "[CV] END max_depth=2, max_features=4, min_samples_split=2, n_estimators=128; total time=   0.3s\n",
      "[CV] END max_depth=2, max_features=4, min_samples_split=2, n_estimators=300; total time=   0.8s\n",
      "[CV] END max_depth=2, max_features=4, min_samples_split=2, n_estimators=300; total time=   0.7s\n",
      "[CV] END max_depth=2, max_features=4, min_samples_split=2, n_estimators=500; total time=   1.2s\n",
      "[CV] END max_depth=2, max_features=4, min_samples_split=3, n_estimators=128; total time=   0.3s\n",
      "[CV] END max_depth=2, max_features=4, min_samples_split=3, n_estimators=128; total time=   0.3s\n",
      "[CV] END max_depth=2, max_features=4, min_samples_split=3, n_estimators=300; total time=   0.8s\n",
      "[CV] END max_depth=2, max_features=4, min_samples_split=3, n_estimators=500; total time=   1.3s\n",
      "[CV] END max_depth=2, max_features=auto, min_samples_split=2, n_estimators=64; total time=   0.2s\n",
      "[CV] END max_depth=2, max_features=auto, min_samples_split=2, n_estimators=64; total time=   0.2s\n",
      "[CV] END max_depth=2, max_features=auto, min_samples_split=2, n_estimators=64; total time=   0.2s\n",
      "[CV] END max_depth=2, max_features=auto, min_samples_split=2, n_estimators=128; total time=   0.3s\n",
      "[CV] END max_depth=2, max_features=auto, min_samples_split=2, n_estimators=300; total time=   0.8s\n",
      "[CV] END max_depth=2, max_features=auto, min_samples_split=2, n_estimators=300; total time=   0.8s\n",
      "[CV] END max_depth=2, max_features=auto, min_samples_split=2, n_estimators=500; total time=   1.2s\n",
      "[CV] END max_depth=2, max_features=auto, min_samples_split=3, n_estimators=128; total time=   0.3s\n",
      "[CV] END max_depth=2, max_features=auto, min_samples_split=3, n_estimators=300; total time=   0.7s\n",
      "[CV] END max_depth=2, max_features=auto, min_samples_split=3, n_estimators=300; total time=   0.7s\n",
      "[CV] END max_depth=2, max_features=auto, min_samples_split=3, n_estimators=500; total time=   1.2s\n",
      "[CV] END max_depth=3, max_features=2, min_samples_split=2, n_estimators=128; total time=   0.3s\n",
      "[CV] END max_depth=3, max_features=2, min_samples_split=2, n_estimators=128; total time=   0.3s\n",
      "[CV] END max_depth=3, max_features=2, min_samples_split=2, n_estimators=300; total time=   0.8s\n",
      "[CV] END max_depth=3, max_features=2, min_samples_split=2, n_estimators=500; total time=   1.2s\n",
      "[CV] END max_depth=3, max_features=2, min_samples_split=3, n_estimators=64; total time=   0.2s\n",
      "[CV] END max_depth=3, max_features=2, min_samples_split=3, n_estimators=64; total time=   0.2s\n",
      "[CV] END max_depth=3, max_features=2, min_samples_split=3, n_estimators=64; total time=   0.2s\n",
      "[CV] END max_depth=3, max_features=2, min_samples_split=3, n_estimators=128; total time=   0.4s\n",
      "[CV] END max_depth=3, max_features=2, min_samples_split=3, n_estimators=128; total time=   0.4s\n",
      "[CV] END max_depth=3, max_features=2, min_samples_split=3, n_estimators=300; total time=   0.8s\n",
      "[CV] END max_depth=3, max_features=2, min_samples_split=3, n_estimators=500; total time=   1.2s\n",
      "[CV] END max_depth=3, max_features=2, min_samples_split=3, n_estimators=500; total time=   1.2s\n",
      "[CV] END max_depth=3, max_features=3, min_samples_split=2, n_estimators=300; total time=   0.8s\n",
      "[CV] END max_depth=3, max_features=3, min_samples_split=2, n_estimators=500; total time=   1.3s\n",
      "[CV] END max_depth=3, max_features=3, min_samples_split=3, n_estimators=64; total time=   0.2s\n",
      "[CV] END max_depth=3, max_features=3, min_samples_split=3, n_estimators=64; total time=   0.2s\n",
      "[CV] END max_depth=3, max_features=3, min_samples_split=3, n_estimators=128; total time=   0.3s\n",
      "[CV] END max_depth=3, max_features=3, min_samples_split=3, n_estimators=128; total time=   0.3s\n",
      "[CV] END max_depth=3, max_features=3, min_samples_split=3, n_estimators=300; total time=   0.8s\n",
      "[CV] END max_depth=3, max_features=3, min_samples_split=3, n_estimators=500; total time=   1.3s\n",
      "[CV] END max_depth=3, max_features=3, min_samples_split=3, n_estimators=500; total time=   1.3s\n",
      "[CV] END max_depth=3, max_features=4, min_samples_split=2, n_estimators=300; total time=   0.8s\n",
      "[CV] END max_depth=3, max_features=4, min_samples_split=2, n_estimators=500; total time=   1.4s\n",
      "[CV] END max_depth=3, max_features=4, min_samples_split=3, n_estimators=64; total time=   0.2s\n",
      "[CV] END max_depth=3, max_features=4, min_samples_split=3, n_estimators=64; total time=   0.2s\n",
      "[CV] END max_depth=3, max_features=4, min_samples_split=3, n_estimators=128; total time=   0.3s\n",
      "[CV] END max_depth=3, max_features=4, min_samples_split=3, n_estimators=128; total time=   0.3s\n",
      "[CV] END max_depth=3, max_features=4, min_samples_split=3, n_estimators=300; total time=   0.8s\n",
      "[CV] END max_depth=3, max_features=4, min_samples_split=3, n_estimators=500; total time=   1.3s\n",
      "[CV] END max_depth=3, max_features=4, min_samples_split=3, n_estimators=500; total time=   1.3s\n",
      "[CV] END max_depth=3, max_features=auto, min_samples_split=2, n_estimators=300; total time=   0.8s\n",
      "[CV] END max_depth=3, max_features=auto, min_samples_split=2, n_estimators=500; total time=   1.2s\n",
      "[CV] END max_depth=3, max_features=auto, min_samples_split=3, n_estimators=64; total time=   0.2s\n",
      "[CV] END max_depth=3, max_features=auto, min_samples_split=3, n_estimators=64; total time=   0.2s\n",
      "[CV] END max_depth=3, max_features=auto, min_samples_split=3, n_estimators=128; total time=   0.3s\n",
      "[CV] END max_depth=3, max_features=auto, min_samples_split=3, n_estimators=128; total time=   0.3s\n",
      "[CV] END max_depth=3, max_features=auto, min_samples_split=3, n_estimators=300; total time=   0.7s\n",
      "[CV] END max_depth=3, max_features=auto, min_samples_split=3, n_estimators=500; total time=   1.2s\n",
      "[CV] END max_depth=3, max_features=auto, min_samples_split=3, n_estimators=500; total time=   1.3s\n",
      "[CV] END max_depth=4, max_features=2, min_samples_split=2, n_estimators=300; total time=   0.8s\n",
      "[CV] END max_depth=4, max_features=2, min_samples_split=2, n_estimators=500; total time=   1.3s\n",
      "[CV] END max_depth=4, max_features=2, min_samples_split=3, n_estimators=64; total time=   0.2s\n",
      "[CV] END max_depth=4, max_features=2, min_samples_split=3, n_estimators=64; total time=   0.2s[CV] END max_depth=2, max_features=2, min_samples_split=2, n_estimators=64; total time=   0.2s\n",
      "[CV] END max_depth=2, max_features=2, min_samples_split=2, n_estimators=128; total time=   0.3s\n",
      "[CV] END max_depth=2, max_features=2, min_samples_split=2, n_estimators=300; total time=   0.7s\n",
      "[CV] END max_depth=2, max_features=2, min_samples_split=2, n_estimators=300; total time=   0.7s\n",
      "[CV] END max_depth=2, max_features=2, min_samples_split=2, n_estimators=500; total time=   1.2s\n",
      "[CV] END max_depth=2, max_features=2, min_samples_split=2, n_estimators=500; total time=   1.2s\n",
      "[CV] END max_depth=2, max_features=2, min_samples_split=3, n_estimators=500; total time=   1.2s\n",
      "[CV] END max_depth=2, max_features=2, min_samples_split=3, n_estimators=500; total time=   1.2s\n",
      "[CV] END max_depth=2, max_features=3, min_samples_split=2, n_estimators=300; total time=   0.7s\n",
      "[CV] END max_depth=2, max_features=3, min_samples_split=2, n_estimators=500; total time=   1.2s\n",
      "[CV] END max_depth=2, max_features=3, min_samples_split=3, n_estimators=64; total time=   0.2s\n",
      "[CV] END max_depth=2, max_features=3, min_samples_split=3, n_estimators=64; total time=   0.2s\n",
      "[CV] END max_depth=2, max_features=3, min_samples_split=3, n_estimators=64; total time=   0.2s\n",
      "[CV] END max_depth=2, max_features=3, min_samples_split=3, n_estimators=128; total time=   0.3s\n",
      "[CV] END max_depth=2, max_features=3, min_samples_split=3, n_estimators=128; total time=   0.3s\n",
      "[CV] END max_depth=2, max_features=3, min_samples_split=3, n_estimators=300; total time=   0.8s\n",
      "[CV] END max_depth=2, max_features=3, min_samples_split=3, n_estimators=500; total time=   1.2s\n",
      "[CV] END max_depth=2, max_features=4, min_samples_split=2, n_estimators=64; total time=   0.2s\n",
      "[CV] END max_depth=2, max_features=4, min_samples_split=2, n_estimators=64; total time=   0.2s\n",
      "[CV] END max_depth=2, max_features=4, min_samples_split=2, n_estimators=128; total time=   0.3s\n",
      "[CV] END max_depth=2, max_features=4, min_samples_split=2, n_estimators=128; total time=   0.3s\n",
      "[CV] END max_depth=2, max_features=4, min_samples_split=2, n_estimators=300; total time=   0.7s\n",
      "[CV] END max_depth=2, max_features=4, min_samples_split=2, n_estimators=500; total time=   1.2s\n",
      "[CV] END max_depth=2, max_features=4, min_samples_split=2, n_estimators=500; total time=   1.2s\n",
      "[CV] END max_depth=2, max_features=4, min_samples_split=3, n_estimators=300; total time=   0.8s\n",
      "[CV] END max_depth=2, max_features=4, min_samples_split=3, n_estimators=500; total time=   1.3s\n",
      "[CV] END max_depth=2, max_features=4, min_samples_split=3, n_estimators=500; total time=   1.3s\n",
      "[CV] END max_depth=2, max_features=auto, min_samples_split=2, n_estimators=300; total time=   0.7s\n",
      "[CV] END max_depth=2, max_features=auto, min_samples_split=2, n_estimators=500; total time=   1.3s\n",
      "[CV] END max_depth=2, max_features=auto, min_samples_split=3, n_estimators=64; total time=   0.2s\n",
      "[CV] END max_depth=2, max_features=auto, min_samples_split=3, n_estimators=64; total time=   0.2s\n",
      "[CV] END max_depth=2, max_features=auto, min_samples_split=3, n_estimators=128; total time=   0.3s\n",
      "[CV] END max_depth=2, max_features=auto, min_samples_split=3, n_estimators=128; total time=   0.3s\n",
      "[CV] END max_depth=2, max_features=auto, min_samples_split=3, n_estimators=300; total time=   0.7s\n",
      "[CV] END max_depth=2, max_features=auto, min_samples_split=3, n_estimators=500; total time=   1.2s\n",
      "[CV] END max_depth=3, max_features=2, min_samples_split=2, n_estimators=64; total time=   0.2s\n",
      "[CV] END max_depth=3, max_features=2, min_samples_split=2, n_estimators=64; total time=   0.2s\n",
      "[CV] END max_depth=3, max_features=2, min_samples_split=2, n_estimators=128; total time=   0.3s\n",
      "[CV] END max_depth=3, max_features=2, min_samples_split=2, n_estimators=128; total time=   0.3s\n",
      "[CV] END max_depth=3, max_features=2, min_samples_split=2, n_estimators=300; total time=   0.7s\n",
      "[CV] END max_depth=3, max_features=2, min_samples_split=2, n_estimators=500; total time=   1.2s\n",
      "[CV] END max_depth=3, max_features=2, min_samples_split=2, n_estimators=500; total time=   1.5s\n",
      "[CV] END max_depth=3, max_features=2, min_samples_split=3, n_estimators=300; total time=   0.8s\n",
      "[CV] END max_depth=3, max_features=2, min_samples_split=3, n_estimators=500; total time=   1.2s\n",
      "[CV] END max_depth=3, max_features=3, min_samples_split=2, n_estimators=64; total time=   0.2s\n",
      "[CV] END max_depth=3, max_features=3, min_samples_split=2, n_estimators=64; total time=   0.2s\n",
      "[CV] END max_depth=3, max_features=3, min_samples_split=2, n_estimators=64; total time=   0.2s\n",
      "[CV] END max_depth=3, max_features=3, min_samples_split=2, n_estimators=128; total time=   0.3s\n",
      "[CV] END max_depth=3, max_features=3, min_samples_split=2, n_estimators=128; total time=   0.3s\n",
      "[CV] END max_depth=3, max_features=3, min_samples_split=2, n_estimators=300; total time=   0.8s\n",
      "[CV] END max_depth=3, max_features=3, min_samples_split=2, n_estimators=500; total time=   1.3s\n",
      "[CV] END max_depth=3, max_features=3, min_samples_split=3, n_estimators=64; total time=   0.2s\n",
      "[CV] END max_depth=3, max_features=3, min_samples_split=3, n_estimators=64; total time=   0.2s\n",
      "[CV] END max_depth=3, max_features=3, min_samples_split=3, n_estimators=64; total time=   0.2s\n",
      "[CV] END max_depth=3, max_features=3, min_samples_split=3, n_estimators=128; total time=   0.3s\n",
      "[CV] END max_depth=3, max_features=3, min_samples_split=3, n_estimators=300; total time=   0.8s\n",
      "[CV] END max_depth=3, max_features=3, min_samples_split=3, n_estimators=300; total time=   0.8s\n",
      "[CV] END max_depth=3, max_features=3, min_samples_split=3, n_estimators=500; total time=   1.3s\n",
      "[CV] END max_depth=3, max_features=4, min_samples_split=2, n_estimators=128; total time=   0.3s\n",
      "[CV] END max_depth=3, max_features=4, min_samples_split=2, n_estimators=128; total time=   0.4s\n",
      "[CV] END max_depth=3, max_features=4, min_samples_split=2, n_estimators=300; total time=   0.8s\n",
      "[CV] END max_depth=3, max_features=4, min_samples_split=2, n_estimators=500; total time=   1.4s\n",
      "[CV] END max_depth=3, max_features=4, min_samples_split=3, n_estimators=64; total time=   0.2s\n",
      "[CV] END max_depth=3, max_features=4, min_samples_split=3, n_estimators=64; total time=   0.2s\n",
      "[CV] END max_depth=3, max_features=4, min_samples_split=3, n_estimators=64; total time=   0.2s\n",
      "[CV] END max_depth=3, max_features=4, min_samples_split=3, n_estimators=128; total time=   0.4s\n",
      "[CV] END max_depth=3, max_features=4, min_samples_split=3, n_estimators=300; total time=   0.8s\n",
      "[CV] END max_depth=3, max_features=4, min_samples_split=3, n_estimators=300; total time=   0.8s\n",
      "[CV] END max_depth=3, max_features=4, min_samples_split=3, n_estimators=500; total time=   1.3s\n",
      "[CV] END max_depth=3, max_features=auto, min_samples_split=2, n_estimators=128; total time=   0.3s\n",
      "[CV] END max_depth=3, max_features=auto, min_samples_split=2, n_estimators=128; total time=   0.3s\n",
      "[CV] END max_depth=3, max_features=auto, min_samples_split=2, n_estimators=300; total time=   0.7s\n",
      "[CV] END max_depth=3, max_features=auto, min_samples_split=2, n_estimators=500; total time=   1.2s\n",
      "[CV] END max_depth=3, max_features=auto, min_samples_split=3, n_estimators=64; total time=   0.2s\n",
      "[CV] END max_depth=3, max_features=auto, min_samples_split=3, n_estimators=64; total time=   0.2s\n",
      "[CV] END max_depth=3, max_features=auto, min_samples_split=3, n_estimators=64; total time=   0.2s\n",
      "[CV] END max_depth=3, max_features=auto, min_samples_split=3, n_estimators=128; total time=   0.3s\n",
      "[CV] END max_depth=3, max_features=auto, min_samples_split=3, n_estimators=300; total time=   0.7s\n",
      "[CV] END max_depth=3, max_features=auto, min_samples_split=3, n_estimators=300; total time=   0.7s\n",
      "[CV] END max_depth=3, max_features=auto, min_samples_split=3, n_estimators=500; total time=   1.3s\n",
      "[CV] END max_depth=4, max_features=2, min_samples_split=2, n_estimators=128; total time=   0.3s\n",
      "[CV] END max_depth=4, max_features=2, min_samples_split=2, n_estimators=300; total time=   0.8s\n",
      "[CV] END max_depth=4, max_features=2, min_samples_split=2, n_estimators=300; total time=   0.7s\n",
      "[CV] END max_depth=4, max_features=2, min_samples_split=2, n_estimators=500; total time=   1.2s\n",
      "[CV] END max_depth=4, max_features=2, min_samples_split=3, n_estimators=128; total time=   0.3s"
     ]
    },
    {
     "data": {
      "text/plain": [
       "{'max_depth': 2, 'max_features': 2, 'min_samples_split': 2, 'n_estimators': 64}"
      ]
     },
     "execution_count": 39,
     "metadata": {},
     "output_type": "execute_result"
    }
   ],
   "source": [
    "param_grid = {'n_estimators': [64, 128, 300, 500],\n",
    "              'max_features': [2, 3, 4, \"auto\"],\n",
    "              'max_depth': [2, 3, 4],\n",
    "              'min_samples_split': [2, 3]}\n",
    "\n",
    "rf_model = RandomForestClassifier(class_weight=\"balanced\", random_state=101)\n",
    "rf_model_grid = GridSearchCV(rf_model, param_grid, scoring=\"recall\", n_jobs=-1, verbose=2).fit(X_train, y_train)\n",
    "\n",
    "rf_model_grid.best_params_\n"
   ]
  },
  {
   "cell_type": "code",
   "execution_count": 40,
   "id": "a8a3c848",
   "metadata": {
    "execution": {
     "iopub.execute_input": "2022-03-09T14:10:40.288072Z",
     "iopub.status.busy": "2022-03-09T14:10:40.287380Z",
     "iopub.status.idle": "2022-03-09T14:10:40.321229Z",
     "shell.execute_reply": "2022-03-09T14:10:40.320646Z"
    },
    "papermill": {
     "duration": 0.148803,
     "end_time": "2022-03-09T14:10:40.321359",
     "exception": false,
     "start_time": "2022-03-09T14:10:40.172556",
     "status": "completed"
    },
    "tags": []
   },
   "outputs": [
    {
     "name": "stdout",
     "output_type": "stream",
     "text": [
      "Test_Set\n",
      "[[68 27]\n",
      " [12 37]]\n",
      "              precision    recall  f1-score   support\n",
      "\n",
      "           0       0.85      0.72      0.78        95\n",
      "           1       0.58      0.76      0.65        49\n",
      "\n",
      "    accuracy                           0.73       144\n",
      "   macro avg       0.71      0.74      0.72       144\n",
      "weighted avg       0.76      0.73      0.74       144\n",
      "\n",
      "\n",
      "Train_Set\n",
      "[[279  99]\n",
      " [ 33 165]]\n",
      "              precision    recall  f1-score   support\n",
      "\n",
      "           0       0.89      0.74      0.81       378\n",
      "           1       0.62      0.83      0.71       198\n",
      "\n",
      "    accuracy                           0.77       576\n",
      "   macro avg       0.76      0.79      0.76       576\n",
      "weighted avg       0.80      0.77      0.78       576\n",
      "\n"
     ]
    }
   ],
   "source": [
    "eval_metric(rf_model_grid, X_train, y_train, X_test, y_test)\n"
   ]
  },
  {
   "cell_type": "markdown",
   "id": "35a88b4b",
   "metadata": {
    "papermill": {
     "duration": 0.109478,
     "end_time": "2022-03-09T14:10:40.540212",
     "exception": false,
     "start_time": "2022-03-09T14:10:40.430734",
     "status": "completed"
    },
    "tags": []
   },
   "source": [
    "Cross Validate Model"
   ]
  },
  {
   "cell_type": "code",
   "execution_count": 41,
   "id": "f6198a3c",
   "metadata": {
    "execution": {
     "iopub.execute_input": "2022-03-09T14:10:40.758155Z",
     "iopub.status.busy": "2022-03-09T14:10:40.757505Z",
     "iopub.status.idle": "2022-03-09T14:10:41.719332Z",
     "shell.execute_reply": "2022-03-09T14:10:41.719814Z"
    },
    "papermill": {
     "duration": 1.07216,
     "end_time": "2022-03-09T14:10:41.719975",
     "exception": false,
     "start_time": "2022-03-09T14:10:40.647815",
     "status": "completed"
    },
    "tags": []
   },
   "outputs": [
    {
     "data": {
      "text/plain": [
       "test_accuracy    0.755\n",
       "test_precision   0.619\n",
       "test_recall      0.798\n",
       "test_f1          0.694\n",
       "dtype: float64"
      ]
     },
     "execution_count": 41,
     "metadata": {},
     "output_type": "execute_result"
    }
   ],
   "source": [
    "rf_model_cv = RandomForestClassifier(class_weight=\"balanced\", random_state=101,**rf_model_grid.best_params_)\n",
    "\n",
    "scores = cross_validate(rf_model_cv, X_train, y_train, scoring=['accuracy', 'precision', 'recall', 'f1'], cv=10)\n",
    "df_scores = pd.DataFrame(scores, index=range(1, 11))\n",
    "\n",
    "df_scores.mean()[2:]\n"
   ]
  },
  {
   "cell_type": "markdown",
   "id": "666799b0",
   "metadata": {
    "papermill": {
     "duration": 0.108964,
     "end_time": "2022-03-09T14:10:41.937793",
     "exception": false,
     "start_time": "2022-03-09T14:10:41.828829",
     "status": "completed"
    },
    "tags": []
   },
   "source": [
    "Feature Importance"
   ]
  },
  {
   "cell_type": "code",
   "execution_count": 42,
   "id": "d74104e4",
   "metadata": {
    "execution": {
     "iopub.execute_input": "2022-03-09T14:10:42.157870Z",
     "iopub.status.busy": "2022-03-09T14:10:42.157209Z",
     "iopub.status.idle": "2022-03-09T14:10:42.171247Z",
     "shell.execute_reply": "2022-03-09T14:10:42.171739Z"
    },
    "papermill": {
     "duration": 0.126751,
     "end_time": "2022-03-09T14:10:42.171907",
     "exception": false,
     "start_time": "2022-03-09T14:10:42.045156",
     "status": "completed"
    },
    "tags": []
   },
   "outputs": [
    {
     "data": {
      "text/html": [
       "<div>\n",
       "<style scoped>\n",
       "    .dataframe tbody tr th:only-of-type {\n",
       "        vertical-align: middle;\n",
       "    }\n",
       "\n",
       "    .dataframe tbody tr th {\n",
       "        vertical-align: top;\n",
       "    }\n",
       "\n",
       "    .dataframe thead th {\n",
       "        text-align: right;\n",
       "    }\n",
       "</style>\n",
       "<table border=\"1\" class=\"dataframe\">\n",
       "  <thead>\n",
       "    <tr style=\"text-align: right;\">\n",
       "      <th></th>\n",
       "      <th>Feature Importance</th>\n",
       "    </tr>\n",
       "  </thead>\n",
       "  <tbody>\n",
       "    <tr>\n",
       "      <th>Glucose</th>\n",
       "      <td>0.329</td>\n",
       "    </tr>\n",
       "    <tr>\n",
       "      <th>BMI</th>\n",
       "      <td>0.209</td>\n",
       "    </tr>\n",
       "    <tr>\n",
       "      <th>Age</th>\n",
       "      <td>0.198</td>\n",
       "    </tr>\n",
       "    <tr>\n",
       "      <th>Pregnancies</th>\n",
       "      <td>0.095</td>\n",
       "    </tr>\n",
       "    <tr>\n",
       "      <th>DiabetesPedigreeFunction</th>\n",
       "      <td>0.073</td>\n",
       "    </tr>\n",
       "    <tr>\n",
       "      <th>Insulin</th>\n",
       "      <td>0.053</td>\n",
       "    </tr>\n",
       "    <tr>\n",
       "      <th>BloodPressure</th>\n",
       "      <td>0.022</td>\n",
       "    </tr>\n",
       "    <tr>\n",
       "      <th>SkinThickness</th>\n",
       "      <td>0.020</td>\n",
       "    </tr>\n",
       "  </tbody>\n",
       "</table>\n",
       "</div>"
      ],
      "text/plain": [
       "                          Feature Importance\n",
       "Glucose                                0.329\n",
       "BMI                                    0.209\n",
       "Age                                    0.198\n",
       "Pregnancies                            0.095\n",
       "DiabetesPedigreeFunction               0.073\n",
       "Insulin                                0.053\n",
       "BloodPressure                          0.022\n",
       "SkinThickness                          0.020"
      ]
     },
     "execution_count": 42,
     "metadata": {},
     "output_type": "execute_result"
    }
   ],
   "source": [
    "df_f_i = pd.DataFrame(index=X.columns, data=rf_model_grid.best_estimator_.feature_importances_,\n",
    "                      columns=[\"Feature Importance\"]).sort_values(\"Feature Importance\", ascending=False)\n",
    "df_f_i\n"
   ]
  },
  {
   "cell_type": "markdown",
   "id": "3588ff16",
   "metadata": {
    "papermill": {
     "duration": 0.110741,
     "end_time": "2022-03-09T14:10:42.393305",
     "exception": false,
     "start_time": "2022-03-09T14:10:42.282564",
     "status": "completed"
    },
    "tags": []
   },
   "source": [
    "Save Model Score"
   ]
  },
  {
   "cell_type": "code",
   "execution_count": 43,
   "id": "a152b492",
   "metadata": {
    "execution": {
     "iopub.execute_input": "2022-03-09T14:10:42.616580Z",
     "iopub.status.busy": "2022-03-09T14:10:42.615903Z",
     "iopub.status.idle": "2022-03-09T14:10:42.637904Z",
     "shell.execute_reply": "2022-03-09T14:10:42.638341Z"
    },
    "papermill": {
     "duration": 0.136308,
     "end_time": "2022-03-09T14:10:42.638524",
     "exception": false,
     "start_time": "2022-03-09T14:10:42.502216",
     "status": "completed"
    },
    "tags": []
   },
   "outputs": [
    {
     "data": {
      "text/html": [
       "<div>\n",
       "<style scoped>\n",
       "    .dataframe tbody tr th:only-of-type {\n",
       "        vertical-align: middle;\n",
       "    }\n",
       "\n",
       "    .dataframe tbody tr th {\n",
       "        vertical-align: top;\n",
       "    }\n",
       "\n",
       "    .dataframe thead th {\n",
       "        text-align: right;\n",
       "    }\n",
       "</style>\n",
       "<table border=\"1\" class=\"dataframe\">\n",
       "  <thead>\n",
       "    <tr style=\"text-align: right;\">\n",
       "      <th></th>\n",
       "      <th>F1</th>\n",
       "      <th>Recall</th>\n",
       "    </tr>\n",
       "  </thead>\n",
       "  <tbody>\n",
       "    <tr>\n",
       "      <th>logistic_regression</th>\n",
       "      <td>0.781</td>\n",
       "      <td>0.735</td>\n",
       "    </tr>\n",
       "    <tr>\n",
       "      <th>knn</th>\n",
       "      <td>0.736</td>\n",
       "      <td>0.612</td>\n",
       "    </tr>\n",
       "    <tr>\n",
       "      <th>svm</th>\n",
       "      <td>0.631</td>\n",
       "      <td>0.939</td>\n",
       "    </tr>\n",
       "    <tr>\n",
       "      <th>dt</th>\n",
       "      <td>0.770</td>\n",
       "      <td>0.653</td>\n",
       "    </tr>\n",
       "    <tr>\n",
       "      <th>rf</th>\n",
       "      <td>0.736</td>\n",
       "      <td>0.755</td>\n",
       "    </tr>\n",
       "  </tbody>\n",
       "</table>\n",
       "</div>"
      ],
      "text/plain": [
       "                       F1  Recall\n",
       "logistic_regression 0.781   0.735\n",
       "knn                 0.736   0.612\n",
       "svm                 0.631   0.939\n",
       "dt                  0.770   0.653\n",
       "rf                  0.736   0.755"
      ]
     },
     "execution_count": 43,
     "metadata": {},
     "output_type": "execute_result"
    }
   ],
   "source": [
    "y_pred_rf = rf_model_grid.predict(X_test)\n",
    "res = pd.DataFrame({\"F1\": f1_score(y_test, y_pred_rf, average=\"weighted\"),\n",
    "                    \"Recall\": recall_score(y_test, y_pred_rf)}, index=[\"rf\"])\n",
    "result = pd.concat([result, res], axis=0)\n",
    "result\n"
   ]
  },
  {
   "cell_type": "markdown",
   "id": "a738b685",
   "metadata": {
    "papermill": {
     "duration": 0.108841,
     "end_time": "2022-03-09T14:10:42.856092",
     "exception": false,
     "start_time": "2022-03-09T14:10:42.747251",
     "status": "completed"
    },
    "tags": []
   },
   "source": [
    "---"
   ]
  },
  {
   "cell_type": "markdown",
   "id": "696fd48c",
   "metadata": {
    "papermill": {
     "duration": 0.110553,
     "end_time": "2022-03-09T14:10:43.077538",
     "exception": false,
     "start_time": "2022-03-09T14:10:42.966985",
     "status": "completed"
    },
    "tags": []
   },
   "source": [
    "# Adaboost, Adaptive Boosting"
   ]
  },
  {
   "cell_type": "markdown",
   "id": "3a5d392c",
   "metadata": {
    "papermill": {
     "duration": 0.108921,
     "end_time": "2022-03-09T14:10:43.295625",
     "exception": false,
     "start_time": "2022-03-09T14:10:43.186704",
     "status": "completed"
    },
    "tags": []
   },
   "source": [
    "Notes:\n",
    "- Ensemble method, any algorithm can be used (SVM, Logistic,...)\n",
    "- Next algorithm tries to improve misclassified samples\n",
    "\n",
    "[Ada Boost Classifer Library Page](https://scikit-learn.org/stable/modules/generated/sklearn.ensemble.AdaBoostClassifier.html)"
   ]
  },
  {
   "cell_type": "markdown",
   "id": "32f708ad",
   "metadata": {
    "papermill": {
     "duration": 0.107395,
     "end_time": "2022-03-09T14:10:43.510768",
     "exception": false,
     "start_time": "2022-03-09T14:10:43.403373",
     "status": "completed"
    },
    "tags": []
   },
   "source": [
    "<img src=\"https://raw.githubusercontent.com/hsaglamlar/Machine_Learning_Projects/91cf7346025173dbcbde21ab8a92d07876f1f77d/Machine_Learning_Classification_Tutorial_Notebook/img/adaboost.png\">\n",
    "\n",
    "[credit](https://www.researchgate.net/figure/Representation-of-the-adaptive-boosting_fig4_328334026)"
   ]
  },
  {
   "cell_type": "markdown",
   "id": "65fc2782",
   "metadata": {
    "papermill": {
     "duration": 0.107846,
     "end_time": "2022-03-09T14:10:43.726015",
     "exception": false,
     "start_time": "2022-03-09T14:10:43.618169",
     "status": "completed"
    },
    "tags": []
   },
   "source": [
    "Import libraries"
   ]
  },
  {
   "cell_type": "code",
   "execution_count": 44,
   "id": "5a140de0",
   "metadata": {
    "execution": {
     "iopub.execute_input": "2022-03-09T14:10:43.949934Z",
     "iopub.status.busy": "2022-03-09T14:10:43.949296Z",
     "iopub.status.idle": "2022-03-09T14:10:43.951129Z",
     "shell.execute_reply": "2022-03-09T14:10:43.951616Z"
    },
    "papermill": {
     "duration": 0.117639,
     "end_time": "2022-03-09T14:10:43.951801",
     "exception": false,
     "start_time": "2022-03-09T14:10:43.834162",
     "status": "completed"
    },
    "tags": []
   },
   "outputs": [],
   "source": [
    "from sklearn.ensemble import AdaBoostClassifier\n"
   ]
  },
  {
   "cell_type": "markdown",
   "id": "1adbd69e",
   "metadata": {
    "papermill": {
     "duration": 0.175775,
     "end_time": "2022-03-09T14:10:44.237037",
     "exception": false,
     "start_time": "2022-03-09T14:10:44.061262",
     "status": "completed"
    },
    "tags": []
   },
   "source": [
    "Grid Search"
   ]
  },
  {
   "cell_type": "code",
   "execution_count": 45,
   "id": "2c317f96",
   "metadata": {
    "execution": {
     "iopub.execute_input": "2022-03-09T14:10:44.465260Z",
     "iopub.status.busy": "2022-03-09T14:10:44.464638Z",
     "iopub.status.idle": "2022-03-09T14:10:46.683219Z",
     "shell.execute_reply": "2022-03-09T14:10:46.682719Z"
    },
    "papermill": {
     "duration": 2.334117,
     "end_time": "2022-03-09T14:10:46.683359",
     "exception": false,
     "start_time": "2022-03-09T14:10:44.349242",
     "status": "completed"
    },
    "tags": []
   },
   "outputs": [
    {
     "data": {
      "text/plain": [
       "{'learning_rate': 0.1, 'n_estimators': 200}"
      ]
     },
     "execution_count": 45,
     "metadata": {},
     "output_type": "execute_result"
    }
   ],
   "source": [
    "ada_model = AdaBoostClassifier(random_state=101)\n",
    "param_grid = {\"n_estimators\": [50, 200],\n",
    "              \"learning_rate\": [0.01, 0.1]}\n",
    "ada_model_grid = GridSearchCV(ada_model, param_grid, cv=5, scoring='recall', n_jobs=-1).fit(X_train, y_train)\n",
    "ada_model_grid.best_params_\n"
   ]
  },
  {
   "cell_type": "code",
   "execution_count": 46,
   "id": "c0582944",
   "metadata": {
    "execution": {
     "iopub.execute_input": "2022-03-09T14:10:46.909136Z",
     "iopub.status.busy": "2022-03-09T14:10:46.908593Z",
     "iopub.status.idle": "2022-03-09T14:10:47.003192Z",
     "shell.execute_reply": "2022-03-09T14:10:47.003730Z"
    },
    "papermill": {
     "duration": 0.209094,
     "end_time": "2022-03-09T14:10:47.003905",
     "exception": false,
     "start_time": "2022-03-09T14:10:46.794811",
     "status": "completed"
    },
    "tags": []
   },
   "outputs": [
    {
     "name": "stdout",
     "output_type": "stream",
     "text": [
      "Test_Set\n",
      "[[83 12]\n",
      " [20 29]]\n",
      "              precision    recall  f1-score   support\n",
      "\n",
      "           0       0.81      0.87      0.84        95\n",
      "           1       0.71      0.59      0.64        49\n",
      "\n",
      "    accuracy                           0.78       144\n",
      "   macro avg       0.76      0.73      0.74       144\n",
      "weighted avg       0.77      0.78      0.77       144\n",
      "\n",
      "\n",
      "Train_Set\n",
      "[[342  36]\n",
      " [ 71 127]]\n",
      "              precision    recall  f1-score   support\n",
      "\n",
      "           0       0.83      0.90      0.86       378\n",
      "           1       0.78      0.64      0.70       198\n",
      "\n",
      "    accuracy                           0.81       576\n",
      "   macro avg       0.80      0.77      0.78       576\n",
      "weighted avg       0.81      0.81      0.81       576\n",
      "\n"
     ]
    }
   ],
   "source": [
    "eval_metric(ada_model_grid, X_train, y_train, X_test, y_test)\n"
   ]
  },
  {
   "cell_type": "markdown",
   "id": "760c02d5",
   "metadata": {
    "papermill": {
     "duration": 0.111209,
     "end_time": "2022-03-09T14:10:47.226677",
     "exception": false,
     "start_time": "2022-03-09T14:10:47.115468",
     "status": "completed"
    },
    "tags": []
   },
   "source": [
    "Cross Validate Model"
   ]
  },
  {
   "cell_type": "code",
   "execution_count": 47,
   "id": "c32e85cb",
   "metadata": {
    "execution": {
     "iopub.execute_input": "2022-03-09T14:10:47.454479Z",
     "iopub.status.busy": "2022-03-09T14:10:47.453876Z",
     "iopub.status.idle": "2022-03-09T14:10:49.170250Z",
     "shell.execute_reply": "2022-03-09T14:10:49.170669Z"
    },
    "papermill": {
     "duration": 1.831668,
     "end_time": "2022-03-09T14:10:49.170837",
     "exception": false,
     "start_time": "2022-03-09T14:10:47.339169",
     "status": "completed"
    },
    "tags": []
   },
   "outputs": [
    {
     "data": {
      "text/plain": [
       "test_accuracy    0.764\n",
       "test_precision   0.696\n",
       "test_recall      0.556\n",
       "test_f1          0.618\n",
       "dtype: float64"
      ]
     },
     "execution_count": 47,
     "metadata": {},
     "output_type": "execute_result"
    }
   ],
   "source": [
    "ada_model_cv = AdaBoostClassifier(\n",
    "    random_state=101, **ada_model_grid.best_params_)\n",
    "\n",
    "scores = cross_validate(ada_model_cv, X_train, y_train, scoring=['accuracy', 'precision', 'recall', 'f1'], cv=5)\n",
    "df_scores = pd.DataFrame(scores, index=range(1, 6))\n",
    "\n",
    "df_scores.mean()[2:]\n"
   ]
  },
  {
   "cell_type": "markdown",
   "id": "a2a79f5f",
   "metadata": {
    "papermill": {
     "duration": 0.109878,
     "end_time": "2022-03-09T14:10:49.389464",
     "exception": false,
     "start_time": "2022-03-09T14:10:49.279586",
     "status": "completed"
    },
    "tags": []
   },
   "source": [
    "Save Model Score"
   ]
  },
  {
   "cell_type": "code",
   "execution_count": 48,
   "id": "ac0718f2",
   "metadata": {
    "execution": {
     "iopub.execute_input": "2022-03-09T14:10:49.613341Z",
     "iopub.status.busy": "2022-03-09T14:10:49.612773Z",
     "iopub.status.idle": "2022-03-09T14:10:49.657555Z",
     "shell.execute_reply": "2022-03-09T14:10:49.657065Z"
    },
    "papermill": {
     "duration": 0.157055,
     "end_time": "2022-03-09T14:10:49.657689",
     "exception": false,
     "start_time": "2022-03-09T14:10:49.500634",
     "status": "completed"
    },
    "tags": []
   },
   "outputs": [
    {
     "data": {
      "text/html": [
       "<div>\n",
       "<style scoped>\n",
       "    .dataframe tbody tr th:only-of-type {\n",
       "        vertical-align: middle;\n",
       "    }\n",
       "\n",
       "    .dataframe tbody tr th {\n",
       "        vertical-align: top;\n",
       "    }\n",
       "\n",
       "    .dataframe thead th {\n",
       "        text-align: right;\n",
       "    }\n",
       "</style>\n",
       "<table border=\"1\" class=\"dataframe\">\n",
       "  <thead>\n",
       "    <tr style=\"text-align: right;\">\n",
       "      <th></th>\n",
       "      <th>F1</th>\n",
       "      <th>Recall</th>\n",
       "    </tr>\n",
       "  </thead>\n",
       "  <tbody>\n",
       "    <tr>\n",
       "      <th>logistic_regression</th>\n",
       "      <td>0.781</td>\n",
       "      <td>0.735</td>\n",
       "    </tr>\n",
       "    <tr>\n",
       "      <th>knn</th>\n",
       "      <td>0.736</td>\n",
       "      <td>0.612</td>\n",
       "    </tr>\n",
       "    <tr>\n",
       "      <th>svm</th>\n",
       "      <td>0.631</td>\n",
       "      <td>0.939</td>\n",
       "    </tr>\n",
       "    <tr>\n",
       "      <th>dt</th>\n",
       "      <td>0.770</td>\n",
       "      <td>0.653</td>\n",
       "    </tr>\n",
       "    <tr>\n",
       "      <th>rf</th>\n",
       "      <td>0.736</td>\n",
       "      <td>0.755</td>\n",
       "    </tr>\n",
       "    <tr>\n",
       "      <th>ada</th>\n",
       "      <td>0.772</td>\n",
       "      <td>0.592</td>\n",
       "    </tr>\n",
       "  </tbody>\n",
       "</table>\n",
       "</div>"
      ],
      "text/plain": [
       "                       F1  Recall\n",
       "logistic_regression 0.781   0.735\n",
       "knn                 0.736   0.612\n",
       "svm                 0.631   0.939\n",
       "dt                  0.770   0.653\n",
       "rf                  0.736   0.755\n",
       "ada                 0.772   0.592"
      ]
     },
     "execution_count": 48,
     "metadata": {},
     "output_type": "execute_result"
    }
   ],
   "source": [
    "y_pred_ada = ada_model_grid.predict(X_test)\n",
    "res = pd.DataFrame({\"F1\": f1_score(y_test, y_pred_ada, average=\"weighted\"),\n",
    "                    \"Recall\": recall_score(y_test, y_pred_ada)}, index=[\"ada\"])\n",
    "result = pd.concat([result, res], axis=0)\n",
    "result\n"
   ]
  },
  {
   "cell_type": "markdown",
   "id": "5620d4d3",
   "metadata": {
    "papermill": {
     "duration": 0.110551,
     "end_time": "2022-03-09T14:10:49.878158",
     "exception": false,
     "start_time": "2022-03-09T14:10:49.767607",
     "status": "completed"
    },
    "tags": []
   },
   "source": [
    "---"
   ]
  },
  {
   "cell_type": "markdown",
   "id": "053fcb95",
   "metadata": {
    "papermill": {
     "duration": 0.112518,
     "end_time": "2022-03-09T14:10:50.101387",
     "exception": false,
     "start_time": "2022-03-09T14:10:49.988869",
     "status": "completed"
    },
    "tags": []
   },
   "source": [
    "# Gradient Boosting"
   ]
  },
  {
   "cell_type": "markdown",
   "id": "9b518da6",
   "metadata": {
    "papermill": {
     "duration": 0.111995,
     "end_time": "2022-03-09T14:10:50.324134",
     "exception": false,
     "start_time": "2022-03-09T14:10:50.212139",
     "status": "completed"
    },
    "tags": []
   },
   "source": [
    "Notes:\n",
    "- Focus on minimizing the residual of previous tree\n",
    "\n",
    "[Gradient Boosting Classifier Library Page](https://scikit-learn.org/stable/modules/generated/sklearn.ensemble.GradientBoostingClassifier.html)"
   ]
  },
  {
   "cell_type": "markdown",
   "id": "32733d20",
   "metadata": {
    "papermill": {
     "duration": 0.110662,
     "end_time": "2022-03-09T14:10:50.547725",
     "exception": false,
     "start_time": "2022-03-09T14:10:50.437063",
     "status": "completed"
    },
    "tags": []
   },
   "source": [
    "<img src=\"https://raw.githubusercontent.com/hsaglamlar/Machine_Learning_Projects/91cf7346025173dbcbde21ab8a92d07876f1f77d/Machine_Learning_Classification_Tutorial_Notebook/img/gboost.png\">\n",
    "\n",
    "[credit](https://www.geeksforgeeks.org/ml-gradient-boosting/)"
   ]
  },
  {
   "cell_type": "markdown",
   "id": "a56c0db8",
   "metadata": {
    "papermill": {
     "duration": 0.110265,
     "end_time": "2022-03-09T14:10:50.769005",
     "exception": false,
     "start_time": "2022-03-09T14:10:50.658740",
     "status": "completed"
    },
    "tags": []
   },
   "source": [
    "Import libraries"
   ]
  },
  {
   "cell_type": "code",
   "execution_count": 49,
   "id": "1ad96076",
   "metadata": {
    "execution": {
     "iopub.execute_input": "2022-03-09T14:10:50.997956Z",
     "iopub.status.busy": "2022-03-09T14:10:50.997359Z",
     "iopub.status.idle": "2022-03-09T14:10:51.000307Z",
     "shell.execute_reply": "2022-03-09T14:10:51.000803Z"
    },
    "papermill": {
     "duration": 0.120158,
     "end_time": "2022-03-09T14:10:51.000967",
     "exception": false,
     "start_time": "2022-03-09T14:10:50.880809",
     "status": "completed"
    },
    "tags": []
   },
   "outputs": [],
   "source": [
    "from sklearn.ensemble import GradientBoostingClassifier"
   ]
  },
  {
   "cell_type": "markdown",
   "id": "cffdeb8e",
   "metadata": {
    "papermill": {
     "duration": 0.110396,
     "end_time": "2022-03-09T14:10:51.223107",
     "exception": false,
     "start_time": "2022-03-09T14:10:51.112711",
     "status": "completed"
    },
    "tags": []
   },
   "source": [
    "Grid Search"
   ]
  },
  {
   "cell_type": "code",
   "execution_count": 50,
   "id": "25f72701",
   "metadata": {
    "execution": {
     "iopub.execute_input": "2022-03-09T14:10:51.447209Z",
     "iopub.status.busy": "2022-03-09T14:10:51.446651Z",
     "iopub.status.idle": "2022-03-09T14:11:00.363274Z",
     "shell.execute_reply": "2022-03-09T14:11:00.363754Z"
    },
    "papermill": {
     "duration": 9.029713,
     "end_time": "2022-03-09T14:11:00.363938",
     "exception": false,
     "start_time": "2022-03-09T14:10:51.334225",
     "status": "completed"
    },
    "tags": []
   },
   "outputs": [
    {
     "name": "stdout",
     "output_type": "stream",
     "text": [
      "Fitting 5 folds for each of 18 candidates, totalling 90 fits\n"
     ]
    },
    {
     "data": {
      "text/plain": [
       "{'learning_rate': 0.01, 'max_depth': 3, 'n_estimators': 300, 'subsample': 0.7}"
      ]
     },
     "execution_count": 50,
     "metadata": {},
     "output_type": "execute_result"
    }
   ],
   "source": [
    "param_grid = {\"n_estimators\": [100,  200,300],\n",
    "              \"subsample\": [0.7,1], \n",
    "              \"learning_rate\": [0.01], 'max_depth': [2,3,4]}\n",
    "gb_model = GradientBoostingClassifier(random_state=101)\n",
    "gb_model_grid = GridSearchCV(gb_model, param_grid, scoring=\"recall\",\n",
    "                             verbose=2, n_jobs=-1).fit(X_train, y_train)\n",
    "gb_model_grid.best_params_\n"
   ]
  },
  {
   "cell_type": "code",
   "execution_count": 51,
   "id": "b6b5fa19",
   "metadata": {
    "execution": {
     "iopub.execute_input": "2022-03-09T14:11:00.600178Z",
     "iopub.status.busy": "2022-03-09T14:11:00.599236Z",
     "iopub.status.idle": "2022-03-09T14:11:00.613252Z",
     "shell.execute_reply": "2022-03-09T14:11:00.613787Z"
    },
    "papermill": {
     "duration": 0.13895,
     "end_time": "2022-03-09T14:11:00.613952",
     "exception": false,
     "start_time": "2022-03-09T14:11:00.475002",
     "status": "completed"
    },
    "tags": []
   },
   "outputs": [
    {
     "name": "stdout",
     "output_type": "stream",
     "text": [
      "Test_Set\n",
      "[[83 12]\n",
      " [17 32]]\n",
      "              precision    recall  f1-score   support\n",
      "\n",
      "           0       0.83      0.87      0.85        95\n",
      "           1       0.73      0.65      0.69        49\n",
      "\n",
      "    accuracy                           0.80       144\n",
      "   macro avg       0.78      0.76      0.77       144\n",
      "weighted avg       0.80      0.80      0.80       144\n",
      "\n",
      "\n",
      "Train_Set\n",
      "[[350  28]\n",
      " [ 61 137]]\n",
      "              precision    recall  f1-score   support\n",
      "\n",
      "           0       0.85      0.93      0.89       378\n",
      "           1       0.83      0.69      0.75       198\n",
      "\n",
      "    accuracy                           0.85       576\n",
      "   macro avg       0.84      0.81      0.82       576\n",
      "weighted avg       0.84      0.85      0.84       576\n",
      "\n"
     ]
    }
   ],
   "source": [
    "eval_metric(gb_model_grid, X_train, y_train, X_test, y_test)"
   ]
  },
  {
   "cell_type": "markdown",
   "id": "1e7f0d65",
   "metadata": {
    "papermill": {
     "duration": 0.113651,
     "end_time": "2022-03-09T14:11:00.838366",
     "exception": false,
     "start_time": "2022-03-09T14:11:00.724715",
     "status": "completed"
    },
    "tags": []
   },
   "source": [
    "Cross Validate Model"
   ]
  },
  {
   "cell_type": "code",
   "execution_count": 52,
   "id": "f67e93f2",
   "metadata": {
    "execution": {
     "iopub.execute_input": "2022-03-09T14:11:01.065980Z",
     "iopub.status.busy": "2022-03-09T14:11:01.065052Z",
     "iopub.status.idle": "2022-03-09T14:11:02.765237Z",
     "shell.execute_reply": "2022-03-09T14:11:02.765832Z"
    },
    "papermill": {
     "duration": 1.81648,
     "end_time": "2022-03-09T14:11:02.765996",
     "exception": false,
     "start_time": "2022-03-09T14:11:00.949516",
     "status": "completed"
    },
    "tags": []
   },
   "outputs": [
    {
     "data": {
      "text/plain": [
       "test_accuracy    0.762\n",
       "test_precision   0.686\n",
       "test_recall      0.571\n",
       "test_f1          0.623\n",
       "test_roc_auc     0.829\n",
       "dtype: float64"
      ]
     },
     "execution_count": 52,
     "metadata": {},
     "output_type": "execute_result"
    }
   ],
   "source": [
    "gb_model_cv = GradientBoostingClassifier(random_state=101, **gb_model_grid.best_params_)\n",
    "\n",
    "scores = cross_validate(gb_model_cv, X_train, y_train, cv=5, \n",
    "                        scoring=['accuracy', 'precision', 'recall', 'f1', 'roc_auc'])\n",
    "df_scores = pd.DataFrame(scores, index=range(1, 6))\n",
    "df_scores.mean()[2:]\n"
   ]
  },
  {
   "cell_type": "markdown",
   "id": "192d58d9",
   "metadata": {
    "papermill": {
     "duration": 0.113871,
     "end_time": "2022-03-09T14:11:02.992068",
     "exception": false,
     "start_time": "2022-03-09T14:11:02.878197",
     "status": "completed"
    },
    "tags": []
   },
   "source": [
    "Save Model Score"
   ]
  },
  {
   "cell_type": "code",
   "execution_count": 53,
   "id": "c3480a7a",
   "metadata": {
    "execution": {
     "iopub.execute_input": "2022-03-09T14:11:03.220212Z",
     "iopub.status.busy": "2022-03-09T14:11:03.219305Z",
     "iopub.status.idle": "2022-03-09T14:11:03.235223Z",
     "shell.execute_reply": "2022-03-09T14:11:03.235695Z"
    },
    "papermill": {
     "duration": 0.130936,
     "end_time": "2022-03-09T14:11:03.235860",
     "exception": false,
     "start_time": "2022-03-09T14:11:03.104924",
     "status": "completed"
    },
    "tags": []
   },
   "outputs": [
    {
     "data": {
      "text/html": [
       "<div>\n",
       "<style scoped>\n",
       "    .dataframe tbody tr th:only-of-type {\n",
       "        vertical-align: middle;\n",
       "    }\n",
       "\n",
       "    .dataframe tbody tr th {\n",
       "        vertical-align: top;\n",
       "    }\n",
       "\n",
       "    .dataframe thead th {\n",
       "        text-align: right;\n",
       "    }\n",
       "</style>\n",
       "<table border=\"1\" class=\"dataframe\">\n",
       "  <thead>\n",
       "    <tr style=\"text-align: right;\">\n",
       "      <th></th>\n",
       "      <th>F1</th>\n",
       "      <th>Recall</th>\n",
       "    </tr>\n",
       "  </thead>\n",
       "  <tbody>\n",
       "    <tr>\n",
       "      <th>logistic_regression</th>\n",
       "      <td>0.781</td>\n",
       "      <td>0.735</td>\n",
       "    </tr>\n",
       "    <tr>\n",
       "      <th>knn</th>\n",
       "      <td>0.736</td>\n",
       "      <td>0.612</td>\n",
       "    </tr>\n",
       "    <tr>\n",
       "      <th>svm</th>\n",
       "      <td>0.631</td>\n",
       "      <td>0.939</td>\n",
       "    </tr>\n",
       "    <tr>\n",
       "      <th>dt</th>\n",
       "      <td>0.770</td>\n",
       "      <td>0.653</td>\n",
       "    </tr>\n",
       "    <tr>\n",
       "      <th>rf</th>\n",
       "      <td>0.736</td>\n",
       "      <td>0.755</td>\n",
       "    </tr>\n",
       "    <tr>\n",
       "      <th>ada</th>\n",
       "      <td>0.772</td>\n",
       "      <td>0.592</td>\n",
       "    </tr>\n",
       "    <tr>\n",
       "      <th>gboost</th>\n",
       "      <td>0.796</td>\n",
       "      <td>0.653</td>\n",
       "    </tr>\n",
       "  </tbody>\n",
       "</table>\n",
       "</div>"
      ],
      "text/plain": [
       "                       F1  Recall\n",
       "logistic_regression 0.781   0.735\n",
       "knn                 0.736   0.612\n",
       "svm                 0.631   0.939\n",
       "dt                  0.770   0.653\n",
       "rf                  0.736   0.755\n",
       "ada                 0.772   0.592\n",
       "gboost              0.796   0.653"
      ]
     },
     "execution_count": 53,
     "metadata": {},
     "output_type": "execute_result"
    }
   ],
   "source": [
    "y_pred_gb = gb_model_grid.predict(X_test)\n",
    "res = pd.DataFrame({\"F1\": f1_score(y_test, y_pred_gb, average=\"weighted\"),\n",
    "                    \"Recall\": recall_score(y_test, y_pred_gb)}, index=[\"gboost\"])\n",
    "result = pd.concat([result, res], axis=0)\n",
    "result\n"
   ]
  },
  {
   "cell_type": "markdown",
   "id": "73a1f4f1",
   "metadata": {
    "papermill": {
     "duration": 0.11248,
     "end_time": "2022-03-09T14:11:03.462022",
     "exception": false,
     "start_time": "2022-03-09T14:11:03.349542",
     "status": "completed"
    },
    "tags": []
   },
   "source": [
    "---"
   ]
  },
  {
   "cell_type": "markdown",
   "id": "07575ded",
   "metadata": {
    "papermill": {
     "duration": 0.112914,
     "end_time": "2022-03-09T14:11:03.690009",
     "exception": false,
     "start_time": "2022-03-09T14:11:03.577095",
     "status": "completed"
    },
    "tags": []
   },
   "source": [
    "# XG Boost"
   ]
  },
  {
   "cell_type": "markdown",
   "id": "e41418a8",
   "metadata": {
    "papermill": {
     "duration": 0.123159,
     "end_time": "2022-03-09T14:11:03.932044",
     "exception": false,
     "start_time": "2022-03-09T14:11:03.808885",
     "status": "completed"
    },
    "tags": []
   },
   "source": [
    "Notes:\n",
    "- GBoost with regularization\n",
    "- Faster in big data, parallel processing \n",
    "- Built in cross validation\n",
    "- No need for EDA, no need to fill missing values\n",
    "- Feature importance\n",
    "- Too many hyperparameter\n",
    "\n",
    "[XGBoost Library Page](https://xgboost.readthedocs.io/en/stable/python/python_api.html?highlight=xgbclassifier#xgboost.XGBClassifier)\n"
   ]
  },
  {
   "cell_type": "markdown",
   "id": "aeca72f6",
   "metadata": {
    "papermill": {
     "duration": 0.120217,
     "end_time": "2022-03-09T14:11:04.176189",
     "exception": false,
     "start_time": "2022-03-09T14:11:04.055972",
     "status": "completed"
    },
    "tags": []
   },
   "source": [
    "Import libraries"
   ]
  },
  {
   "cell_type": "code",
   "execution_count": 54,
   "id": "dee0696d",
   "metadata": {
    "execution": {
     "iopub.execute_input": "2022-03-09T14:11:04.423375Z",
     "iopub.status.busy": "2022-03-09T14:11:04.422790Z",
     "iopub.status.idle": "2022-03-09T14:11:04.528307Z",
     "shell.execute_reply": "2022-03-09T14:11:04.528831Z"
    },
    "papermill": {
     "duration": 0.228959,
     "end_time": "2022-03-09T14:11:04.529013",
     "exception": false,
     "start_time": "2022-03-09T14:11:04.300054",
     "status": "completed"
    },
    "tags": []
   },
   "outputs": [],
   "source": [
    "from xgboost import XGBClassifier\n"
   ]
  },
  {
   "cell_type": "markdown",
   "id": "55fb3f59",
   "metadata": {
    "papermill": {
     "duration": 0.121712,
     "end_time": "2022-03-09T14:11:04.771571",
     "exception": false,
     "start_time": "2022-03-09T14:11:04.649859",
     "status": "completed"
    },
    "tags": []
   },
   "source": [
    "Grid Search"
   ]
  },
  {
   "cell_type": "code",
   "execution_count": 55,
   "id": "08d11eea",
   "metadata": {
    "execution": {
     "iopub.execute_input": "2022-03-09T14:11:05.018275Z",
     "iopub.status.busy": "2022-03-09T14:11:05.017095Z",
     "iopub.status.idle": "2022-03-09T14:44:37.575235Z",
     "shell.execute_reply": "2022-03-09T14:44:37.575725Z"
    },
    "papermill": {
     "duration": 2012.685134,
     "end_time": "2022-03-09T14:44:37.575893",
     "exception": false,
     "start_time": "2022-03-09T14:11:04.890759",
     "status": "completed"
    },
    "tags": []
   },
   "outputs": [
    {
     "name": "stderr",
     "output_type": "stream",
     "text": [
      "/opt/conda/lib/python3.7/site-packages/xgboost/sklearn.py:1224: UserWarning: The use of label encoder in XGBClassifier is deprecated and will be removed in a future release. To remove this warning, do the following: 1) Pass option use_label_encoder=False when constructing XGBClassifier object; and 2) Encode your labels (y) as integers starting with 0, i.e. 0, 1, 2, ..., [num_class - 1].\n",
      "  warnings.warn(label_encoder_deprecation_msg, UserWarning)\n",
      "/opt/conda/lib/python3.7/site-packages/xgboost/sklearn.py:1224: UserWarning: The use of label encoder in XGBClassifier is deprecated and will be removed in a future release. To remove this warning, do the following: 1) Pass option use_label_encoder=False when constructing XGBClassifier object; and 2) Encode your labels (y) as integers starting with 0, i.e. 0, 1, 2, ..., [num_class - 1].\n",
      "  warnings.warn(label_encoder_deprecation_msg, UserWarning)\n",
      "/opt/conda/lib/python3.7/site-packages/xgboost/sklearn.py:1224: UserWarning: The use of label encoder in XGBClassifier is deprecated and will be removed in a future release. To remove this warning, do the following: 1) Pass option use_label_encoder=False when constructing XGBClassifier object; and 2) Encode your labels (y) as integers starting with 0, i.e. 0, 1, 2, ..., [num_class - 1].\n",
      "  warnings.warn(label_encoder_deprecation_msg, UserWarning)\n",
      "/opt/conda/lib/python3.7/site-packages/xgboost/sklearn.py:1224: UserWarning: The use of label encoder in XGBClassifier is deprecated and will be removed in a future release. To remove this warning, do the following: 1) Pass option use_label_encoder=False when constructing XGBClassifier object; and 2) Encode your labels (y) as integers starting with 0, i.e. 0, 1, 2, ..., [num_class - 1].\n",
      "  warnings.warn(label_encoder_deprecation_msg, UserWarning)\n",
      "/opt/conda/lib/python3.7/site-packages/xgboost/sklearn.py:1224: UserWarning: The use of label encoder in XGBClassifier is deprecated and will be removed in a future release. To remove this warning, do the following: 1) Pass option use_label_encoder=False when constructing XGBClassifier object; and 2) Encode your labels (y) as integers starting with 0, i.e. 0, 1, 2, ..., [num_class - 1].\n",
      "  warnings.warn(label_encoder_deprecation_msg, UserWarning)\n",
      "/opt/conda/lib/python3.7/site-packages/xgboost/sklearn.py:1224: UserWarning: The use of label encoder in XGBClassifier is deprecated and will be removed in a future release. To remove this warning, do the following: 1) Pass option use_label_encoder=False when constructing XGBClassifier object; and 2) Encode your labels (y) as integers starting with 0, i.e. 0, 1, 2, ..., [num_class - 1].\n",
      "  warnings.warn(label_encoder_deprecation_msg, UserWarning)\n",
      "/opt/conda/lib/python3.7/site-packages/xgboost/sklearn.py:1224: UserWarning: The use of label encoder in XGBClassifier is deprecated and will be removed in a future release. To remove this warning, do the following: 1) Pass option use_label_encoder=False when constructing XGBClassifier object; and 2) Encode your labels (y) as integers starting with 0, i.e. 0, 1, 2, ..., [num_class - 1].\n",
      "  warnings.warn(label_encoder_deprecation_msg, UserWarning)\n",
      "/opt/conda/lib/python3.7/site-packages/xgboost/sklearn.py:1224: UserWarning: The use of label encoder in XGBClassifier is deprecated and will be removed in a future release. To remove this warning, do the following: 1) Pass option use_label_encoder=False when constructing XGBClassifier object; and 2) Encode your labels (y) as integers starting with 0, i.e. 0, 1, 2, ..., [num_class - 1].\n",
      "  warnings.warn(label_encoder_deprecation_msg, UserWarning)\n",
      "/opt/conda/lib/python3.7/site-packages/xgboost/sklearn.py:1224: UserWarning: The use of label encoder in XGBClassifier is deprecated and will be removed in a future release. To remove this warning, do the following: 1) Pass option use_label_encoder=False when constructing XGBClassifier object; and 2) Encode your labels (y) as integers starting with 0, i.e. 0, 1, 2, ..., [num_class - 1].\n",
      "  warnings.warn(label_encoder_deprecation_msg, UserWarning)\n",
      "/opt/conda/lib/python3.7/site-packages/xgboost/sklearn.py:1224: UserWarning: The use of label encoder in XGBClassifier is deprecated and will be removed in a future release. To remove this warning, do the following: 1) Pass option use_label_encoder=False when constructing XGBClassifier object; and 2) Encode your labels (y) as integers starting with 0, i.e. 0, 1, 2, ..., [num_class - 1].\n",
      "  warnings.warn(label_encoder_deprecation_msg, UserWarning)\n",
      "/opt/conda/lib/python3.7/site-packages/xgboost/sklearn.py:1224: UserWarning: The use of label encoder in XGBClassifier is deprecated and will be removed in a future release. To remove this warning, do the following: 1) Pass option use_label_encoder=False when constructing XGBClassifier object; and 2) Encode your labels (y) as integers starting with 0, i.e. 0, 1, 2, ..., [num_class - 1].\n",
      "  warnings.warn(label_encoder_deprecation_msg, UserWarning)\n",
      "/opt/conda/lib/python3.7/site-packages/xgboost/sklearn.py:1224: UserWarning: The use of label encoder in XGBClassifier is deprecated and will be removed in a future release. To remove this warning, do the following: 1) Pass option use_label_encoder=False when constructing XGBClassifier object; and 2) Encode your labels (y) as integers starting with 0, i.e. 0, 1, 2, ..., [num_class - 1].\n",
      "  warnings.warn(label_encoder_deprecation_msg, UserWarning)\n",
      "/opt/conda/lib/python3.7/site-packages/xgboost/sklearn.py:1224: UserWarning: The use of label encoder in XGBClassifier is deprecated and will be removed in a future release. To remove this warning, do the following: 1) Pass option use_label_encoder=False when constructing XGBClassifier object; and 2) Encode your labels (y) as integers starting with 0, i.e. 0, 1, 2, ..., [num_class - 1].\n",
      "  warnings.warn(label_encoder_deprecation_msg, UserWarning)\n",
      "/opt/conda/lib/python3.7/site-packages/xgboost/sklearn.py:1224: UserWarning: The use of label encoder in XGBClassifier is deprecated and will be removed in a future release. To remove this warning, do the following: 1) Pass option use_label_encoder=False when constructing XGBClassifier object; and 2) Encode your labels (y) as integers starting with 0, i.e. 0, 1, 2, ..., [num_class - 1].\n",
      "  warnings.warn(label_encoder_deprecation_msg, UserWarning)\n",
      "/opt/conda/lib/python3.7/site-packages/xgboost/sklearn.py:1224: UserWarning: The use of label encoder in XGBClassifier is deprecated and will be removed in a future release. To remove this warning, do the following: 1) Pass option use_label_encoder=False when constructing XGBClassifier object; and 2) Encode your labels (y) as integers starting with 0, i.e. 0, 1, 2, ..., [num_class - 1].\n",
      "  warnings.warn(label_encoder_deprecation_msg, UserWarning)\n",
      "/opt/conda/lib/python3.7/site-packages/xgboost/sklearn.py:1224: UserWarning: The use of label encoder in XGBClassifier is deprecated and will be removed in a future release. To remove this warning, do the following: 1) Pass option use_label_encoder=False when constructing XGBClassifier object; and 2) Encode your labels (y) as integers starting with 0, i.e. 0, 1, 2, ..., [num_class - 1].\n",
      "  warnings.warn(label_encoder_deprecation_msg, UserWarning)\n",
      "/opt/conda/lib/python3.7/site-packages/xgboost/sklearn.py:1224: UserWarning: The use of label encoder in XGBClassifier is deprecated and will be removed in a future release. To remove this warning, do the following: 1) Pass option use_label_encoder=False when constructing XGBClassifier object; and 2) Encode your labels (y) as integers starting with 0, i.e. 0, 1, 2, ..., [num_class - 1].\n",
      "  warnings.warn(label_encoder_deprecation_msg, UserWarning)\n",
      "/opt/conda/lib/python3.7/site-packages/xgboost/sklearn.py:1224: UserWarning: The use of label encoder in XGBClassifier is deprecated and will be removed in a future release. To remove this warning, do the following: 1) Pass option use_label_encoder=False when constructing XGBClassifier object; and 2) Encode your labels (y) as integers starting with 0, i.e. 0, 1, 2, ..., [num_class - 1].\n",
      "  warnings.warn(label_encoder_deprecation_msg, UserWarning)\n",
      "/opt/conda/lib/python3.7/site-packages/xgboost/sklearn.py:1224: UserWarning: The use of label encoder in XGBClassifier is deprecated and will be removed in a future release. To remove this warning, do the following: 1) Pass option use_label_encoder=False when constructing XGBClassifier object; and 2) Encode your labels (y) as integers starting with 0, i.e. 0, 1, 2, ..., [num_class - 1].\n",
      "  warnings.warn(label_encoder_deprecation_msg, UserWarning)\n",
      "/opt/conda/lib/python3.7/site-packages/xgboost/sklearn.py:1224: UserWarning: The use of label encoder in XGBClassifier is deprecated and will be removed in a future release. To remove this warning, do the following: 1) Pass option use_label_encoder=False when constructing XGBClassifier object; and 2) Encode your labels (y) as integers starting with 0, i.e. 0, 1, 2, ..., [num_class - 1].\n",
      "  warnings.warn(label_encoder_deprecation_msg, UserWarning)\n",
      "/opt/conda/lib/python3.7/site-packages/xgboost/sklearn.py:1224: UserWarning: The use of label encoder in XGBClassifier is deprecated and will be removed in a future release. To remove this warning, do the following: 1) Pass option use_label_encoder=False when constructing XGBClassifier object; and 2) Encode your labels (y) as integers starting with 0, i.e. 0, 1, 2, ..., [num_class - 1].\n",
      "  warnings.warn(label_encoder_deprecation_msg, UserWarning)\n",
      "/opt/conda/lib/python3.7/site-packages/xgboost/sklearn.py:1224: UserWarning: The use of label encoder in XGBClassifier is deprecated and will be removed in a future release. To remove this warning, do the following: 1) Pass option use_label_encoder=False when constructing XGBClassifier object; and 2) Encode your labels (y) as integers starting with 0, i.e. 0, 1, 2, ..., [num_class - 1].\n",
      "  warnings.warn(label_encoder_deprecation_msg, UserWarning)\n",
      "/opt/conda/lib/python3.7/site-packages/xgboost/sklearn.py:1224: UserWarning: The use of label encoder in XGBClassifier is deprecated and will be removed in a future release. To remove this warning, do the following: 1) Pass option use_label_encoder=False when constructing XGBClassifier object; and 2) Encode your labels (y) as integers starting with 0, i.e. 0, 1, 2, ..., [num_class - 1].\n",
      "  warnings.warn(label_encoder_deprecation_msg, UserWarning)\n",
      "/opt/conda/lib/python3.7/site-packages/xgboost/sklearn.py:1224: UserWarning: The use of label encoder in XGBClassifier is deprecated and will be removed in a future release. To remove this warning, do the following: 1) Pass option use_label_encoder=False when constructing XGBClassifier object; and 2) Encode your labels (y) as integers starting with 0, i.e. 0, 1, 2, ..., [num_class - 1].\n",
      "  warnings.warn(label_encoder_deprecation_msg, UserWarning)\n",
      "/opt/conda/lib/python3.7/site-packages/xgboost/sklearn.py:1224: UserWarning: The use of label encoder in XGBClassifier is deprecated and will be removed in a future release. To remove this warning, do the following: 1) Pass option use_label_encoder=False when constructing XGBClassifier object; and 2) Encode your labels (y) as integers starting with 0, i.e. 0, 1, 2, ..., [num_class - 1].\n",
      "  warnings.warn(label_encoder_deprecation_msg, UserWarning)\n",
      "/opt/conda/lib/python3.7/site-packages/xgboost/sklearn.py:1224: UserWarning: The use of label encoder in XGBClassifier is deprecated and will be removed in a future release. To remove this warning, do the following: 1) Pass option use_label_encoder=False when constructing XGBClassifier object; and 2) Encode your labels (y) as integers starting with 0, i.e. 0, 1, 2, ..., [num_class - 1].\n",
      "  warnings.warn(label_encoder_deprecation_msg, UserWarning)\n",
      "/opt/conda/lib/python3.7/site-packages/xgboost/sklearn.py:1224: UserWarning: The use of label encoder in XGBClassifier is deprecated and will be removed in a future release. To remove this warning, do the following: 1) Pass option use_label_encoder=False when constructing XGBClassifier object; and 2) Encode your labels (y) as integers starting with 0, i.e. 0, 1, 2, ..., [num_class - 1].\n",
      "  warnings.warn(label_encoder_deprecation_msg, UserWarning)\n",
      "/opt/conda/lib/python3.7/site-packages/xgboost/sklearn.py:1224: UserWarning: The use of label encoder in XGBClassifier is deprecated and will be removed in a future release. To remove this warning, do the following: 1) Pass option use_label_encoder=False when constructing XGBClassifier object; and 2) Encode your labels (y) as integers starting with 0, i.e. 0, 1, 2, ..., [num_class - 1].\n",
      "  warnings.warn(label_encoder_deprecation_msg, UserWarning)\n",
      "/opt/conda/lib/python3.7/site-packages/xgboost/sklearn.py:1224: UserWarning: The use of label encoder in XGBClassifier is deprecated and will be removed in a future release. To remove this warning, do the following: 1) Pass option use_label_encoder=False when constructing XGBClassifier object; and 2) Encode your labels (y) as integers starting with 0, i.e. 0, 1, 2, ..., [num_class - 1].\n",
      "  warnings.warn(label_encoder_deprecation_msg, UserWarning)\n",
      "/opt/conda/lib/python3.7/site-packages/xgboost/sklearn.py:1224: UserWarning: The use of label encoder in XGBClassifier is deprecated and will be removed in a future release. To remove this warning, do the following: 1) Pass option use_label_encoder=False when constructing XGBClassifier object; and 2) Encode your labels (y) as integers starting with 0, i.e. 0, 1, 2, ..., [num_class - 1].\n",
      "  warnings.warn(label_encoder_deprecation_msg, UserWarning)\n",
      "/opt/conda/lib/python3.7/site-packages/xgboost/sklearn.py:1224: UserWarning: The use of label encoder in XGBClassifier is deprecated and will be removed in a future release. To remove this warning, do the following: 1) Pass option use_label_encoder=False when constructing XGBClassifier object; and 2) Encode your labels (y) as integers starting with 0, i.e. 0, 1, 2, ..., [num_class - 1].\n",
      "  warnings.warn(label_encoder_deprecation_msg, UserWarning)\n",
      "/opt/conda/lib/python3.7/site-packages/xgboost/sklearn.py:1224: UserWarning: The use of label encoder in XGBClassifier is deprecated and will be removed in a future release. To remove this warning, do the following: 1) Pass option use_label_encoder=False when constructing XGBClassifier object; and 2) Encode your labels (y) as integers starting with 0, i.e. 0, 1, 2, ..., [num_class - 1].\n",
      "  warnings.warn(label_encoder_deprecation_msg, UserWarning)\n",
      "/opt/conda/lib/python3.7/site-packages/xgboost/sklearn.py:1224: UserWarning: The use of label encoder in XGBClassifier is deprecated and will be removed in a future release. To remove this warning, do the following: 1) Pass option use_label_encoder=False when constructing XGBClassifier object; and 2) Encode your labels (y) as integers starting with 0, i.e. 0, 1, 2, ..., [num_class - 1].\n",
      "  warnings.warn(label_encoder_deprecation_msg, UserWarning)\n",
      "/opt/conda/lib/python3.7/site-packages/xgboost/sklearn.py:1224: UserWarning: The use of label encoder in XGBClassifier is deprecated and will be removed in a future release. To remove this warning, do the following: 1) Pass option use_label_encoder=False when constructing XGBClassifier object; and 2) Encode your labels (y) as integers starting with 0, i.e. 0, 1, 2, ..., [num_class - 1].\n",
      "  warnings.warn(label_encoder_deprecation_msg, UserWarning)\n",
      "/opt/conda/lib/python3.7/site-packages/xgboost/sklearn.py:1224: UserWarning: The use of label encoder in XGBClassifier is deprecated and will be removed in a future release. To remove this warning, do the following: 1) Pass option use_label_encoder=False when constructing XGBClassifier object; and 2) Encode your labels (y) as integers starting with 0, i.e. 0, 1, 2, ..., [num_class - 1].\n",
      "  warnings.warn(label_encoder_deprecation_msg, UserWarning)\n",
      "/opt/conda/lib/python3.7/site-packages/xgboost/sklearn.py:1224: UserWarning: The use of label encoder in XGBClassifier is deprecated and will be removed in a future release. To remove this warning, do the following: 1) Pass option use_label_encoder=False when constructing XGBClassifier object; and 2) Encode your labels (y) as integers starting with 0, i.e. 0, 1, 2, ..., [num_class - 1].\n",
      "  warnings.warn(label_encoder_deprecation_msg, UserWarning)\n",
      "/opt/conda/lib/python3.7/site-packages/xgboost/sklearn.py:1224: UserWarning: The use of label encoder in XGBClassifier is deprecated and will be removed in a future release. To remove this warning, do the following: 1) Pass option use_label_encoder=False when constructing XGBClassifier object; and 2) Encode your labels (y) as integers starting with 0, i.e. 0, 1, 2, ..., [num_class - 1].\n",
      "  warnings.warn(label_encoder_deprecation_msg, UserWarning)\n",
      "/opt/conda/lib/python3.7/site-packages/xgboost/sklearn.py:1224: UserWarning: The use of label encoder in XGBClassifier is deprecated and will be removed in a future release. To remove this warning, do the following: 1) Pass option use_label_encoder=False when constructing XGBClassifier object; and 2) Encode your labels (y) as integers starting with 0, i.e. 0, 1, 2, ..., [num_class - 1].\n",
      "  warnings.warn(label_encoder_deprecation_msg, UserWarning)\n",
      "/opt/conda/lib/python3.7/site-packages/xgboost/sklearn.py:1224: UserWarning: The use of label encoder in XGBClassifier is deprecated and will be removed in a future release. To remove this warning, do the following: 1) Pass option use_label_encoder=False when constructing XGBClassifier object; and 2) Encode your labels (y) as integers starting with 0, i.e. 0, 1, 2, ..., [num_class - 1].\n",
      "  warnings.warn(label_encoder_deprecation_msg, UserWarning)\n",
      "/opt/conda/lib/python3.7/site-packages/xgboost/sklearn.py:1224: UserWarning: The use of label encoder in XGBClassifier is deprecated and will be removed in a future release. To remove this warning, do the following: 1) Pass option use_label_encoder=False when constructing XGBClassifier object; and 2) Encode your labels (y) as integers starting with 0, i.e. 0, 1, 2, ..., [num_class - 1].\n",
      "  warnings.warn(label_encoder_deprecation_msg, UserWarning)\n",
      "/opt/conda/lib/python3.7/site-packages/xgboost/sklearn.py:1224: UserWarning: The use of label encoder in XGBClassifier is deprecated and will be removed in a future release. To remove this warning, do the following: 1) Pass option use_label_encoder=False when constructing XGBClassifier object; and 2) Encode your labels (y) as integers starting with 0, i.e. 0, 1, 2, ..., [num_class - 1].\n",
      "  warnings.warn(label_encoder_deprecation_msg, UserWarning)\n",
      "/opt/conda/lib/python3.7/site-packages/xgboost/sklearn.py:1224: UserWarning: The use of label encoder in XGBClassifier is deprecated and will be removed in a future release. To remove this warning, do the following: 1) Pass option use_label_encoder=False when constructing XGBClassifier object; and 2) Encode your labels (y) as integers starting with 0, i.e. 0, 1, 2, ..., [num_class - 1].\n",
      "  warnings.warn(label_encoder_deprecation_msg, UserWarning)\n",
      "/opt/conda/lib/python3.7/site-packages/xgboost/sklearn.py:1224: UserWarning: The use of label encoder in XGBClassifier is deprecated and will be removed in a future release. To remove this warning, do the following: 1) Pass option use_label_encoder=False when constructing XGBClassifier object; and 2) Encode your labels (y) as integers starting with 0, i.e. 0, 1, 2, ..., [num_class - 1].\n",
      "  warnings.warn(label_encoder_deprecation_msg, UserWarning)\n",
      "/opt/conda/lib/python3.7/site-packages/xgboost/sklearn.py:1224: UserWarning: The use of label encoder in XGBClassifier is deprecated and will be removed in a future release. To remove this warning, do the following: 1) Pass option use_label_encoder=False when constructing XGBClassifier object; and 2) Encode your labels (y) as integers starting with 0, i.e. 0, 1, 2, ..., [num_class - 1].\n",
      "  warnings.warn(label_encoder_deprecation_msg, UserWarning)\n",
      "/opt/conda/lib/python3.7/site-packages/xgboost/sklearn.py:1224: UserWarning: The use of label encoder in XGBClassifier is deprecated and will be removed in a future release. To remove this warning, do the following: 1) Pass option use_label_encoder=False when constructing XGBClassifier object; and 2) Encode your labels (y) as integers starting with 0, i.e. 0, 1, 2, ..., [num_class - 1].\n",
      "  warnings.warn(label_encoder_deprecation_msg, UserWarning)\n",
      "/opt/conda/lib/python3.7/site-packages/xgboost/sklearn.py:1224: UserWarning: The use of label encoder in XGBClassifier is deprecated and will be removed in a future release. To remove this warning, do the following: 1) Pass option use_label_encoder=False when constructing XGBClassifier object; and 2) Encode your labels (y) as integers starting with 0, i.e. 0, 1, 2, ..., [num_class - 1].\n",
      "  warnings.warn(label_encoder_deprecation_msg, UserWarning)\n",
      "/opt/conda/lib/python3.7/site-packages/xgboost/sklearn.py:1224: UserWarning: The use of label encoder in XGBClassifier is deprecated and will be removed in a future release. To remove this warning, do the following: 1) Pass option use_label_encoder=False when constructing XGBClassifier object; and 2) Encode your labels (y) as integers starting with 0, i.e. 0, 1, 2, ..., [num_class - 1].\n",
      "  warnings.warn(label_encoder_deprecation_msg, UserWarning)\n",
      "/opt/conda/lib/python3.7/site-packages/xgboost/sklearn.py:1224: UserWarning: The use of label encoder in XGBClassifier is deprecated and will be removed in a future release. To remove this warning, do the following: 1) Pass option use_label_encoder=False when constructing XGBClassifier object; and 2) Encode your labels (y) as integers starting with 0, i.e. 0, 1, 2, ..., [num_class - 1].\n",
      "  warnings.warn(label_encoder_deprecation_msg, UserWarning)\n",
      "/opt/conda/lib/python3.7/site-packages/xgboost/sklearn.py:1224: UserWarning: The use of label encoder in XGBClassifier is deprecated and will be removed in a future release. To remove this warning, do the following: 1) Pass option use_label_encoder=False when constructing XGBClassifier object; and 2) Encode your labels (y) as integers starting with 0, i.e. 0, 1, 2, ..., [num_class - 1].\n",
      "  warnings.warn(label_encoder_deprecation_msg, UserWarning)\n",
      "/opt/conda/lib/python3.7/site-packages/xgboost/sklearn.py:1224: UserWarning: The use of label encoder in XGBClassifier is deprecated and will be removed in a future release. To remove this warning, do the following: 1) Pass option use_label_encoder=False when constructing XGBClassifier object; and 2) Encode your labels (y) as integers starting with 0, i.e. 0, 1, 2, ..., [num_class - 1].\n",
      "  warnings.warn(label_encoder_deprecation_msg, UserWarning)\n",
      "/opt/conda/lib/python3.7/site-packages/xgboost/sklearn.py:1224: UserWarning: The use of label encoder in XGBClassifier is deprecated and will be removed in a future release. To remove this warning, do the following: 1) Pass option use_label_encoder=False when constructing XGBClassifier object; and 2) Encode your labels (y) as integers starting with 0, i.e. 0, 1, 2, ..., [num_class - 1].\n",
      "  warnings.warn(label_encoder_deprecation_msg, UserWarning)\n",
      "/opt/conda/lib/python3.7/site-packages/xgboost/sklearn.py:1224: UserWarning: The use of label encoder in XGBClassifier is deprecated and will be removed in a future release. To remove this warning, do the following: 1) Pass option use_label_encoder=False when constructing XGBClassifier object; and 2) Encode your labels (y) as integers starting with 0, i.e. 0, 1, 2, ..., [num_class - 1].\n",
      "  warnings.warn(label_encoder_deprecation_msg, UserWarning)\n",
      "/opt/conda/lib/python3.7/site-packages/xgboost/sklearn.py:1224: UserWarning: The use of label encoder in XGBClassifier is deprecated and will be removed in a future release. To remove this warning, do the following: 1) Pass option use_label_encoder=False when constructing XGBClassifier object; and 2) Encode your labels (y) as integers starting with 0, i.e. 0, 1, 2, ..., [num_class - 1].\n",
      "  warnings.warn(label_encoder_deprecation_msg, UserWarning)\n",
      "/opt/conda/lib/python3.7/site-packages/xgboost/sklearn.py:1224: UserWarning: The use of label encoder in XGBClassifier is deprecated and will be removed in a future release. To remove this warning, do the following: 1) Pass option use_label_encoder=False when constructing XGBClassifier object; and 2) Encode your labels (y) as integers starting with 0, i.e. 0, 1, 2, ..., [num_class - 1].\n",
      "  warnings.warn(label_encoder_deprecation_msg, UserWarning)\n",
      "/opt/conda/lib/python3.7/site-packages/xgboost/sklearn.py:1224: UserWarning: The use of label encoder in XGBClassifier is deprecated and will be removed in a future release. To remove this warning, do the following: 1) Pass option use_label_encoder=False when constructing XGBClassifier object; and 2) Encode your labels (y) as integers starting with 0, i.e. 0, 1, 2, ..., [num_class - 1].\n",
      "  warnings.warn(label_encoder_deprecation_msg, UserWarning)\n",
      "/opt/conda/lib/python3.7/site-packages/xgboost/sklearn.py:1224: UserWarning: The use of label encoder in XGBClassifier is deprecated and will be removed in a future release. To remove this warning, do the following: 1) Pass option use_label_encoder=False when constructing XGBClassifier object; and 2) Encode your labels (y) as integers starting with 0, i.e. 0, 1, 2, ..., [num_class - 1].\n",
      "  warnings.warn(label_encoder_deprecation_msg, UserWarning)\n",
      "/opt/conda/lib/python3.7/site-packages/xgboost/sklearn.py:1224: UserWarning: The use of label encoder in XGBClassifier is deprecated and will be removed in a future release. To remove this warning, do the following: 1) Pass option use_label_encoder=False when constructing XGBClassifier object; and 2) Encode your labels (y) as integers starting with 0, i.e. 0, 1, 2, ..., [num_class - 1].\n",
      "  warnings.warn(label_encoder_deprecation_msg, UserWarning)\n",
      "/opt/conda/lib/python3.7/site-packages/xgboost/sklearn.py:1224: UserWarning: The use of label encoder in XGBClassifier is deprecated and will be removed in a future release. To remove this warning, do the following: 1) Pass option use_label_encoder=False when constructing XGBClassifier object; and 2) Encode your labels (y) as integers starting with 0, i.e. 0, 1, 2, ..., [num_class - 1].\n",
      "  warnings.warn(label_encoder_deprecation_msg, UserWarning)\n",
      "/opt/conda/lib/python3.7/site-packages/xgboost/sklearn.py:1224: UserWarning: The use of label encoder in XGBClassifier is deprecated and will be removed in a future release. To remove this warning, do the following: 1) Pass option use_label_encoder=False when constructing XGBClassifier object; and 2) Encode your labels (y) as integers starting with 0, i.e. 0, 1, 2, ..., [num_class - 1].\n",
      "  warnings.warn(label_encoder_deprecation_msg, UserWarning)\n",
      "/opt/conda/lib/python3.7/site-packages/xgboost/sklearn.py:1224: UserWarning: The use of label encoder in XGBClassifier is deprecated and will be removed in a future release. To remove this warning, do the following: 1) Pass option use_label_encoder=False when constructing XGBClassifier object; and 2) Encode your labels (y) as integers starting with 0, i.e. 0, 1, 2, ..., [num_class - 1].\n",
      "  warnings.warn(label_encoder_deprecation_msg, UserWarning)\n",
      "/opt/conda/lib/python3.7/site-packages/xgboost/sklearn.py:1224: UserWarning: The use of label encoder in XGBClassifier is deprecated and will be removed in a future release. To remove this warning, do the following: 1) Pass option use_label_encoder=False when constructing XGBClassifier object; and 2) Encode your labels (y) as integers starting with 0, i.e. 0, 1, 2, ..., [num_class - 1].\n",
      "  warnings.warn(label_encoder_deprecation_msg, UserWarning)\n",
      "/opt/conda/lib/python3.7/site-packages/xgboost/sklearn.py:1224: UserWarning: The use of label encoder in XGBClassifier is deprecated and will be removed in a future release. To remove this warning, do the following: 1) Pass option use_label_encoder=False when constructing XGBClassifier object; and 2) Encode your labels (y) as integers starting with 0, i.e. 0, 1, 2, ..., [num_class - 1].\n",
      "  warnings.warn(label_encoder_deprecation_msg, UserWarning)\n",
      "/opt/conda/lib/python3.7/site-packages/xgboost/sklearn.py:1224: UserWarning: The use of label encoder in XGBClassifier is deprecated and will be removed in a future release. To remove this warning, do the following: 1) Pass option use_label_encoder=False when constructing XGBClassifier object; and 2) Encode your labels (y) as integers starting with 0, i.e. 0, 1, 2, ..., [num_class - 1].\n",
      "  warnings.warn(label_encoder_deprecation_msg, UserWarning)\n",
      "/opt/conda/lib/python3.7/site-packages/xgboost/sklearn.py:1224: UserWarning: The use of label encoder in XGBClassifier is deprecated and will be removed in a future release. To remove this warning, do the following: 1) Pass option use_label_encoder=False when constructing XGBClassifier object; and 2) Encode your labels (y) as integers starting with 0, i.e. 0, 1, 2, ..., [num_class - 1].\n",
      "  warnings.warn(label_encoder_deprecation_msg, UserWarning)\n",
      "/opt/conda/lib/python3.7/site-packages/xgboost/sklearn.py:1224: UserWarning: The use of label encoder in XGBClassifier is deprecated and will be removed in a future release. To remove this warning, do the following: 1) Pass option use_label_encoder=False when constructing XGBClassifier object; and 2) Encode your labels (y) as integers starting with 0, i.e. 0, 1, 2, ..., [num_class - 1].\n",
      "  warnings.warn(label_encoder_deprecation_msg, UserWarning)\n",
      "/opt/conda/lib/python3.7/site-packages/xgboost/sklearn.py:1224: UserWarning: The use of label encoder in XGBClassifier is deprecated and will be removed in a future release. To remove this warning, do the following: 1) Pass option use_label_encoder=False when constructing XGBClassifier object; and 2) Encode your labels (y) as integers starting with 0, i.e. 0, 1, 2, ..., [num_class - 1].\n",
      "  warnings.warn(label_encoder_deprecation_msg, UserWarning)\n",
      "/opt/conda/lib/python3.7/site-packages/xgboost/sklearn.py:1224: UserWarning: The use of label encoder in XGBClassifier is deprecated and will be removed in a future release. To remove this warning, do the following: 1) Pass option use_label_encoder=False when constructing XGBClassifier object; and 2) Encode your labels (y) as integers starting with 0, i.e. 0, 1, 2, ..., [num_class - 1].\n",
      "  warnings.warn(label_encoder_deprecation_msg, UserWarning)\n",
      "/opt/conda/lib/python3.7/site-packages/xgboost/sklearn.py:1224: UserWarning: The use of label encoder in XGBClassifier is deprecated and will be removed in a future release. To remove this warning, do the following: 1) Pass option use_label_encoder=False when constructing XGBClassifier object; and 2) Encode your labels (y) as integers starting with 0, i.e. 0, 1, 2, ..., [num_class - 1].\n",
      "  warnings.warn(label_encoder_deprecation_msg, UserWarning)\n",
      "/opt/conda/lib/python3.7/site-packages/xgboost/sklearn.py:1224: UserWarning: The use of label encoder in XGBClassifier is deprecated and will be removed in a future release. To remove this warning, do the following: 1) Pass option use_label_encoder=False when constructing XGBClassifier object; and 2) Encode your labels (y) as integers starting with 0, i.e. 0, 1, 2, ..., [num_class - 1].\n",
      "  warnings.warn(label_encoder_deprecation_msg, UserWarning)\n",
      "/opt/conda/lib/python3.7/site-packages/xgboost/sklearn.py:1224: UserWarning: The use of label encoder in XGBClassifier is deprecated and will be removed in a future release. To remove this warning, do the following: 1) Pass option use_label_encoder=False when constructing XGBClassifier object; and 2) Encode your labels (y) as integers starting with 0, i.e. 0, 1, 2, ..., [num_class - 1].\n",
      "  warnings.warn(label_encoder_deprecation_msg, UserWarning)\n",
      "/opt/conda/lib/python3.7/site-packages/xgboost/sklearn.py:1224: UserWarning: The use of label encoder in XGBClassifier is deprecated and will be removed in a future release. To remove this warning, do the following: 1) Pass option use_label_encoder=False when constructing XGBClassifier object; and 2) Encode your labels (y) as integers starting with 0, i.e. 0, 1, 2, ..., [num_class - 1].\n",
      "  warnings.warn(label_encoder_deprecation_msg, UserWarning)\n",
      "/opt/conda/lib/python3.7/site-packages/xgboost/sklearn.py:1224: UserWarning: The use of label encoder in XGBClassifier is deprecated and will be removed in a future release. To remove this warning, do the following: 1) Pass option use_label_encoder=False when constructing XGBClassifier object; and 2) Encode your labels (y) as integers starting with 0, i.e. 0, 1, 2, ..., [num_class - 1].\n",
      "  warnings.warn(label_encoder_deprecation_msg, UserWarning)\n",
      "/opt/conda/lib/python3.7/site-packages/xgboost/sklearn.py:1224: UserWarning: The use of label encoder in XGBClassifier is deprecated and will be removed in a future release. To remove this warning, do the following: 1) Pass option use_label_encoder=False when constructing XGBClassifier object; and 2) Encode your labels (y) as integers starting with 0, i.e. 0, 1, 2, ..., [num_class - 1].\n",
      "  warnings.warn(label_encoder_deprecation_msg, UserWarning)\n",
      "/opt/conda/lib/python3.7/site-packages/xgboost/sklearn.py:1224: UserWarning: The use of label encoder in XGBClassifier is deprecated and will be removed in a future release. To remove this warning, do the following: 1) Pass option use_label_encoder=False when constructing XGBClassifier object; and 2) Encode your labels (y) as integers starting with 0, i.e. 0, 1, 2, ..., [num_class - 1].\n",
      "  warnings.warn(label_encoder_deprecation_msg, UserWarning)\n",
      "/opt/conda/lib/python3.7/site-packages/xgboost/sklearn.py:1224: UserWarning: The use of label encoder in XGBClassifier is deprecated and will be removed in a future release. To remove this warning, do the following: 1) Pass option use_label_encoder=False when constructing XGBClassifier object; and 2) Encode your labels (y) as integers starting with 0, i.e. 0, 1, 2, ..., [num_class - 1].\n",
      "  warnings.warn(label_encoder_deprecation_msg, UserWarning)\n",
      "/opt/conda/lib/python3.7/site-packages/xgboost/sklearn.py:1224: UserWarning: The use of label encoder in XGBClassifier is deprecated and will be removed in a future release. To remove this warning, do the following: 1) Pass option use_label_encoder=False when constructing XGBClassifier object; and 2) Encode your labels (y) as integers starting with 0, i.e. 0, 1, 2, ..., [num_class - 1].\n",
      "  warnings.warn(label_encoder_deprecation_msg, UserWarning)\n",
      "/opt/conda/lib/python3.7/site-packages/xgboost/sklearn.py:1224: UserWarning: The use of label encoder in XGBClassifier is deprecated and will be removed in a future release. To remove this warning, do the following: 1) Pass option use_label_encoder=False when constructing XGBClassifier object; and 2) Encode your labels (y) as integers starting with 0, i.e. 0, 1, 2, ..., [num_class - 1].\n",
      "  warnings.warn(label_encoder_deprecation_msg, UserWarning)\n",
      "/opt/conda/lib/python3.7/site-packages/xgboost/sklearn.py:1224: UserWarning: The use of label encoder in XGBClassifier is deprecated and will be removed in a future release. To remove this warning, do the following: 1) Pass option use_label_encoder=False when constructing XGBClassifier object; and 2) Encode your labels (y) as integers starting with 0, i.e. 0, 1, 2, ..., [num_class - 1].\n",
      "  warnings.warn(label_encoder_deprecation_msg, UserWarning)\n",
      "/opt/conda/lib/python3.7/site-packages/xgboost/sklearn.py:1224: UserWarning: The use of label encoder in XGBClassifier is deprecated and will be removed in a future release. To remove this warning, do the following: 1) Pass option use_label_encoder=False when constructing XGBClassifier object; and 2) Encode your labels (y) as integers starting with 0, i.e. 0, 1, 2, ..., [num_class - 1].\n",
      "  warnings.warn(label_encoder_deprecation_msg, UserWarning)\n",
      "/opt/conda/lib/python3.7/site-packages/xgboost/sklearn.py:1224: UserWarning: The use of label encoder in XGBClassifier is deprecated and will be removed in a future release. To remove this warning, do the following: 1) Pass option use_label_encoder=False when constructing XGBClassifier object; and 2) Encode your labels (y) as integers starting with 0, i.e. 0, 1, 2, ..., [num_class - 1].\n",
      "  warnings.warn(label_encoder_deprecation_msg, UserWarning)\n",
      "/opt/conda/lib/python3.7/site-packages/xgboost/sklearn.py:1224: UserWarning: The use of label encoder in XGBClassifier is deprecated and will be removed in a future release. To remove this warning, do the following: 1) Pass option use_label_encoder=False when constructing XGBClassifier object; and 2) Encode your labels (y) as integers starting with 0, i.e. 0, 1, 2, ..., [num_class - 1].\n",
      "  warnings.warn(label_encoder_deprecation_msg, UserWarning)\n",
      "/opt/conda/lib/python3.7/site-packages/xgboost/sklearn.py:1224: UserWarning: The use of label encoder in XGBClassifier is deprecated and will be removed in a future release. To remove this warning, do the following: 1) Pass option use_label_encoder=False when constructing XGBClassifier object; and 2) Encode your labels (y) as integers starting with 0, i.e. 0, 1, 2, ..., [num_class - 1].\n",
      "  warnings.warn(label_encoder_deprecation_msg, UserWarning)\n",
      "/opt/conda/lib/python3.7/site-packages/xgboost/sklearn.py:1224: UserWarning: The use of label encoder in XGBClassifier is deprecated and will be removed in a future release. To remove this warning, do the following: 1) Pass option use_label_encoder=False when constructing XGBClassifier object; and 2) Encode your labels (y) as integers starting with 0, i.e. 0, 1, 2, ..., [num_class - 1].\n",
      "  warnings.warn(label_encoder_deprecation_msg, UserWarning)\n",
      "/opt/conda/lib/python3.7/site-packages/xgboost/sklearn.py:1224: UserWarning: The use of label encoder in XGBClassifier is deprecated and will be removed in a future release. To remove this warning, do the following: 1) Pass option use_label_encoder=False when constructing XGBClassifier object; and 2) Encode your labels (y) as integers starting with 0, i.e. 0, 1, 2, ..., [num_class - 1].\n",
      "  warnings.warn(label_encoder_deprecation_msg, UserWarning)\n",
      "/opt/conda/lib/python3.7/site-packages/xgboost/sklearn.py:1224: UserWarning: The use of label encoder in XGBClassifier is deprecated and will be removed in a future release. To remove this warning, do the following: 1) Pass option use_label_encoder=False when constructing XGBClassifier object; and 2) Encode your labels (y) as integers starting with 0, i.e. 0, 1, 2, ..., [num_class - 1].\n",
      "  warnings.warn(label_encoder_deprecation_msg, UserWarning)\n",
      "/opt/conda/lib/python3.7/site-packages/xgboost/sklearn.py:1224: UserWarning: The use of label encoder in XGBClassifier is deprecated and will be removed in a future release. To remove this warning, do the following: 1) Pass option use_label_encoder=False when constructing XGBClassifier object; and 2) Encode your labels (y) as integers starting with 0, i.e. 0, 1, 2, ..., [num_class - 1].\n",
      "  warnings.warn(label_encoder_deprecation_msg, UserWarning)\n",
      "/opt/conda/lib/python3.7/site-packages/xgboost/sklearn.py:1224: UserWarning: The use of label encoder in XGBClassifier is deprecated and will be removed in a future release. To remove this warning, do the following: 1) Pass option use_label_encoder=False when constructing XGBClassifier object; and 2) Encode your labels (y) as integers starting with 0, i.e. 0, 1, 2, ..., [num_class - 1].\n",
      "  warnings.warn(label_encoder_deprecation_msg, UserWarning)\n",
      "/opt/conda/lib/python3.7/site-packages/xgboost/sklearn.py:1224: UserWarning: The use of label encoder in XGBClassifier is deprecated and will be removed in a future release. To remove this warning, do the following: 1) Pass option use_label_encoder=False when constructing XGBClassifier object; and 2) Encode your labels (y) as integers starting with 0, i.e. 0, 1, 2, ..., [num_class - 1].\n",
      "  warnings.warn(label_encoder_deprecation_msg, UserWarning)\n",
      "/opt/conda/lib/python3.7/site-packages/xgboost/sklearn.py:1224: UserWarning: The use of label encoder in XGBClassifier is deprecated and will be removed in a future release. To remove this warning, do the following: 1) Pass option use_label_encoder=False when constructing XGBClassifier object; and 2) Encode your labels (y) as integers starting with 0, i.e. 0, 1, 2, ..., [num_class - 1].\n",
      "  warnings.warn(label_encoder_deprecation_msg, UserWarning)\n",
      "/opt/conda/lib/python3.7/site-packages/xgboost/sklearn.py:1224: UserWarning: The use of label encoder in XGBClassifier is deprecated and will be removed in a future release. To remove this warning, do the following: 1) Pass option use_label_encoder=False when constructing XGBClassifier object; and 2) Encode your labels (y) as integers starting with 0, i.e. 0, 1, 2, ..., [num_class - 1].\n",
      "  warnings.warn(label_encoder_deprecation_msg, UserWarning)\n",
      "/opt/conda/lib/python3.7/site-packages/xgboost/sklearn.py:1224: UserWarning: The use of label encoder in XGBClassifier is deprecated and will be removed in a future release. To remove this warning, do the following: 1) Pass option use_label_encoder=False when constructing XGBClassifier object; and 2) Encode your labels (y) as integers starting with 0, i.e. 0, 1, 2, ..., [num_class - 1].\n",
      "  warnings.warn(label_encoder_deprecation_msg, UserWarning)\n",
      "/opt/conda/lib/python3.7/site-packages/xgboost/sklearn.py:1224: UserWarning: The use of label encoder in XGBClassifier is deprecated and will be removed in a future release. To remove this warning, do the following: 1) Pass option use_label_encoder=False when constructing XGBClassifier object; and 2) Encode your labels (y) as integers starting with 0, i.e. 0, 1, 2, ..., [num_class - 1].\n",
      "  warnings.warn(label_encoder_deprecation_msg, UserWarning)\n",
      "/opt/conda/lib/python3.7/site-packages/xgboost/sklearn.py:1224: UserWarning: The use of label encoder in XGBClassifier is deprecated and will be removed in a future release. To remove this warning, do the following: 1) Pass option use_label_encoder=False when constructing XGBClassifier object; and 2) Encode your labels (y) as integers starting with 0, i.e. 0, 1, 2, ..., [num_class - 1].\n",
      "  warnings.warn(label_encoder_deprecation_msg, UserWarning)\n",
      "/opt/conda/lib/python3.7/site-packages/xgboost/sklearn.py:1224: UserWarning: The use of label encoder in XGBClassifier is deprecated and will be removed in a future release. To remove this warning, do the following: 1) Pass option use_label_encoder=False when constructing XGBClassifier object; and 2) Encode your labels (y) as integers starting with 0, i.e. 0, 1, 2, ..., [num_class - 1].\n",
      "  warnings.warn(label_encoder_deprecation_msg, UserWarning)\n",
      "/opt/conda/lib/python3.7/site-packages/xgboost/sklearn.py:1224: UserWarning: The use of label encoder in XGBClassifier is deprecated and will be removed in a future release. To remove this warning, do the following: 1) Pass option use_label_encoder=False when constructing XGBClassifier object; and 2) Encode your labels (y) as integers starting with 0, i.e. 0, 1, 2, ..., [num_class - 1].\n",
      "  warnings.warn(label_encoder_deprecation_msg, UserWarning)\n",
      "/opt/conda/lib/python3.7/site-packages/xgboost/sklearn.py:1224: UserWarning: The use of label encoder in XGBClassifier is deprecated and will be removed in a future release. To remove this warning, do the following: 1) Pass option use_label_encoder=False when constructing XGBClassifier object; and 2) Encode your labels (y) as integers starting with 0, i.e. 0, 1, 2, ..., [num_class - 1].\n",
      "  warnings.warn(label_encoder_deprecation_msg, UserWarning)\n",
      "/opt/conda/lib/python3.7/site-packages/xgboost/sklearn.py:1224: UserWarning: The use of label encoder in XGBClassifier is deprecated and will be removed in a future release. To remove this warning, do the following: 1) Pass option use_label_encoder=False when constructing XGBClassifier object; and 2) Encode your labels (y) as integers starting with 0, i.e. 0, 1, 2, ..., [num_class - 1].\n",
      "  warnings.warn(label_encoder_deprecation_msg, UserWarning)\n",
      "/opt/conda/lib/python3.7/site-packages/xgboost/sklearn.py:1224: UserWarning: The use of label encoder in XGBClassifier is deprecated and will be removed in a future release. To remove this warning, do the following: 1) Pass option use_label_encoder=False when constructing XGBClassifier object; and 2) Encode your labels (y) as integers starting with 0, i.e. 0, 1, 2, ..., [num_class - 1].\n",
      "  warnings.warn(label_encoder_deprecation_msg, UserWarning)\n",
      "/opt/conda/lib/python3.7/site-packages/xgboost/sklearn.py:1224: UserWarning: The use of label encoder in XGBClassifier is deprecated and will be removed in a future release. To remove this warning, do the following: 1) Pass option use_label_encoder=False when constructing XGBClassifier object; and 2) Encode your labels (y) as integers starting with 0, i.e. 0, 1, 2, ..., [num_class - 1].\n",
      "  warnings.warn(label_encoder_deprecation_msg, UserWarning)\n",
      "/opt/conda/lib/python3.7/site-packages/xgboost/sklearn.py:1224: UserWarning: The use of label encoder in XGBClassifier is deprecated and will be removed in a future release. To remove this warning, do the following: 1) Pass option use_label_encoder=False when constructing XGBClassifier object; and 2) Encode your labels (y) as integers starting with 0, i.e. 0, 1, 2, ..., [num_class - 1].\n",
      "  warnings.warn(label_encoder_deprecation_msg, UserWarning)\n",
      "/opt/conda/lib/python3.7/site-packages/xgboost/sklearn.py:1224: UserWarning: The use of label encoder in XGBClassifier is deprecated and will be removed in a future release. To remove this warning, do the following: 1) Pass option use_label_encoder=False when constructing XGBClassifier object; and 2) Encode your labels (y) as integers starting with 0, i.e. 0, 1, 2, ..., [num_class - 1].\n",
      "  warnings.warn(label_encoder_deprecation_msg, UserWarning)\n",
      "/opt/conda/lib/python3.7/site-packages/xgboost/sklearn.py:1224: UserWarning: The use of label encoder in XGBClassifier is deprecated and will be removed in a future release. To remove this warning, do the following: 1) Pass option use_label_encoder=False when constructing XGBClassifier object; and 2) Encode your labels (y) as integers starting with 0, i.e. 0, 1, 2, ..., [num_class - 1].\n",
      "  warnings.warn(label_encoder_deprecation_msg, UserWarning)\n",
      "/opt/conda/lib/python3.7/site-packages/xgboost/sklearn.py:1224: UserWarning: The use of label encoder in XGBClassifier is deprecated and will be removed in a future release. To remove this warning, do the following: 1) Pass option use_label_encoder=False when constructing XGBClassifier object; and 2) Encode your labels (y) as integers starting with 0, i.e. 0, 1, 2, ..., [num_class - 1].\n",
      "  warnings.warn(label_encoder_deprecation_msg, UserWarning)\n",
      "/opt/conda/lib/python3.7/site-packages/xgboost/sklearn.py:1224: UserWarning: The use of label encoder in XGBClassifier is deprecated and will be removed in a future release. To remove this warning, do the following: 1) Pass option use_label_encoder=False when constructing XGBClassifier object; and 2) Encode your labels (y) as integers starting with 0, i.e. 0, 1, 2, ..., [num_class - 1].\n",
      "  warnings.warn(label_encoder_deprecation_msg, UserWarning)\n",
      "/opt/conda/lib/python3.7/site-packages/xgboost/sklearn.py:1224: UserWarning: The use of label encoder in XGBClassifier is deprecated and will be removed in a future release. To remove this warning, do the following: 1) Pass option use_label_encoder=False when constructing XGBClassifier object; and 2) Encode your labels (y) as integers starting with 0, i.e. 0, 1, 2, ..., [num_class - 1].\n",
      "  warnings.warn(label_encoder_deprecation_msg, UserWarning)\n",
      "/opt/conda/lib/python3.7/site-packages/xgboost/sklearn.py:1224: UserWarning: The use of label encoder in XGBClassifier is deprecated and will be removed in a future release. To remove this warning, do the following: 1) Pass option use_label_encoder=False when constructing XGBClassifier object; and 2) Encode your labels (y) as integers starting with 0, i.e. 0, 1, 2, ..., [num_class - 1].\n",
      "  warnings.warn(label_encoder_deprecation_msg, UserWarning)\n",
      "/opt/conda/lib/python3.7/site-packages/xgboost/sklearn.py:1224: UserWarning: The use of label encoder in XGBClassifier is deprecated and will be removed in a future release. To remove this warning, do the following: 1) Pass option use_label_encoder=False when constructing XGBClassifier object; and 2) Encode your labels (y) as integers starting with 0, i.e. 0, 1, 2, ..., [num_class - 1].\n",
      "  warnings.warn(label_encoder_deprecation_msg, UserWarning)\n",
      "/opt/conda/lib/python3.7/site-packages/xgboost/sklearn.py:1224: UserWarning: The use of label encoder in XGBClassifier is deprecated and will be removed in a future release. To remove this warning, do the following: 1) Pass option use_label_encoder=False when constructing XGBClassifier object; and 2) Encode your labels (y) as integers starting with 0, i.e. 0, 1, 2, ..., [num_class - 1].\n",
      "  warnings.warn(label_encoder_deprecation_msg, UserWarning)\n",
      "/opt/conda/lib/python3.7/site-packages/xgboost/sklearn.py:1224: UserWarning: The use of label encoder in XGBClassifier is deprecated and will be removed in a future release. To remove this warning, do the following: 1) Pass option use_label_encoder=False when constructing XGBClassifier object; and 2) Encode your labels (y) as integers starting with 0, i.e. 0, 1, 2, ..., [num_class - 1].\n",
      "  warnings.warn(label_encoder_deprecation_msg, UserWarning)\n",
      "/opt/conda/lib/python3.7/site-packages/xgboost/sklearn.py:1224: UserWarning: The use of label encoder in XGBClassifier is deprecated and will be removed in a future release. To remove this warning, do the following: 1) Pass option use_label_encoder=False when constructing XGBClassifier object; and 2) Encode your labels (y) as integers starting with 0, i.e. 0, 1, 2, ..., [num_class - 1].\n",
      "  warnings.warn(label_encoder_deprecation_msg, UserWarning)\n",
      "/opt/conda/lib/python3.7/site-packages/xgboost/sklearn.py:1224: UserWarning: The use of label encoder in XGBClassifier is deprecated and will be removed in a future release. To remove this warning, do the following: 1) Pass option use_label_encoder=False when constructing XGBClassifier object; and 2) Encode your labels (y) as integers starting with 0, i.e. 0, 1, 2, ..., [num_class - 1].\n",
      "  warnings.warn(label_encoder_deprecation_msg, UserWarning)\n",
      "/opt/conda/lib/python3.7/site-packages/xgboost/sklearn.py:1224: UserWarning: The use of label encoder in XGBClassifier is deprecated and will be removed in a future release. To remove this warning, do the following: 1) Pass option use_label_encoder=False when constructing XGBClassifier object; and 2) Encode your labels (y) as integers starting with 0, i.e. 0, 1, 2, ..., [num_class - 1].\n",
      "  warnings.warn(label_encoder_deprecation_msg, UserWarning)\n",
      "/opt/conda/lib/python3.7/site-packages/xgboost/sklearn.py:1224: UserWarning: The use of label encoder in XGBClassifier is deprecated and will be removed in a future release. To remove this warning, do the following: 1) Pass option use_label_encoder=False when constructing XGBClassifier object; and 2) Encode your labels (y) as integers starting with 0, i.e. 0, 1, 2, ..., [num_class - 1].\n",
      "  warnings.warn(label_encoder_deprecation_msg, UserWarning)\n",
      "/opt/conda/lib/python3.7/site-packages/xgboost/sklearn.py:1224: UserWarning: The use of label encoder in XGBClassifier is deprecated and will be removed in a future release. To remove this warning, do the following: 1) Pass option use_label_encoder=False when constructing XGBClassifier object; and 2) Encode your labels (y) as integers starting with 0, i.e. 0, 1, 2, ..., [num_class - 1].\n",
      "  warnings.warn(label_encoder_deprecation_msg, UserWarning)\n",
      "/opt/conda/lib/python3.7/site-packages/xgboost/sklearn.py:1224: UserWarning: The use of label encoder in XGBClassifier is deprecated and will be removed in a future release. To remove this warning, do the following: 1) Pass option use_label_encoder=False when constructing XGBClassifier object; and 2) Encode your labels (y) as integers starting with 0, i.e. 0, 1, 2, ..., [num_class - 1].\n",
      "  warnings.warn(label_encoder_deprecation_msg, UserWarning)\n",
      "/opt/conda/lib/python3.7/site-packages/xgboost/sklearn.py:1224: UserWarning: The use of label encoder in XGBClassifier is deprecated and will be removed in a future release. To remove this warning, do the following: 1) Pass option use_label_encoder=False when constructing XGBClassifier object; and 2) Encode your labels (y) as integers starting with 0, i.e. 0, 1, 2, ..., [num_class - 1].\n",
      "  warnings.warn(label_encoder_deprecation_msg, UserWarning)\n",
      "/opt/conda/lib/python3.7/site-packages/xgboost/sklearn.py:1224: UserWarning: The use of label encoder in XGBClassifier is deprecated and will be removed in a future release. To remove this warning, do the following: 1) Pass option use_label_encoder=False when constructing XGBClassifier object; and 2) Encode your labels (y) as integers starting with 0, i.e. 0, 1, 2, ..., [num_class - 1].\n",
      "  warnings.warn(label_encoder_deprecation_msg, UserWarning)\n",
      "/opt/conda/lib/python3.7/site-packages/xgboost/sklearn.py:1224: UserWarning: The use of label encoder in XGBClassifier is deprecated and will be removed in a future release. To remove this warning, do the following: 1) Pass option use_label_encoder=False when constructing XGBClassifier object; and 2) Encode your labels (y) as integers starting with 0, i.e. 0, 1, 2, ..., [num_class - 1].\n",
      "  warnings.warn(label_encoder_deprecation_msg, UserWarning)\n",
      "/opt/conda/lib/python3.7/site-packages/xgboost/sklearn.py:1224: UserWarning: The use of label encoder in XGBClassifier is deprecated and will be removed in a future release. To remove this warning, do the following: 1) Pass option use_label_encoder=False when constructing XGBClassifier object; and 2) Encode your labels (y) as integers starting with 0, i.e. 0, 1, 2, ..., [num_class - 1].\n",
      "  warnings.warn(label_encoder_deprecation_msg, UserWarning)\n",
      "/opt/conda/lib/python3.7/site-packages/xgboost/sklearn.py:1224: UserWarning: The use of label encoder in XGBClassifier is deprecated and will be removed in a future release. To remove this warning, do the following: 1) Pass option use_label_encoder=False when constructing XGBClassifier object; and 2) Encode your labels (y) as integers starting with 0, i.e. 0, 1, 2, ..., [num_class - 1].\n",
      "  warnings.warn(label_encoder_deprecation_msg, UserWarning)\n",
      "/opt/conda/lib/python3.7/site-packages/xgboost/sklearn.py:1224: UserWarning: The use of label encoder in XGBClassifier is deprecated and will be removed in a future release. To remove this warning, do the following: 1) Pass option use_label_encoder=False when constructing XGBClassifier object; and 2) Encode your labels (y) as integers starting with 0, i.e. 0, 1, 2, ..., [num_class - 1].\n",
      "  warnings.warn(label_encoder_deprecation_msg, UserWarning)\n",
      "/opt/conda/lib/python3.7/site-packages/xgboost/sklearn.py:1224: UserWarning: The use of label encoder in XGBClassifier is deprecated and will be removed in a future release. To remove this warning, do the following: 1) Pass option use_label_encoder=False when constructing XGBClassifier object; and 2) Encode your labels (y) as integers starting with 0, i.e. 0, 1, 2, ..., [num_class - 1].\n",
      "  warnings.warn(label_encoder_deprecation_msg, UserWarning)\n",
      "/opt/conda/lib/python3.7/site-packages/xgboost/sklearn.py:1224: UserWarning: The use of label encoder in XGBClassifier is deprecated and will be removed in a future release. To remove this warning, do the following: 1) Pass option use_label_encoder=False when constructing XGBClassifier object; and 2) Encode your labels (y) as integers starting with 0, i.e. 0, 1, 2, ..., [num_class - 1].\n",
      "  warnings.warn(label_encoder_deprecation_msg, UserWarning)\n",
      "/opt/conda/lib/python3.7/site-packages/xgboost/sklearn.py:1224: UserWarning: The use of label encoder in XGBClassifier is deprecated and will be removed in a future release. To remove this warning, do the following: 1) Pass option use_label_encoder=False when constructing XGBClassifier object; and 2) Encode your labels (y) as integers starting with 0, i.e. 0, 1, 2, ..., [num_class - 1].\n",
      "  warnings.warn(label_encoder_deprecation_msg, UserWarning)\n",
      "/opt/conda/lib/python3.7/site-packages/xgboost/sklearn.py:1224: UserWarning: The use of label encoder in XGBClassifier is deprecated and will be removed in a future release. To remove this warning, do the following: 1) Pass option use_label_encoder=False when constructing XGBClassifier object; and 2) Encode your labels (y) as integers starting with 0, i.e. 0, 1, 2, ..., [num_class - 1].\n",
      "  warnings.warn(label_encoder_deprecation_msg, UserWarning)\n",
      "/opt/conda/lib/python3.7/site-packages/xgboost/sklearn.py:1224: UserWarning: The use of label encoder in XGBClassifier is deprecated and will be removed in a future release. To remove this warning, do the following: 1) Pass option use_label_encoder=False when constructing XGBClassifier object; and 2) Encode your labels (y) as integers starting with 0, i.e. 0, 1, 2, ..., [num_class - 1].\n",
      "  warnings.warn(label_encoder_deprecation_msg, UserWarning)\n",
      "/opt/conda/lib/python3.7/site-packages/xgboost/sklearn.py:1224: UserWarning: The use of label encoder in XGBClassifier is deprecated and will be removed in a future release. To remove this warning, do the following: 1) Pass option use_label_encoder=False when constructing XGBClassifier object; and 2) Encode your labels (y) as integers starting with 0, i.e. 0, 1, 2, ..., [num_class - 1].\n",
      "  warnings.warn(label_encoder_deprecation_msg, UserWarning)\n",
      "/opt/conda/lib/python3.7/site-packages/xgboost/sklearn.py:1224: UserWarning: The use of label encoder in XGBClassifier is deprecated and will be removed in a future release. To remove this warning, do the following: 1) Pass option use_label_encoder=False when constructing XGBClassifier object; and 2) Encode your labels (y) as integers starting with 0, i.e. 0, 1, 2, ..., [num_class - 1].\n",
      "  warnings.warn(label_encoder_deprecation_msg, UserWarning)\n",
      "/opt/conda/lib/python3.7/site-packages/xgboost/sklearn.py:1224: UserWarning: The use of label encoder in XGBClassifier is deprecated and will be removed in a future release. To remove this warning, do the following: 1) Pass option use_label_encoder=False when constructing XGBClassifier object; and 2) Encode your labels (y) as integers starting with 0, i.e. 0, 1, 2, ..., [num_class - 1].\n",
      "  warnings.warn(label_encoder_deprecation_msg, UserWarning)\n",
      "/opt/conda/lib/python3.7/site-packages/xgboost/sklearn.py:1224: UserWarning: The use of label encoder in XGBClassifier is deprecated and will be removed in a future release. To remove this warning, do the following: 1) Pass option use_label_encoder=False when constructing XGBClassifier object; and 2) Encode your labels (y) as integers starting with 0, i.e. 0, 1, 2, ..., [num_class - 1].\n",
      "  warnings.warn(label_encoder_deprecation_msg, UserWarning)\n",
      "/opt/conda/lib/python3.7/site-packages/xgboost/sklearn.py:1224: UserWarning: The use of label encoder in XGBClassifier is deprecated and will be removed in a future release. To remove this warning, do the following: 1) Pass option use_label_encoder=False when constructing XGBClassifier object; and 2) Encode your labels (y) as integers starting with 0, i.e. 0, 1, 2, ..., [num_class - 1].\n",
      "  warnings.warn(label_encoder_deprecation_msg, UserWarning)\n",
      "/opt/conda/lib/python3.7/site-packages/xgboost/sklearn.py:1224: UserWarning: The use of label encoder in XGBClassifier is deprecated and will be removed in a future release. To remove this warning, do the following: 1) Pass option use_label_encoder=False when constructing XGBClassifier object; and 2) Encode your labels (y) as integers starting with 0, i.e. 0, 1, 2, ..., [num_class - 1].\n",
      "  warnings.warn(label_encoder_deprecation_msg, UserWarning)\n",
      "/opt/conda/lib/python3.7/site-packages/xgboost/sklearn.py:1224: UserWarning: The use of label encoder in XGBClassifier is deprecated and will be removed in a future release. To remove this warning, do the following: 1) Pass option use_label_encoder=False when constructing XGBClassifier object; and 2) Encode your labels (y) as integers starting with 0, i.e. 0, 1, 2, ..., [num_class - 1].\n",
      "  warnings.warn(label_encoder_deprecation_msg, UserWarning)\n",
      "/opt/conda/lib/python3.7/site-packages/xgboost/sklearn.py:1224: UserWarning: The use of label encoder in XGBClassifier is deprecated and will be removed in a future release. To remove this warning, do the following: 1) Pass option use_label_encoder=False when constructing XGBClassifier object; and 2) Encode your labels (y) as integers starting with 0, i.e. 0, 1, 2, ..., [num_class - 1].\n",
      "  warnings.warn(label_encoder_deprecation_msg, UserWarning)\n",
      "/opt/conda/lib/python3.7/site-packages/xgboost/sklearn.py:1224: UserWarning: The use of label encoder in XGBClassifier is deprecated and will be removed in a future release. To remove this warning, do the following: 1) Pass option use_label_encoder=False when constructing XGBClassifier object; and 2) Encode your labels (y) as integers starting with 0, i.e. 0, 1, 2, ..., [num_class - 1].\n",
      "  warnings.warn(label_encoder_deprecation_msg, UserWarning)\n",
      "/opt/conda/lib/python3.7/site-packages/xgboost/sklearn.py:1224: UserWarning: The use of label encoder in XGBClassifier is deprecated and will be removed in a future release. To remove this warning, do the following: 1) Pass option use_label_encoder=False when constructing XGBClassifier object; and 2) Encode your labels (y) as integers starting with 0, i.e. 0, 1, 2, ..., [num_class - 1].\n",
      "  warnings.warn(label_encoder_deprecation_msg, UserWarning)\n",
      "/opt/conda/lib/python3.7/site-packages/xgboost/sklearn.py:1224: UserWarning: The use of label encoder in XGBClassifier is deprecated and will be removed in a future release. To remove this warning, do the following: 1) Pass option use_label_encoder=False when constructing XGBClassifier object; and 2) Encode your labels (y) as integers starting with 0, i.e. 0, 1, 2, ..., [num_class - 1].\n",
      "  warnings.warn(label_encoder_deprecation_msg, UserWarning)\n",
      "/opt/conda/lib/python3.7/site-packages/xgboost/sklearn.py:1224: UserWarning: The use of label encoder in XGBClassifier is deprecated and will be removed in a future release. To remove this warning, do the following: 1) Pass option use_label_encoder=False when constructing XGBClassifier object; and 2) Encode your labels (y) as integers starting with 0, i.e. 0, 1, 2, ..., [num_class - 1].\n",
      "  warnings.warn(label_encoder_deprecation_msg, UserWarning)\n",
      "/opt/conda/lib/python3.7/site-packages/xgboost/sklearn.py:1224: UserWarning: The use of label encoder in XGBClassifier is deprecated and will be removed in a future release. To remove this warning, do the following: 1) Pass option use_label_encoder=False when constructing XGBClassifier object; and 2) Encode your labels (y) as integers starting with 0, i.e. 0, 1, 2, ..., [num_class - 1].\n",
      "  warnings.warn(label_encoder_deprecation_msg, UserWarning)\n",
      "/opt/conda/lib/python3.7/site-packages/xgboost/sklearn.py:1224: UserWarning: The use of label encoder in XGBClassifier is deprecated and will be removed in a future release. To remove this warning, do the following: 1) Pass option use_label_encoder=False when constructing XGBClassifier object; and 2) Encode your labels (y) as integers starting with 0, i.e. 0, 1, 2, ..., [num_class - 1].\n",
      "  warnings.warn(label_encoder_deprecation_msg, UserWarning)\n",
      "/opt/conda/lib/python3.7/site-packages/xgboost/sklearn.py:1224: UserWarning: The use of label encoder in XGBClassifier is deprecated and will be removed in a future release. To remove this warning, do the following: 1) Pass option use_label_encoder=False when constructing XGBClassifier object; and 2) Encode your labels (y) as integers starting with 0, i.e. 0, 1, 2, ..., [num_class - 1].\n",
      "  warnings.warn(label_encoder_deprecation_msg, UserWarning)\n",
      "/opt/conda/lib/python3.7/site-packages/xgboost/sklearn.py:1224: UserWarning: The use of label encoder in XGBClassifier is deprecated and will be removed in a future release. To remove this warning, do the following: 1) Pass option use_label_encoder=False when constructing XGBClassifier object; and 2) Encode your labels (y) as integers starting with 0, i.e. 0, 1, 2, ..., [num_class - 1].\n",
      "  warnings.warn(label_encoder_deprecation_msg, UserWarning)\n",
      "/opt/conda/lib/python3.7/site-packages/xgboost/sklearn.py:1224: UserWarning: The use of label encoder in XGBClassifier is deprecated and will be removed in a future release. To remove this warning, do the following: 1) Pass option use_label_encoder=False when constructing XGBClassifier object; and 2) Encode your labels (y) as integers starting with 0, i.e. 0, 1, 2, ..., [num_class - 1].\n",
      "  warnings.warn(label_encoder_deprecation_msg, UserWarning)\n",
      "/opt/conda/lib/python3.7/site-packages/xgboost/sklearn.py:1224: UserWarning: The use of label encoder in XGBClassifier is deprecated and will be removed in a future release. To remove this warning, do the following: 1) Pass option use_label_encoder=False when constructing XGBClassifier object; and 2) Encode your labels (y) as integers starting with 0, i.e. 0, 1, 2, ..., [num_class - 1].\n",
      "  warnings.warn(label_encoder_deprecation_msg, UserWarning)\n",
      "/opt/conda/lib/python3.7/site-packages/xgboost/sklearn.py:1224: UserWarning: The use of label encoder in XGBClassifier is deprecated and will be removed in a future release. To remove this warning, do the following: 1) Pass option use_label_encoder=False when constructing XGBClassifier object; and 2) Encode your labels (y) as integers starting with 0, i.e. 0, 1, 2, ..., [num_class - 1].\n",
      "  warnings.warn(label_encoder_deprecation_msg, UserWarning)\n",
      "/opt/conda/lib/python3.7/site-packages/xgboost/sklearn.py:1224: UserWarning: The use of label encoder in XGBClassifier is deprecated and will be removed in a future release. To remove this warning, do the following: 1) Pass option use_label_encoder=False when constructing XGBClassifier object; and 2) Encode your labels (y) as integers starting with 0, i.e. 0, 1, 2, ..., [num_class - 1].\n",
      "  warnings.warn(label_encoder_deprecation_msg, UserWarning)\n",
      "/opt/conda/lib/python3.7/site-packages/xgboost/sklearn.py:1224: UserWarning: The use of label encoder in XGBClassifier is deprecated and will be removed in a future release. To remove this warning, do the following: 1) Pass option use_label_encoder=False when constructing XGBClassifier object; and 2) Encode your labels (y) as integers starting with 0, i.e. 0, 1, 2, ..., [num_class - 1].\n",
      "  warnings.warn(label_encoder_deprecation_msg, UserWarning)\n",
      "/opt/conda/lib/python3.7/site-packages/xgboost/sklearn.py:1224: UserWarning: The use of label encoder in XGBClassifier is deprecated and will be removed in a future release. To remove this warning, do the following: 1) Pass option use_label_encoder=False when constructing XGBClassifier object; and 2) Encode your labels (y) as integers starting with 0, i.e. 0, 1, 2, ..., [num_class - 1].\n",
      "  warnings.warn(label_encoder_deprecation_msg, UserWarning)\n",
      "/opt/conda/lib/python3.7/site-packages/xgboost/sklearn.py:1224: UserWarning: The use of label encoder in XGBClassifier is deprecated and will be removed in a future release. To remove this warning, do the following: 1) Pass option use_label_encoder=False when constructing XGBClassifier object; and 2) Encode your labels (y) as integers starting with 0, i.e. 0, 1, 2, ..., [num_class - 1].\n",
      "  warnings.warn(label_encoder_deprecation_msg, UserWarning)\n",
      "/opt/conda/lib/python3.7/site-packages/xgboost/sklearn.py:1224: UserWarning: The use of label encoder in XGBClassifier is deprecated and will be removed in a future release. To remove this warning, do the following: 1) Pass option use_label_encoder=False when constructing XGBClassifier object; and 2) Encode your labels (y) as integers starting with 0, i.e. 0, 1, 2, ..., [num_class - 1].\n",
      "  warnings.warn(label_encoder_deprecation_msg, UserWarning)\n",
      "/opt/conda/lib/python3.7/site-packages/xgboost/sklearn.py:1224: UserWarning: The use of label encoder in XGBClassifier is deprecated and will be removed in a future release. To remove this warning, do the following: 1) Pass option use_label_encoder=False when constructing XGBClassifier object; and 2) Encode your labels (y) as integers starting with 0, i.e. 0, 1, 2, ..., [num_class - 1].\n",
      "  warnings.warn(label_encoder_deprecation_msg, UserWarning)\n",
      "/opt/conda/lib/python3.7/site-packages/xgboost/sklearn.py:1224: UserWarning: The use of label encoder in XGBClassifier is deprecated and will be removed in a future release. To remove this warning, do the following: 1) Pass option use_label_encoder=False when constructing XGBClassifier object; and 2) Encode your labels (y) as integers starting with 0, i.e. 0, 1, 2, ..., [num_class - 1].\n",
      "  warnings.warn(label_encoder_deprecation_msg, UserWarning)\n"
     ]
    },
    {
     "data": {
      "text/plain": [
       "{'colsample_bytree': 0.7,\n",
       " 'learning_rate': 0.01,\n",
       " 'max_depth': 2,\n",
       " 'n_estimators': 100,\n",
       " 'scale_pos_weight': 2.5}"
      ]
     },
     "execution_count": 55,
     "metadata": {},
     "output_type": "execute_result"
    }
   ],
   "source": [
    "param_grid = {\"n_estimators\": [100,200], 'max_depth': [2,3], \"learning_rate\": [0.05, 0.01],\n",
    "               \"colsample_bytree\": [0.7,1], \"scale_pos_weight\":[1.5,2.5]}\n",
    "xgb_model = XGBClassifier(random_state=101,verbosity = 0,)\n",
    "xgb_model_grid = GridSearchCV(xgb_model, param_grid, scoring=\"recall\", verbose=0, n_jobs=-1).fit(X_train, y_train)\n",
    "xgb_model_grid.best_params_\n"
   ]
  },
  {
   "cell_type": "code",
   "execution_count": 56,
   "id": "5a322fc8",
   "metadata": {
    "execution": {
     "iopub.execute_input": "2022-03-09T14:44:37.814358Z",
     "iopub.status.busy": "2022-03-09T14:44:37.813397Z",
     "iopub.status.idle": "2022-03-09T14:44:37.842439Z",
     "shell.execute_reply": "2022-03-09T14:44:37.841936Z"
    },
    "papermill": {
     "duration": 0.149329,
     "end_time": "2022-03-09T14:44:37.842584",
     "exception": false,
     "start_time": "2022-03-09T14:44:37.693255",
     "status": "completed"
    },
    "tags": []
   },
   "outputs": [
    {
     "name": "stdout",
     "output_type": "stream",
     "text": [
      "Test_Set\n",
      "[[62 33]\n",
      " [ 7 42]]\n",
      "              precision    recall  f1-score   support\n",
      "\n",
      "           0       0.90      0.65      0.76        95\n",
      "           1       0.56      0.86      0.68        49\n",
      "\n",
      "    accuracy                           0.72       144\n",
      "   macro avg       0.73      0.75      0.72       144\n",
      "weighted avg       0.78      0.72      0.73       144\n",
      "\n",
      "\n",
      "Train_Set\n",
      "[[250 128]\n",
      " [ 23 175]]\n",
      "              precision    recall  f1-score   support\n",
      "\n",
      "           0       0.92      0.66      0.77       378\n",
      "           1       0.58      0.88      0.70       198\n",
      "\n",
      "    accuracy                           0.74       576\n",
      "   macro avg       0.75      0.77      0.73       576\n",
      "weighted avg       0.80      0.74      0.74       576\n",
      "\n"
     ]
    }
   ],
   "source": [
    "eval_metric(xgb_model_grid, X_train, y_train, X_test, y_test)\n"
   ]
  },
  {
   "cell_type": "markdown",
   "id": "5e5cadf0",
   "metadata": {
    "papermill": {
     "duration": 0.117884,
     "end_time": "2022-03-09T14:44:38.080180",
     "exception": false,
     "start_time": "2022-03-09T14:44:37.962296",
     "status": "completed"
    },
    "tags": []
   },
   "source": [
    "Cross Validate Model"
   ]
  },
  {
   "cell_type": "code",
   "execution_count": 57,
   "id": "6715f97d",
   "metadata": {
    "execution": {
     "iopub.execute_input": "2022-03-09T14:44:38.319973Z",
     "iopub.status.busy": "2022-03-09T14:44:38.319349Z",
     "iopub.status.idle": "2022-03-09T14:44:41.004537Z",
     "shell.execute_reply": "2022-03-09T14:44:41.004064Z"
    },
    "papermill": {
     "duration": 2.806197,
     "end_time": "2022-03-09T14:44:41.004678",
     "exception": false,
     "start_time": "2022-03-09T14:44:38.198481",
     "status": "completed"
    },
    "tags": []
   },
   "outputs": [
    {
     "data": {
      "text/plain": [
       "test_accuracy    0.693\n",
       "test_precision   0.545\n",
       "test_recall      0.834\n",
       "test_f1          0.656\n",
       "test_roc_auc     0.817\n",
       "dtype: float64"
      ]
     },
     "execution_count": 57,
     "metadata": {},
     "output_type": "execute_result"
    }
   ],
   "source": [
    "xgb_model_cv = XGBClassifier(random_state=101,verbosity = 0, **xgb_model_grid.best_params_)\n",
    "\n",
    "scores = cross_validate(xgb_model_cv, X_train, y_train, cv=10, \n",
    "                        scoring=['accuracy', 'precision', 'recall', 'f1', 'roc_auc'])\n",
    "df_scores = pd.DataFrame(scores, index=range(1, 11))\n",
    "df_scores.mean()[2:]\n"
   ]
  },
  {
   "cell_type": "markdown",
   "id": "7defd98b",
   "metadata": {
    "papermill": {
     "duration": 0.117876,
     "end_time": "2022-03-09T14:44:41.240829",
     "exception": false,
     "start_time": "2022-03-09T14:44:41.122953",
     "status": "completed"
    },
    "tags": []
   },
   "source": [
    "Feature Importance"
   ]
  },
  {
   "cell_type": "code",
   "execution_count": 58,
   "id": "d099cec2",
   "metadata": {
    "execution": {
     "iopub.execute_input": "2022-03-09T14:44:41.480142Z",
     "iopub.status.busy": "2022-03-09T14:44:41.479581Z",
     "iopub.status.idle": "2022-03-09T14:44:41.490013Z",
     "shell.execute_reply": "2022-03-09T14:44:41.489565Z"
    },
    "papermill": {
     "duration": 0.130577,
     "end_time": "2022-03-09T14:44:41.490144",
     "exception": false,
     "start_time": "2022-03-09T14:44:41.359567",
     "status": "completed"
    },
    "tags": []
   },
   "outputs": [
    {
     "data": {
      "text/html": [
       "<div>\n",
       "<style scoped>\n",
       "    .dataframe tbody tr th:only-of-type {\n",
       "        vertical-align: middle;\n",
       "    }\n",
       "\n",
       "    .dataframe tbody tr th {\n",
       "        vertical-align: top;\n",
       "    }\n",
       "\n",
       "    .dataframe thead th {\n",
       "        text-align: right;\n",
       "    }\n",
       "</style>\n",
       "<table border=\"1\" class=\"dataframe\">\n",
       "  <thead>\n",
       "    <tr style=\"text-align: right;\">\n",
       "      <th></th>\n",
       "      <th>Feature Importance</th>\n",
       "    </tr>\n",
       "  </thead>\n",
       "  <tbody>\n",
       "    <tr>\n",
       "      <th>Glucose</th>\n",
       "      <td>0.283</td>\n",
       "    </tr>\n",
       "    <tr>\n",
       "      <th>BMI</th>\n",
       "      <td>0.211</td>\n",
       "    </tr>\n",
       "    <tr>\n",
       "      <th>Age</th>\n",
       "      <td>0.158</td>\n",
       "    </tr>\n",
       "    <tr>\n",
       "      <th>SkinThickness</th>\n",
       "      <td>0.102</td>\n",
       "    </tr>\n",
       "    <tr>\n",
       "      <th>DiabetesPedigreeFunction</th>\n",
       "      <td>0.091</td>\n",
       "    </tr>\n",
       "    <tr>\n",
       "      <th>Insulin</th>\n",
       "      <td>0.078</td>\n",
       "    </tr>\n",
       "    <tr>\n",
       "      <th>Pregnancies</th>\n",
       "      <td>0.077</td>\n",
       "    </tr>\n",
       "    <tr>\n",
       "      <th>BloodPressure</th>\n",
       "      <td>0.000</td>\n",
       "    </tr>\n",
       "  </tbody>\n",
       "</table>\n",
       "</div>"
      ],
      "text/plain": [
       "                          Feature Importance\n",
       "Glucose                                0.283\n",
       "BMI                                    0.211\n",
       "Age                                    0.158\n",
       "SkinThickness                          0.102\n",
       "DiabetesPedigreeFunction               0.091\n",
       "Insulin                                0.078\n",
       "Pregnancies                            0.077\n",
       "BloodPressure                          0.000"
      ]
     },
     "execution_count": 58,
     "metadata": {},
     "output_type": "execute_result"
    }
   ],
   "source": [
    "df_f_i = pd.DataFrame(index=X.columns, data=xgb_model_grid.best_estimator_.feature_importances_,\n",
    "                      columns=[\"Feature Importance\"]).sort_values(\"Feature Importance\", ascending=False)\n",
    "df_f_i\n"
   ]
  },
  {
   "cell_type": "markdown",
   "id": "53820905",
   "metadata": {
    "papermill": {
     "duration": 0.118652,
     "end_time": "2022-03-09T14:44:41.727720",
     "exception": false,
     "start_time": "2022-03-09T14:44:41.609068",
     "status": "completed"
    },
    "tags": []
   },
   "source": [
    "Save Model Score"
   ]
  },
  {
   "cell_type": "code",
   "execution_count": 59,
   "id": "8fc507ce",
   "metadata": {
    "execution": {
     "iopub.execute_input": "2022-03-09T14:44:41.971265Z",
     "iopub.status.busy": "2022-03-09T14:44:41.970712Z",
     "iopub.status.idle": "2022-03-09T14:44:41.986892Z",
     "shell.execute_reply": "2022-03-09T14:44:41.986385Z"
    },
    "papermill": {
     "duration": 0.140801,
     "end_time": "2022-03-09T14:44:41.987027",
     "exception": false,
     "start_time": "2022-03-09T14:44:41.846226",
     "status": "completed"
    },
    "tags": []
   },
   "outputs": [
    {
     "data": {
      "text/html": [
       "<div>\n",
       "<style scoped>\n",
       "    .dataframe tbody tr th:only-of-type {\n",
       "        vertical-align: middle;\n",
       "    }\n",
       "\n",
       "    .dataframe tbody tr th {\n",
       "        vertical-align: top;\n",
       "    }\n",
       "\n",
       "    .dataframe thead th {\n",
       "        text-align: right;\n",
       "    }\n",
       "</style>\n",
       "<table border=\"1\" class=\"dataframe\">\n",
       "  <thead>\n",
       "    <tr style=\"text-align: right;\">\n",
       "      <th></th>\n",
       "      <th>F1</th>\n",
       "      <th>Recall</th>\n",
       "    </tr>\n",
       "  </thead>\n",
       "  <tbody>\n",
       "    <tr>\n",
       "      <th>logistic_regression</th>\n",
       "      <td>0.781</td>\n",
       "      <td>0.735</td>\n",
       "    </tr>\n",
       "    <tr>\n",
       "      <th>knn</th>\n",
       "      <td>0.736</td>\n",
       "      <td>0.612</td>\n",
       "    </tr>\n",
       "    <tr>\n",
       "      <th>svm</th>\n",
       "      <td>0.631</td>\n",
       "      <td>0.939</td>\n",
       "    </tr>\n",
       "    <tr>\n",
       "      <th>dt</th>\n",
       "      <td>0.770</td>\n",
       "      <td>0.653</td>\n",
       "    </tr>\n",
       "    <tr>\n",
       "      <th>rf</th>\n",
       "      <td>0.736</td>\n",
       "      <td>0.755</td>\n",
       "    </tr>\n",
       "    <tr>\n",
       "      <th>ada</th>\n",
       "      <td>0.772</td>\n",
       "      <td>0.592</td>\n",
       "    </tr>\n",
       "    <tr>\n",
       "      <th>gboost</th>\n",
       "      <td>0.796</td>\n",
       "      <td>0.653</td>\n",
       "    </tr>\n",
       "    <tr>\n",
       "      <th>xgboost</th>\n",
       "      <td>0.729</td>\n",
       "      <td>0.857</td>\n",
       "    </tr>\n",
       "  </tbody>\n",
       "</table>\n",
       "</div>"
      ],
      "text/plain": [
       "                       F1  Recall\n",
       "logistic_regression 0.781   0.735\n",
       "knn                 0.736   0.612\n",
       "svm                 0.631   0.939\n",
       "dt                  0.770   0.653\n",
       "rf                  0.736   0.755\n",
       "ada                 0.772   0.592\n",
       "gboost              0.796   0.653\n",
       "xgboost             0.729   0.857"
      ]
     },
     "execution_count": 59,
     "metadata": {},
     "output_type": "execute_result"
    }
   ],
   "source": [
    "y_pred_xgb = xgb_model_grid.predict(X_test)\n",
    "res = pd.DataFrame({\"F1\": f1_score(y_test, y_pred_xgb, average=\"weighted\"),\n",
    "                    \"Recall\": recall_score(y_test, y_pred_xgb)}, index=[\"xgboost\"])\n",
    "result = pd.concat([result, res], axis=0)\n",
    "result\n"
   ]
  },
  {
   "cell_type": "markdown",
   "id": "669e1670",
   "metadata": {
    "papermill": {
     "duration": 0.119932,
     "end_time": "2022-03-09T14:44:42.226987",
     "exception": false,
     "start_time": "2022-03-09T14:44:42.107055",
     "status": "completed"
    },
    "tags": []
   },
   "source": [
    "---"
   ]
  },
  {
   "cell_type": "markdown",
   "id": "d7e070c7",
   "metadata": {
    "papermill": {
     "duration": 0.173188,
     "end_time": "2022-03-09T14:44:42.520757",
     "exception": false,
     "start_time": "2022-03-09T14:44:42.347569",
     "status": "completed"
    },
    "tags": []
   },
   "source": [
    "# Compare Models"
   ]
  },
  {
   "cell_type": "code",
   "execution_count": 60,
   "id": "2dd64178",
   "metadata": {
    "execution": {
     "iopub.execute_input": "2022-03-09T14:44:42.771497Z",
     "iopub.status.busy": "2022-03-09T14:44:42.770883Z",
     "iopub.status.idle": "2022-03-09T14:44:42.777933Z",
     "shell.execute_reply": "2022-03-09T14:44:42.778400Z"
    },
    "papermill": {
     "duration": 0.134077,
     "end_time": "2022-03-09T14:44:42.778571",
     "exception": false,
     "start_time": "2022-03-09T14:44:42.644494",
     "status": "completed"
    },
    "tags": []
   },
   "outputs": [
    {
     "data": {
      "text/html": [
       "<div>\n",
       "<style scoped>\n",
       "    .dataframe tbody tr th:only-of-type {\n",
       "        vertical-align: middle;\n",
       "    }\n",
       "\n",
       "    .dataframe tbody tr th {\n",
       "        vertical-align: top;\n",
       "    }\n",
       "\n",
       "    .dataframe thead th {\n",
       "        text-align: right;\n",
       "    }\n",
       "</style>\n",
       "<table border=\"1\" class=\"dataframe\">\n",
       "  <thead>\n",
       "    <tr style=\"text-align: right;\">\n",
       "      <th></th>\n",
       "      <th>F1</th>\n",
       "      <th>Recall</th>\n",
       "    </tr>\n",
       "  </thead>\n",
       "  <tbody>\n",
       "    <tr>\n",
       "      <th>logistic_regression</th>\n",
       "      <td>0.781</td>\n",
       "      <td>0.735</td>\n",
       "    </tr>\n",
       "    <tr>\n",
       "      <th>knn</th>\n",
       "      <td>0.736</td>\n",
       "      <td>0.612</td>\n",
       "    </tr>\n",
       "    <tr>\n",
       "      <th>svm</th>\n",
       "      <td>0.631</td>\n",
       "      <td>0.939</td>\n",
       "    </tr>\n",
       "    <tr>\n",
       "      <th>dt</th>\n",
       "      <td>0.770</td>\n",
       "      <td>0.653</td>\n",
       "    </tr>\n",
       "    <tr>\n",
       "      <th>rf</th>\n",
       "      <td>0.736</td>\n",
       "      <td>0.755</td>\n",
       "    </tr>\n",
       "    <tr>\n",
       "      <th>ada</th>\n",
       "      <td>0.772</td>\n",
       "      <td>0.592</td>\n",
       "    </tr>\n",
       "    <tr>\n",
       "      <th>gboost</th>\n",
       "      <td>0.796</td>\n",
       "      <td>0.653</td>\n",
       "    </tr>\n",
       "    <tr>\n",
       "      <th>xgboost</th>\n",
       "      <td>0.729</td>\n",
       "      <td>0.857</td>\n",
       "    </tr>\n",
       "  </tbody>\n",
       "</table>\n",
       "</div>"
      ],
      "text/plain": [
       "                       F1  Recall\n",
       "logistic_regression 0.781   0.735\n",
       "knn                 0.736   0.612\n",
       "svm                 0.631   0.939\n",
       "dt                  0.770   0.653\n",
       "rf                  0.736   0.755\n",
       "ada                 0.772   0.592\n",
       "gboost              0.796   0.653\n",
       "xgboost             0.729   0.857"
      ]
     },
     "execution_count": 60,
     "metadata": {},
     "output_type": "execute_result"
    }
   ],
   "source": [
    "result"
   ]
  },
  {
   "cell_type": "markdown",
   "id": "26ccf3af",
   "metadata": {
    "papermill": {
     "duration": 0.119786,
     "end_time": "2022-03-09T14:44:43.020539",
     "exception": false,
     "start_time": "2022-03-09T14:44:42.900753",
     "status": "completed"
    },
    "tags": []
   },
   "source": [
    "## ROC/AUC "
   ]
  },
  {
   "cell_type": "code",
   "execution_count": 61,
   "id": "465b2a5f",
   "metadata": {
    "execution": {
     "iopub.execute_input": "2022-03-09T14:44:43.286779Z",
     "iopub.status.busy": "2022-03-09T14:44:43.271019Z",
     "iopub.status.idle": "2022-03-09T14:44:43.640018Z",
     "shell.execute_reply": "2022-03-09T14:44:43.639440Z"
    },
    "papermill": {
     "duration": 0.498931,
     "end_time": "2022-03-09T14:44:43.640149",
     "exception": false,
     "start_time": "2022-03-09T14:44:43.141218",
     "status": "completed"
    },
    "tags": []
   },
   "outputs": [
    {
     "data": {
      "image/png": "[encoded data removed]",
      "text/plain": [
       "<Figure size 720x432 with 1 Axes>"
      ]
     },
     "metadata": {
      "needs_background": "light"
     },
     "output_type": "display_data"
    }
   ],
   "source": [
    "fig = plot_roc_curve(lr_model_grid, X_test, y_test, name=\"Logistic Regression\")\n",
    "fig = plot_roc_curve(knn_model_grid, X_test, y_test, name=\"KNN\", ax=fig.ax_)\n",
    "fig = plot_roc_curve(svm_model_grid, X_test, y_test, name=\"SVM\", ax=fig.ax_)\n",
    "fig = plot_roc_curve(dt_model_grid, X_test, y_test, name=\"Decision Tree\", ax=fig.ax_)\n",
    "fig = plot_roc_curve(rf_model_grid, X_test, y_test, name=\"Random Forest\", ax=fig.ax_)\n",
    "fig = plot_roc_curve(ada_model_grid, X_test, y_test, name=\"Ada Boost\", ax=fig.ax_)\n",
    "fig = plot_roc_curve(gb_model_grid, X_test, y_test, name=\"Gradient Boost\", ax=fig.ax_)\n",
    "fig = plot_roc_curve(xgb_model_grid, X_test, y_test, name=\"XGradient Boost\", ax=fig.ax_)\n"
   ]
  },
  {
   "cell_type": "markdown",
   "id": "1be7fe08",
   "metadata": {
    "papermill": {
     "duration": 0.123516,
     "end_time": "2022-03-09T14:44:43.886188",
     "exception": false,
     "start_time": "2022-03-09T14:44:43.762672",
     "status": "completed"
    },
    "tags": []
   },
   "source": [
    "## Presicion-Recall/AP"
   ]
  },
  {
   "cell_type": "code",
   "execution_count": 62,
   "id": "1b731561",
   "metadata": {
    "execution": {
     "iopub.execute_input": "2022-03-09T14:44:44.142360Z",
     "iopub.status.busy": "2022-03-09T14:44:44.141750Z",
     "iopub.status.idle": "2022-03-09T14:44:44.509968Z",
     "shell.execute_reply": "2022-03-09T14:44:44.509252Z"
    },
    "papermill": {
     "duration": 0.500519,
     "end_time": "2022-03-09T14:44:44.510109",
     "exception": false,
     "start_time": "2022-03-09T14:44:44.009590",
     "status": "completed"
    },
    "tags": []
   },
   "outputs": [
    {
     "data": {
      "image/png": "[encoded data removed]",
      "text/plain": [
       "<Figure size 720x432 with 1 Axes>"
      ]
     },
     "metadata": {
      "needs_background": "light"
     },
     "output_type": "display_data"
    }
   ],
   "source": [
    "fig = plot_precision_recall_curve(lr_model_grid, X_test, y_test, name=\"Logistic Regression\")\n",
    "fig = plot_precision_recall_curve(knn_model_grid, X_test, y_test, name=\"KNN\", ax=fig.ax_)\n",
    "fig = plot_precision_recall_curve(svm_model_grid, X_test, y_test, name=\"SVM\", ax=fig.ax_)\n",
    "fig = plot_precision_recall_curve(dt_model_grid, X_test, y_test, name=\"Decision Tree\", ax=fig.ax_)\n",
    "fig = plot_precision_recall_curve(rf_model_grid, X_test, y_test, name=\"Random Forest\", ax=fig.ax_)\n",
    "fig = plot_precision_recall_curve(ada_model_grid, X_test, y_test, name=\"Ada Boost\", ax=fig.ax_)\n",
    "fig = plot_precision_recall_curve(gb_model_grid, X_test, y_test, name=\"Gradient Boost\", ax=fig.ax_)\n",
    "fig = plot_precision_recall_curve(xgb_model_grid, X_test, y_test, name=\"XGradient Boost\", ax=fig.ax_)\n"
   ]
  },
  {
   "cell_type": "markdown",
   "id": "f8b7d152",
   "metadata": {
    "papermill": {
     "duration": 0.123241,
     "end_time": "2022-03-09T14:44:44.762462",
     "exception": false,
     "start_time": "2022-03-09T14:44:44.639221",
     "status": "completed"
    },
    "tags": []
   },
   "source": [
    "# Conclusion"
   ]
  },
  {
   "cell_type": "markdown",
   "id": "71a7050c",
   "metadata": {
    "papermill": {
     "duration": 0.125488,
     "end_time": "2022-03-09T14:44:45.010854",
     "exception": false,
     "start_time": "2022-03-09T14:44:44.885366",
     "status": "completed"
    },
    "tags": []
   },
   "source": [
    "This notebook is prepared for a complete reference guide in classification tasks. A general performance metrics are explained first, then machine learning algorithms are applied in a clean, unbalanced small dataset. One can use the codes here to start a model training."
   ]
  },
  {
   "cell_type": "markdown",
   "id": "2092812b",
   "metadata": {
    "papermill": {
     "duration": 0.122716,
     "end_time": "2022-03-09T14:44:45.257761",
     "exception": false,
     "start_time": "2022-03-09T14:44:45.135045",
     "status": "completed"
    },
    "tags": []
   },
   "source": [
    ">Credits: The most codes and the images that are not referenced are adapted from [Clarusway](https://www.clarusway.com) Data Science course materials."
   ]
  },
  {
   "cell_type": "markdown",
   "id": "0a956b2d",
   "metadata": {
    "papermill": {
     "duration": 0.123855,
     "end_time": "2022-03-09T14:44:45.504796",
     "exception": false,
     "start_time": "2022-03-09T14:44:45.380941",
     "status": "completed"
    },
    "tags": []
   },
   "source": [
    "Prepared by Halil Saglamlar\n",
    "\n",
    "e-mail: hsaglamlar@gmail.com"
   ]
  }
 ],
 "metadata": {
  "kernelspec": {
   "display_name": "Python 3",
   "language": "python",
   "name": "python3"
  },
  "language_info": {
   "codemirror_mode": {
    "name": "ipython",
    "version": 3
   },
   "file_extension": ".py",
   "mimetype": "text/x-python",
   "name": "python",
   "nbconvert_exporter": "python",
   "pygments_lexer": "ipython3",
   "version": "3.7.12"
  },
  "papermill": {
   "default_parameters": {},
   "duration": 2171.091793,
   "end_time": "2022-03-09T14:44:46.443170",
   "environment_variables": {},
   "exception": null,
   "input_path": "__notebook__.ipynb",
   "output_path": "__notebook__.ipynb",
   "parameters": {},
   "start_time": "2022-03-09T14:08:35.351377",
   "version": "2.3.3"
  }
 },
 "nbformat": 4,
 "nbformat_minor": 5
}
